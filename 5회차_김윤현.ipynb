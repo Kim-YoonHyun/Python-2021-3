{
  "nbformat": 4,
  "nbformat_minor": 0,
  "metadata": {
    "colab": {
      "name": "5회차_김윤현.ipynb",
      "provenance": [],
      "collapsed_sections": []
    },
    "kernelspec": {
      "name": "python3",
      "display_name": "Python 3"
    },
    "language_info": {
      "name": "python"
    }
  },
  "cells": [
    {
      "cell_type": "markdown",
      "metadata": {
        "id": "FgVwXhZdwO5J"
      },
      "source": [
        "## Unit 8. 심사문제"
      ]
    },
    {
      "cell_type": "code",
      "metadata": {
        "colab": {
          "base_uri": "https://localhost:8080/"
        },
        "id": "nbDKcJl0wCZN",
        "outputId": "42d8fe99-f421-4fa6-ea10-95628836a743"
      },
      "source": [
        "kor, eng, math, sci = map(int, input().split())\n",
        "print(kor >= 90 and eng > 80 and math > 85 and sci >= 80)"
      ],
      "execution_count": 4,
      "outputs": [
        {
          "output_type": "stream",
          "text": [
            "90 80 85 80\n",
            "False\n"
          ],
          "name": "stdout"
        }
      ]
    },
    {
      "cell_type": "markdown",
      "metadata": {
        "id": "EcV4niQhw3mi"
      },
      "source": [
        "## Unit 9. 심사문제"
      ]
    },
    {
      "cell_type": "code",
      "metadata": {
        "colab": {
          "base_uri": "https://localhost:8080/"
        },
        "id": "m8Km1KOkwYBX",
        "outputId": "c628b622-ce6e-4f82-c2cd-d3ef46f03fe9"
      },
      "source": [
        "s = \"\"\"'python' is a \"programming language\" \n",
        "that lets you work quickly\n",
        "an\n",
        "integrate systems more effectively.\"\"\"\n",
        "print(s)"
      ],
      "execution_count": 15,
      "outputs": [
        {
          "output_type": "stream",
          "text": [
            "'python' is a \"programming language\" \n",
            "that lets you work quickly\n",
            "an\n",
            "integrate systems more effectively.\n"
          ],
          "name": "stdout"
        }
      ]
    },
    {
      "cell_type": "markdown",
      "metadata": {
        "id": "HrrZ8qFpyRpB"
      },
      "source": [
        "## Unit 10. 심사문제"
      ]
    },
    {
      "cell_type": "code",
      "metadata": {
        "colab": {
          "base_uri": "https://localhost:8080/"
        },
        "id": "_ISRkV2gxMB3",
        "outputId": "ad1f9f28-0de3-45cf-e52f-a33e9903d43c"
      },
      "source": [
        "number = int(input())\n",
        "a = tuple(list(range(-10, 10, number)))\n",
        "print(a)"
      ],
      "execution_count": 26,
      "outputs": [
        {
          "output_type": "stream",
          "text": [
            "3\n",
            "(-10, -7, -4, -1, 2, 5, 8)\n"
          ],
          "name": "stdout"
        }
      ]
    },
    {
      "cell_type": "markdown",
      "metadata": {
        "id": "uuzZrUCDzKwy"
      },
      "source": [
        "## Unit 11. 심사문제"
      ]
    },
    {
      "cell_type": "markdown",
      "metadata": {
        "id": "4FsgDqkXzOih"
      },
      "source": [
        "### 질문 1"
      ]
    },
    {
      "cell_type": "code",
      "metadata": {
        "colab": {
          "base_uri": "https://localhost:8080/"
        },
        "id": "VC9LvM__ypAA",
        "outputId": "b6cc947e-5fe4-4be2-e306-c2abf8d66ede"
      },
      "source": [
        "x = input().split()\n",
        "del x[-5:]\n",
        "print(tuple(x))"
      ],
      "execution_count": 36,
      "outputs": [
        {
          "output_type": "stream",
          "text": [
            "1 2 3 4 5 6 7 8 9 10 11 12 16 15 8 1 5 6 2 \n",
            "('1', '2', '3', '4', '5', '6', '7', '8', '9', '10', '11', '12', '16', '15')\n"
          ],
          "name": "stdout"
        }
      ]
    },
    {
      "cell_type": "markdown",
      "metadata": {
        "id": "SP9BJGnW0dTo"
      },
      "source": [
        "질문 2"
      ]
    },
    {
      "cell_type": "code",
      "metadata": {
        "colab": {
          "base_uri": "https://localhost:8080/"
        },
        "id": "PKKubRwWzW1f",
        "outputId": "41b7ddd2-55e9-46ac-f6a2-0e97b7a49fb6"
      },
      "source": [
        "string1 = input()\n",
        "string2 = input()\n",
        "print(string1[1:len(string1):2] + string2[0:len(string2):2])"
      ],
      "execution_count": 42,
      "outputs": [
        {
          "output_type": "stream",
          "text": [
            "apple\n",
            "strawberry\n",
            "plsrwer\n"
          ],
          "name": "stdout"
        }
      ]
    },
    {
      "cell_type": "markdown",
      "metadata": {
        "id": "2byyXMnB1Yna"
      },
      "source": [
        "## Unit 12. 심사문제"
      ]
    },
    {
      "cell_type": "code",
      "metadata": {
        "colab": {
          "base_uri": "https://localhost:8080/"
        },
        "id": "YdGekE3h01uT",
        "outputId": "11d91666-2901-45da-df51-7dc7c8426d87"
      },
      "source": [
        "word = input().split()\n",
        "number = input().split()\n",
        "number = map(float, number)\n",
        "print(dict(zip(word, number)))"
      ],
      "execution_count": 46,
      "outputs": [
        {
          "output_type": "stream",
          "text": [
            "health mana melee attack_speed magic_resistance\n",
            "573.6 308.8 600 0.625 35.7\n",
            "{'health': 573.6, 'mana': 308.8, 'melee': 600.0, 'attack_speed': 0.625, 'magic_resistance': 35.7}\n"
          ],
          "name": "stdout"
        }
      ]
    },
    {
      "cell_type": "markdown",
      "metadata": {
        "id": "KnaBl4cU2odv"
      },
      "source": [
        "## Unit 13. 심사문제"
      ]
    },
    {
      "cell_type": "code",
      "metadata": {
        "colab": {
          "base_uri": "https://localhost:8080/"
        },
        "id": "aiDy0_l_2JFF",
        "outputId": "e3cf4e0b-69bb-42bc-bed3-d65b16107d72"
      },
      "source": [
        "price = int(input())\n",
        "coupon_name = input()\n",
        "if coupon_name == 'Cash3000':\n",
        "  price -= 3000\n",
        "if coupon_name == 'Cash5000':\n",
        "  price -= 5000\n",
        "print(price)"
      ],
      "execution_count": 47,
      "outputs": [
        {
          "output_type": "stream",
          "text": [
            "27000\n",
            "Cash3000\n",
            "24000\n"
          ],
          "name": "stdout"
        }
      ]
    },
    {
      "cell_type": "markdown",
      "metadata": {
        "id": "MmCrIwZn3N1R"
      },
      "source": [
        "## Unit 14. 심사문제"
      ]
    },
    {
      "cell_type": "code",
      "metadata": {
        "colab": {
          "base_uri": "https://localhost:8080/"
        },
        "id": "105UhuU_3DSV",
        "outputId": "575f4522-8c32-4c1f-9ed9-525f60669503"
      },
      "source": [
        "kor, eng, math, sci = map(int, input().split())\n",
        "if (kor < 0 or kor > 100) or (eng < 0 or eng > 100) or (math < 0 or math > 100) or (sci < 0 or sci > 100):\n",
        "   print('잘못된 점수')\n",
        "else:\n",
        "   if (kor + eng + math + sci)/4 >= 80:\n",
        "     print('합격')\n",
        "   else:  \n",
        "     print('불합격')"
      ],
      "execution_count": 68,
      "outputs": [
        {
          "output_type": "stream",
          "text": [
            "101 20 98 95\n",
            "잘못된 점수\n"
          ],
          "name": "stdout"
        }
      ]
    },
    {
      "cell_type": "code",
      "metadata": {
        "id": "3b8q7wSH4mWY"
      },
      "source": [
        ""
      ],
      "execution_count": null,
      "outputs": []
    }
  ]
}