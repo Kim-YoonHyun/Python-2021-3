{
  "nbformat": 4,
  "nbformat_minor": 0,
  "metadata": {
    "colab": {
      "name": "u16-19_심사문제.ipynb",
      "provenance": [],
      "collapsed_sections": []
    },
    "kernelspec": {
      "name": "python3",
      "display_name": "Python 3"
    },
    "language_info": {
      "name": "python"
    }
  },
  "cells": [
    {
      "cell_type": "markdown",
      "metadata": {
        "id": "f9upl7IRBiAk"
      },
      "source": [
        "## Unit 16. 심사문제"
      ]
    },
    {
      "cell_type": "code",
      "metadata": {
        "colab": {
          "base_uri": "https://localhost:8080/"
        },
        "id": "IgWWdUkIBJwx",
        "outputId": "ef5567bc-8f8e-46d3-cc08-c2a144cf8ec1"
      },
      "source": [
        "number = int(input())\n",
        "for i in range(1, 10):\n",
        "  print(f'{number} * {i} = {number * i}')"
      ],
      "execution_count": 1,
      "outputs": [
        {
          "output_type": "stream",
          "text": [
            "2\n",
            "2 * 1 = 2\n",
            "2 * 2 = 4\n",
            "2 * 3 = 6\n",
            "2 * 4 = 8\n",
            "2 * 5 = 10\n",
            "2 * 6 = 12\n",
            "2 * 7 = 14\n",
            "2 * 8 = 16\n",
            "2 * 9 = 18\n"
          ],
          "name": "stdout"
        }
      ]
    },
    {
      "cell_type": "markdown",
      "metadata": {
        "id": "nw2eIqnqB_PC"
      },
      "source": [
        "## Unit 17. 심사문제"
      ]
    },
    {
      "cell_type": "code",
      "metadata": {
        "colab": {
          "base_uri": "https://localhost:8080/"
        },
        "id": "CCSJ00e9Ba2L",
        "outputId": "0f08ce5d-7ad1-4293-b557-18d163b30757"
      },
      "source": [
        "cash = int(input())\n",
        "while cash >= 1350:\n",
        "  cash -= 1350\n",
        "  print(cash)"
      ],
      "execution_count": 5,
      "outputs": [
        {
          "output_type": "stream",
          "text": [
            "13500\n",
            "12150\n",
            "10800\n",
            "9450\n",
            "8100\n",
            "6750\n",
            "5400\n",
            "4050\n",
            "2700\n",
            "1350\n",
            "0\n"
          ],
          "name": "stdout"
        }
      ]
    },
    {
      "cell_type": "markdown",
      "metadata": {
        "id": "t_U2NyJkC_g3"
      },
      "source": [
        "## Unit 18. 심사문제"
      ]
    },
    {
      "cell_type": "code",
      "metadata": {
        "colab": {
          "base_uri": "https://localhost:8080/"
        },
        "id": "sTN2h7a0CQVM",
        "outputId": "dcbd3316-8cce-4e69-a1f3-054b34ec2509"
      },
      "source": [
        "start, stop = map(int, input().split())\n",
        "i = start\n",
        "while True:\n",
        "  if i > stop:\n",
        "    break\n",
        "  if i%10 != 3:\n",
        "    print(i, end=' ')\n",
        "  i += 1"
      ],
      "execution_count": 18,
      "outputs": [
        {
          "output_type": "stream",
          "text": [
            "1 154\n",
            "1 2 4 5 6 7 8 9 10 11 12 14 15 16 17 18 19 20 21 22 24 25 26 27 28 29 30 31 32 34 35 36 37 38 39 40 41 42 44 45 46 47 48 49 50 51 52 54 55 56 57 58 59 60 61 62 64 65 66 67 68 69 70 71 72 74 75 76 77 78 79 80 81 82 84 85 86 87 88 89 90 91 92 94 95 96 97 98 99 100 101 102 104 105 106 107 108 109 110 111 112 114 115 116 117 118 119 120 121 122 124 125 126 127 128 129 130 131 132 134 135 136 137 138 139 140 141 142 144 145 146 147 148 149 150 151 152 154 "
          ],
          "name": "stdout"
        }
      ]
    },
    {
      "cell_type": "markdown",
      "metadata": {
        "id": "IINycLa9FR5i"
      },
      "source": [
        "## Unit 19. 심사문제"
      ]
    },
    {
      "cell_type": "code",
      "metadata": {
        "colab": {
          "base_uri": "https://localhost:8080/"
        },
        "id": "GE0Pvo_dD9YZ",
        "outputId": "5a3cc975-373c-4349-be0b-6d76739bf889"
      },
      "source": [
        "number = int(input())\n",
        "\n",
        "for i in range(1, number + 1):\n",
        "  for j in range(number - i):\n",
        "    print(' ', end='')\n",
        "  for k in range(i*2 - 1):\n",
        "    print('*', end='')\n",
        "  print()  "
      ],
      "execution_count": 51,
      "outputs": [
        {
          "output_type": "stream",
          "text": [
            "5\n",
            "    *\n",
            "   ***\n",
            "  *****\n",
            " *******\n",
            "*********\n"
          ],
          "name": "stdout"
        }
      ]
    },
    {
      "cell_type": "markdown",
      "metadata": {
        "id": "_k6MUe5DJPp7"
      },
      "source": [
        "# Unit 19. 심사문제"
      ]
    },
    {
      "cell_type": "code",
      "metadata": {
        "colab": {
          "base_uri": "https://localhost:8080/"
        },
        "id": "5NmK1q8EFoCu",
        "outputId": "375d4d0a-5536-42ec-c640-fe8e8b68859d"
      },
      "source": [
        "a = [1, 2, 3]\n",
        "a.clear()\n",
        "print(a)"
      ],
      "execution_count": 65,
      "outputs": [
        {
          "output_type": "stream",
          "text": [
            "[]\n"
          ],
          "name": "stdout"
        }
      ]
    },
    {
      "cell_type": "markdown",
      "metadata": {
        "id": "4CS0Ac9vKhnQ"
      },
      "source": [
        "## Unit 22. 심사문제"
      ]
    },
    {
      "cell_type": "code",
      "metadata": {
        "colab": {
          "base_uri": "https://localhost:8080/"
        },
        "id": "NyTvUQjNJblF",
        "outputId": "f558be62-e926-4601-a58e-07ee1f0267bb"
      },
      "source": [
        "number1, number2 = map(int, input().split())\n",
        "number_list = list(2**i for i in range(number1, number2 + 1))\n",
        "del number_list[1]\n",
        "del number_list[-2]\n",
        "print(number_list)"
      ],
      "execution_count": 83,
      "outputs": [
        {
          "output_type": "stream",
          "text": [
            "10 20\n",
            "[1024, 4096, 8192, 16384, 32768, 65536, 131072, 262144, 1048576]\n"
          ],
          "name": "stdout"
        }
      ]
    },
    {
      "cell_type": "code",
      "metadata": {
        "id": "PzqXFYgoKoZm"
      },
      "source": [
        ""
      ],
      "execution_count": null,
      "outputs": []
    }
  ]
}