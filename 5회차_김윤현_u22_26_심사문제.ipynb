{
  "nbformat": 4,
  "nbformat_minor": 0,
  "metadata": {
    "colab": {
      "name": "5회차_김윤현_u22-26_심사문제.ipynb",
      "provenance": [],
      "collapsed_sections": []
    },
    "kernelspec": {
      "name": "python3",
      "display_name": "Python 3"
    },
    "language_info": {
      "name": "python"
    }
  },
  "cells": [
    {
      "cell_type": "markdown",
      "metadata": {
        "id": "RM3Uq8U0-QCC"
      },
      "source": [
        "## Unit 22. 심사문제"
      ]
    },
    {
      "cell_type": "code",
      "metadata": {
        "colab": {
          "base_uri": "https://localhost:8080/"
        },
        "id": "zD1gjFAq92sN",
        "outputId": "c581e4be-81e5-44d2-c311-033e25ab129c"
      },
      "source": [
        "number1, number2 = map(int, input().split())\n",
        "cal_list = [2**i for i in range(number1, number2+1)]\n",
        "del cal_list[1]\n",
        "del cal_list[-2]\n",
        "print(cal_list)"
      ],
      "execution_count": 5,
      "outputs": [
        {
          "output_type": "stream",
          "text": [
            "1 10\n",
            "[2, 8, 16, 32, 64, 128, 256, 1024]\n"
          ],
          "name": "stdout"
        }
      ]
    },
    {
      "cell_type": "markdown",
      "metadata": {
        "id": "GiknmOgfAj6i"
      },
      "source": [
        "Unit 23. 심사문제"
      ]
    },
    {
      "cell_type": "code",
      "metadata": {
        "colab": {
          "base_uri": "https://localhost:8080/"
        },
        "id": "Qc8GqkHx_5MK",
        "outputId": "7a510adb-0eb1-4cc8-ea28-72b4b6578242"
      },
      "source": [
        "# 값 입력 및 padding\n",
        "col_number, row_number = map(int, input().split())\n",
        "matrix = []\n",
        "for i in range(row_number):\n",
        "  matrix.append(list('p' + input() + 'p'))\n",
        "matrix.insert(0, ['p' for _ in range(col_number + 2)])\n",
        "matrix.append(['p' for _ in range(col_number + 2)])\n",
        "\n",
        "# 주위 지뢰 갯수 계산\n",
        "for col_index, col_list_element in enumerate(matrix):\n",
        "  for row_index, row_element in enumerate(col_list_element):\n",
        "    if row_element == '.' :\n",
        "      temp_list = [matrix[i][j] for i in range(col_index - 1, col_index + 2)\n",
        "                                  for j in range(row_index - 1, row_index + 2)]\n",
        "      temp_number = temp_list.count('*')\n",
        "      matrix[col_index][row_index] = temp_number\n",
        "\n",
        "# padding 삭제\n",
        "del matrix[0], matrix[-1]\n",
        "for i in range(row_number):\n",
        "  del matrix[i][0], matrix[i][-1]\n",
        "\n",
        "# 결과\n",
        "for col_index, col_list_element in enumerate(matrix):\n",
        "  for row_index, row_element in enumerate(col_list_element):\n",
        "    print(row_element, end=' ')\n",
        "  print()"
      ],
      "execution_count": 97,
      "outputs": [
        {
          "output_type": "stream",
          "text": [
            "3 3\n",
            ".**\n",
            "*..\n",
            ".*.\n",
            "2 * * \n",
            "* 4 3 \n",
            "2 * 1 \n"
          ],
          "name": "stdout"
        }
      ]
    },
    {
      "cell_type": "markdown",
      "metadata": {
        "id": "28RR_8CcTyvT"
      },
      "source": [
        "## Unit 24. 심사문제"
      ]
    },
    {
      "cell_type": "markdown",
      "metadata": {
        "id": "0vIIXuKVXZbU"
      },
      "source": [
        "### 질문 1"
      ]
    },
    {
      "cell_type": "code",
      "metadata": {
        "colab": {
          "base_uri": "https://localhost:8080/"
        },
        "id": "gxkgaEuLArom",
        "outputId": "7fdd0c38-e640-484e-da76-c95a00285992"
      },
      "source": [
        "string = list(input().split(' '))\n",
        "for idx, text in enumerate(string):\n",
        "  string[idx] = text.strip('.,-')\n",
        "print(string.count('the'))"
      ],
      "execution_count": 125,
      "outputs": [
        {
          "output_type": "stream",
          "text": [
            "the grown-ups' response, this time, was to advise me to lay aside my drawings of boa constrictors, whether from the inside or the outside, and devote myself instead to geography, history, arithmetic, and grammar. That is why, at the, age of six, I gave up what might have been a magnificent career as a painter. I had been disheartened by the failure of my Drawing Number One and my Drawing Number Two. Grown-ups never understand anything by themselves, and it is tiresome for children to be always and forever explaining things to the.\n",
            "6\n"
          ],
          "name": "stdout"
        }
      ]
    },
    {
      "cell_type": "markdown",
      "metadata": {
        "id": "oYhaEZ4WXbKJ"
      },
      "source": [
        "### 질문 2"
      ]
    },
    {
      "cell_type": "code",
      "metadata": {
        "colab": {
          "base_uri": "https://localhost:8080/"
        },
        "id": "rQBEb9U5T-8z",
        "outputId": "02955ac0-0944-4d7d-a128-99c6afd60467"
      },
      "source": [
        "string =list(input().split(';'))\n",
        "string = sorted([int(string[idx]) for idx, text in enumerate(string)], reverse=True)\n",
        "for idx, text in enumerate(string):\n",
        "  print(f'{string[idx]:9,d}')"
      ],
      "execution_count": 179,
      "outputs": [
        {
          "output_type": "stream",
          "text": [
            "51900;83000;158000;367500;250000;59200;128500;1304000\n",
            "1,304,000\n",
            "  367,500\n",
            "  250,000\n",
            "  158,000\n",
            "  128,500\n",
            "   83,000\n",
            "   59,200\n",
            "   51,900\n"
          ],
          "name": "stdout"
        }
      ]
    },
    {
      "cell_type": "markdown",
      "metadata": {
        "id": "QpXn-CsZbwV6"
      },
      "source": [
        "## Unit 25. 심사문제"
      ]
    },
    {
      "cell_type": "code",
      "metadata": {
        "colab": {
          "base_uri": "https://localhost:8080/"
        },
        "id": "vGMSAMUqbfxF",
        "outputId": "953a7633-19a7-4069-fcd5-24b98a73af0b"
      },
      "source": [
        "keys = input().split()\n",
        "values = map(int, input().split())\n",
        " \n",
        "x = dict(zip(keys, values))\n",
        "\n",
        "del x['delta']\n",
        "a = {key: value for key, value in x.items() if value != 30}\n",
        "print(a)"
      ],
      "execution_count": 204,
      "outputs": [
        {
          "output_type": "stream",
          "text": [
            "alpha bravo charlie delta echo foxtrot golf\n",
            "30 40 50 60 70 80 90\n",
            "{'bravo': 40, 'charlie': 50, 'echo': 70, 'foxtrot': 80, 'golf': 90}\n"
          ],
          "name": "stdout"
        }
      ]
    },
    {
      "cell_type": "markdown",
      "metadata": {
        "id": "wbeu2fpRiyk-"
      },
      "source": [
        "## Unit 26. 심사문제"
      ]
    },
    {
      "cell_type": "code",
      "metadata": {
        "colab": {
          "base_uri": "https://localhost:8080/"
        },
        "id": "nT-IS-XVeD1t",
        "outputId": "aab5a894-c286-41fa-ca9c-6bb48f8a1b27"
      },
      "source": [
        "number1, number2 = map(int, input().split())\n",
        "number1_set = {i for i in range(1, number1 + 1) if number1 % i == 0}\n",
        "number2_set = {i for i in range(1, number2 + 1) if number2 % i == 0}\n",
        "\n",
        "sum(number1_set & number2_set)"
      ],
      "execution_count": 219,
      "outputs": [
        {
          "output_type": "stream",
          "text": [
            "100 200\n"
          ],
          "name": "stdout"
        },
        {
          "output_type": "execute_result",
          "data": {
            "text/plain": [
              "217"
            ]
          },
          "metadata": {
            "tags": []
          },
          "execution_count": 219
        }
      ]
    },
    {
      "cell_type": "code",
      "metadata": {
        "id": "W35SkCTsjdhb"
      },
      "source": [
        ""
      ],
      "execution_count": 209,
      "outputs": []
    }
  ]
}