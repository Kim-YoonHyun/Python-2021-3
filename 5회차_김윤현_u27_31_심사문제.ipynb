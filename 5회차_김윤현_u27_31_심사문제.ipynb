{
  "nbformat": 4,
  "nbformat_minor": 0,
  "metadata": {
    "colab": {
      "name": "5회차_김윤현_u27_31_심사문제.ipynb",
      "provenance": [],
      "collapsed_sections": []
    },
    "kernelspec": {
      "name": "python3",
      "display_name": "Python 3"
    },
    "language_info": {
      "name": "python"
    }
  },
  "cells": [
    {
      "cell_type": "markdown",
      "metadata": {
        "id": "emreE1ds3RgL"
      },
      "source": [
        "## Unit 27. 심사문제"
      ]
    },
    {
      "cell_type": "code",
      "metadata": {
        "colab": {
          "base_uri": "https://localhost:8080/"
        },
        "id": "u4-njTDG3I3r",
        "outputId": "7cefad16-9999-4f6b-a173-4cd31172c073"
      },
      "source": [
        "with open('words.txt', 'r') as file:\n",
        "  word_list = file.readline().split()\n",
        "for idx, word in enumerate(word_list):\n",
        "  if 'c' in word:\n",
        "    print(word.strip(',. '))"
      ],
      "execution_count": 30,
      "outputs": [
        {
          "output_type": "stream",
          "text": [
            "dictator\n",
            "subjects\n",
            "change\n",
            "costume\n",
            "elegance\n",
            "accepted\n"
          ],
          "name": "stdout"
        }
      ]
    },
    {
      "cell_type": "markdown",
      "metadata": {
        "id": "roeeIW5r7vPc"
      },
      "source": [
        "## Unit 29. 심사문제"
      ]
    },
    {
      "cell_type": "code",
      "metadata": {
        "id": "37uyUpZe6QYs"
      },
      "source": [
        "def calc(x, y):\n",
        "  return x+y, x-y, x*y, x/y"
      ],
      "execution_count": null,
      "outputs": []
    },
    {
      "cell_type": "markdown",
      "metadata": {
        "id": "dYyVHGyi8chT"
      },
      "source": [
        "## Unit 30. 심사문제"
      ]
    },
    {
      "cell_type": "code",
      "metadata": {
        "colab": {
          "base_uri": "https://localhost:8080/"
        },
        "id": "EgZT5yAE8dux",
        "outputId": "14e88b81-960d-4d97-af53-1ebd4f0731c4"
      },
      "source": [
        "korean, english, mathematics, science = map(int, input().split())\n",
        "\n",
        "def get_min_max_score(*args):\n",
        "  return min(args), max(args)\n",
        "def get_average(**kwargs):\n",
        "  return sum(kwargs.values())/len(kwargs.values())\n",
        "\n",
        "min_score, max_score = get_min_max_score(korean, english, mathematics, science)\n",
        "\n",
        "average_score = get_average(korean=korean, english=english,\n",
        "                            mathematics=mathematics, science=science)\n",
        "print('낮은 점수: {0:.2f}, 높은 점수: {1:.2f}, 평균 점수: {2:.2f}'.format(min_score, max_score, average_score))\n",
        " \n",
        "min_score, max_score = get_min_max_score(english, science)\n",
        "average_score = get_average(english=english, science=science)\n",
        "print('낮은 점수: {0:.2f}, 높은 점수: {1:.2f}, 평균 점수: {2:.2f}'\n",
        "      .format(min_score, max_score, average_score))"
      ],
      "execution_count": 71,
      "outputs": [
        {
          "output_type": "stream",
          "text": [
            "76 81 91 85 \n",
            "낮은 점수: 76.00, 높은 점수: 91.00, 평균 점수: 83.25\n",
            "낮은 점수: 81.00, 높은 점수: 85.00, 평균 점수: 83.00\n"
          ],
          "name": "stdout"
        }
      ]
    },
    {
      "cell_type": "code",
      "metadata": {
        "colab": {
          "base_uri": "https://localhost:8080/"
        },
        "id": "V7a4D3789sbm",
        "outputId": "1492ed25-9810-4606-b1ae-659a94bf8eea"
      },
      "source": [
        "# a, b, c = map(int, input().split())\n",
        "# print(a)\n",
        "def aba(**kwargs):\n",
        "  print(sum(kwargs.values()))\n",
        "aba(kor=111, gke=222)"
      ],
      "execution_count": 70,
      "outputs": [
        {
          "output_type": "stream",
          "text": [
            "333\n"
          ],
          "name": "stdout"
        }
      ]
    },
    {
      "cell_type": "markdown",
      "metadata": {
        "id": "US7cTolUBgV6"
      },
      "source": [
        "## Unit 31.1 심사문제"
      ]
    },
    {
      "cell_type": "code",
      "metadata": {
        "colab": {
          "base_uri": "https://localhost:8080/"
        },
        "id": "xyWZgyxRBjIZ",
        "outputId": "e5c88448-4cca-43ef-fa54-658045e175b2"
      },
      "source": [
        "def fib(n):\n",
        "  if n == 1 or n == 2:\n",
        "    return 1\n",
        "  return fib(n-1) + fib(n - 2)\n",
        "\n",
        "n = int(input())\n",
        "print(fib(n))"
      ],
      "execution_count": 72,
      "outputs": [
        {
          "output_type": "stream",
          "text": [
            "10\n",
            "55\n"
          ],
          "name": "stdout"
        }
      ]
    },
    {
      "cell_type": "code",
      "metadata": {
        "id": "bex3-ocRCA5N"
      },
      "source": [
        ""
      ],
      "execution_count": null,
      "outputs": []
    }
  ]
}