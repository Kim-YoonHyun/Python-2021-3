{
  "nbformat": 4,
  "nbformat_minor": 0,
  "metadata": {
    "colab": {
      "name": "5회차_김윤현_u31_37_심사문제.ipynb",
      "provenance": [],
      "collapsed_sections": []
    },
    "kernelspec": {
      "name": "python3",
      "display_name": "Python 3"
    },
    "language_info": {
      "name": "python"
    }
  },
  "cells": [
    {
      "cell_type": "markdown",
      "metadata": {
        "id": "uAhRQwu2DtuT"
      },
      "source": [
        "## Unit 32. 심사문제"
      ]
    },
    {
      "cell_type": "code",
      "metadata": {
        "colab": {
          "base_uri": "https://localhost:8080/"
        },
        "id": "r37y7mVkDoVC",
        "outputId": "018a4552-7d34-417e-e699-137743700eca"
      },
      "source": [
        "files = input().split()\n",
        "print(['00' + files[i] if int(files[i].split('.')[0]) < 10 else '0' + files[i] if int(files[i].split('.')[0]) < 100 else files[i] for i in range(len(files))])"
      ],
      "execution_count": 70,
      "outputs": [
        {
          "output_type": "stream",
          "text": [
            "1.jpj 65.txt\n",
            "['001.jpj', '065.txt']\n"
          ],
          "name": "stdout"
        }
      ]
    },
    {
      "cell_type": "markdown",
      "metadata": {
        "id": "sLN_AV7gM1EA"
      },
      "source": [
        "## Unit 34. 심사문제"
      ]
    },
    {
      "cell_type": "code",
      "metadata": {
        "id": "GFACISB3LY-2"
      },
      "source": [
        "class Annie:\n",
        "  def __init__(self, health, mana, ability_power):\n",
        "    self.health = health\n",
        "    self.mana = mana\n",
        "    self.ability_power = ability_power\n",
        "  def tibbers(self):\n",
        "    print(f'티버: 피해량 {self.ability_power * 0.65 + 400}')"
      ],
      "execution_count": 71,
      "outputs": []
    },
    {
      "cell_type": "code",
      "metadata": {
        "colab": {
          "base_uri": "https://localhost:8080/"
        },
        "id": "NkH696PnNft2",
        "outputId": "998705d9-13f8-44ed-d3d0-2d85feded9e6"
      },
      "source": [
        "health, mana, ability_power = map(float, input().split())\n",
        " \n",
        "x = Annie(health=health, mana=mana, ability_power=ability_power)\n",
        "x.tibbers()"
      ],
      "execution_count": 72,
      "outputs": [
        {
          "output_type": "stream",
          "text": [
            "511.68 334.0 298\n",
            "티버: 피해량 593.7\n"
          ],
          "name": "stdout"
        }
      ]
    },
    {
      "cell_type": "markdown",
      "metadata": {
        "id": "Jf-nkKBMOPVU"
      },
      "source": [
        "## Unit 36. 심사문제"
      ]
    },
    {
      "cell_type": "code",
      "metadata": {
        "colab": {
          "base_uri": "https://localhost:8080/"
        },
        "id": "m6qdTN3ONhF9",
        "outputId": "acd131e9-e61c-450e-a364-639e5930c0db"
      },
      "source": [
        "class Animal:\n",
        "    def eat(self):\n",
        "        print('먹다')\n",
        " \n",
        "class Wing:\n",
        "    def flap(self):\n",
        "        print('파닥거리다')\n",
        "\n",
        "class Bird(Animal, Wing):\n",
        "  def fly(self):\n",
        "    print('날다')\n",
        "\n",
        "b = Bird()\n",
        "b.eat()\n",
        "b.flap()\n",
        "b.fly()\n",
        "print(issubclass(Bird, Animal))\n",
        "print(issubclass(Bird, Wing))"
      ],
      "execution_count": 73,
      "outputs": [
        {
          "output_type": "stream",
          "text": [
            "먹다\n",
            "파닥거리다\n",
            "날다\n",
            "True\n",
            "True\n"
          ],
          "name": "stdout"
        }
      ]
    },
    {
      "cell_type": "code",
      "metadata": {
        "id": "5M4NUaLyOr50"
      },
      "source": [
        ""
      ],
      "execution_count": null,
      "outputs": []
    }
  ]
}