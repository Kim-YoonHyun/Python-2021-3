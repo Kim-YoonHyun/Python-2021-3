{
  "nbformat": 4,
  "nbformat_minor": 0,
  "metadata": {
    "colab": {
      "name": "u05_숫자계산.ipynb",
      "provenance": [],
      "collapsed_sections": []
    },
    "kernelspec": {
      "name": "python3",
      "display_name": "Python 3"
    },
    "language_info": {
      "name": "python"
    }
  },
  "cells": [
    {
      "cell_type": "markdown",
      "metadata": {
        "id": "UwDdCpAgo8ws"
      },
      "source": [
        "# Unit 5. 숫자 계산하기"
      ]
    },
    {
      "cell_type": "markdown",
      "metadata": {
        "id": "IEr6SgUPqltM"
      },
      "source": [
        "## 5.1 정수"
      ]
    },
    {
      "cell_type": "code",
      "metadata": {
        "id": "yt4G4Ve8o2Pu"
      },
      "source": [
        "# 4칙 연산, +, -, *, /, %, //"
      ],
      "execution_count": 2,
      "outputs": []
    },
    {
      "cell_type": "code",
      "metadata": {
        "colab": {
          "base_uri": "https://localhost:8080/"
        },
        "id": "HPl1UfMHpC7r",
        "outputId": "7dae10c6-2ed4-4f13-d7ec-f75ad542e248"
      },
      "source": [
        "5/2"
      ],
      "execution_count": 6,
      "outputs": [
        {
          "output_type": "execute_result",
          "data": {
            "text/plain": [
              "2.5"
            ]
          },
          "metadata": {
            "tags": []
          },
          "execution_count": 6
        }
      ]
    },
    {
      "cell_type": "code",
      "metadata": {
        "colab": {
          "base_uri": "https://localhost:8080/"
        },
        "id": "hDgLmt8gtjFS",
        "outputId": "6bfe4623-dfd7-4f6e-cf4e-a2731f352fc6"
      },
      "source": [
        "# % - module, 나머지\n",
        "5 % 2"
      ],
      "execution_count": 8,
      "outputs": [
        {
          "output_type": "execute_result",
          "data": {
            "text/plain": [
              "1"
            ]
          },
          "metadata": {
            "tags": []
          },
          "execution_count": 8
        }
      ]
    },
    {
      "cell_type": "code",
      "metadata": {
        "colab": {
          "base_uri": "https://localhost:8080/"
        },
        "id": "tKzvOo8atloG",
        "outputId": "5fde441f-e7af-4245-8c05-42777b3c174a"
      },
      "source": [
        "# // - 몫\n",
        "5 // 2"
      ],
      "execution_count": 10,
      "outputs": [
        {
          "output_type": "execute_result",
          "data": {
            "text/plain": [
              "2"
            ]
          },
          "metadata": {
            "tags": []
          },
          "execution_count": 10
        }
      ]
    },
    {
      "cell_type": "code",
      "metadata": {
        "colab": {
          "base_uri": "https://localhost:8080/"
        },
        "id": "qNO2jEmjto4I",
        "outputId": "81a7cb60-b282-43e0-f4bc-a125c8eefce6"
      },
      "source": [
        "# 배수 - 어떤 숫자를 3으로 모듈로 연산을 했을때 결과가 0\n",
        "6 % 3"
      ],
      "execution_count": 12,
      "outputs": [
        {
          "output_type": "execute_result",
          "data": {
            "text/plain": [
              "0"
            ]
          },
          "metadata": {
            "tags": []
          },
          "execution_count": 12
        }
      ]
    },
    {
      "cell_type": "code",
      "metadata": {
        "colab": {
          "base_uri": "https://localhost:8080/"
        },
        "id": "4dTmFWOHuMBp",
        "outputId": "9a4b26a5-dcf3-45d6-b481-51ed64d4557f"
      },
      "source": [
        "# 거듭 제곱\n",
        "2**15"
      ],
      "execution_count": 14,
      "outputs": [
        {
          "output_type": "execute_result",
          "data": {
            "text/plain": [
              "32768"
            ]
          },
          "metadata": {
            "tags": []
          },
          "execution_count": 14
        }
      ]
    },
    {
      "cell_type": "markdown",
      "metadata": {
        "id": "VLdKwTdsu618"
      },
      "source": [
        "값을 정수로 변환"
      ]
    },
    {
      "cell_type": "code",
      "metadata": {
        "colab": {
          "base_uri": "https://localhost:8080/"
        },
        "id": "x9HJ1dkRuoD-",
        "outputId": "4ff9fbfe-158c-42c7-95b4-6ce7602f8c71"
      },
      "source": [
        "int(3.14)"
      ],
      "execution_count": 16,
      "outputs": [
        {
          "output_type": "execute_result",
          "data": {
            "text/plain": [
              "3"
            ]
          },
          "metadata": {
            "tags": []
          },
          "execution_count": 16
        }
      ]
    },
    {
      "cell_type": "code",
      "metadata": {
        "colab": {
          "base_uri": "https://localhost:8080/"
        },
        "id": "HI4jbtMYvG4A",
        "outputId": "e588b673-614c-45ff-966b-5ad40f683758"
      },
      "source": [
        "# single quote', 'double quote'\n",
        "int('55')"
      ],
      "execution_count": 17,
      "outputs": [
        {
          "output_type": "execute_result",
          "data": {
            "text/plain": [
              "55"
            ]
          },
          "metadata": {
            "tags": []
          },
          "execution_count": 17
        }
      ]
    },
    {
      "cell_type": "code",
      "metadata": {
        "colab": {
          "base_uri": "https://localhost:8080/"
        },
        "id": "PY_qL0Vzvl72",
        "outputId": "92667caa-cdd5-4b9a-a782-3784492a0b6c"
      },
      "source": [
        "string = '55'\n",
        "value = int(string)\n",
        "string, value"
      ],
      "execution_count": 18,
      "outputs": [
        {
          "output_type": "execute_result",
          "data": {
            "text/plain": [
              "('55', 55)"
            ]
          },
          "metadata": {
            "tags": []
          },
          "execution_count": 18
        }
      ]
    },
    {
      "cell_type": "code",
      "metadata": {
        "colab": {
          "base_uri": "https://localhost:8080/"
        },
        "id": "Z27IccnxwPZI",
        "outputId": "b218937f-5bee-48c5-eb39-9bccd60abecc"
      },
      "source": [
        "type(string), type(value), type(3.14)"
      ],
      "execution_count": 19,
      "outputs": [
        {
          "output_type": "execute_result",
          "data": {
            "text/plain": [
              "(str, int, float)"
            ]
          },
          "metadata": {
            "tags": []
          },
          "execution_count": 19
        }
      ]
    },
    {
      "cell_type": "code",
      "metadata": {
        "colab": {
          "base_uri": "https://localhost:8080/"
        },
        "id": "pB-pkop8wni5",
        "outputId": "d2bba90e-5b95-4e0b-c5a0-5ad1ddc0372d"
      },
      "source": [
        "# 몫과 나머지를 동시에 계산 divmod(5, 2)\n",
        "q, r = 5 // 2, 5 % 2\n",
        "q, r"
      ],
      "execution_count": 20,
      "outputs": [
        {
          "output_type": "execute_result",
          "data": {
            "text/plain": [
              "(2, 1)"
            ]
          },
          "metadata": {
            "tags": []
          },
          "execution_count": 20
        }
      ]
    },
    {
      "cell_type": "code",
      "metadata": {
        "colab": {
          "base_uri": "https://localhost:8080/"
        },
        "id": "gG7IqC6yyE5Z",
        "outputId": "d196d0f5-9ca7-4de2-852f-12574cc883c6"
      },
      "source": [
        "# 2진수, 8진수, 16진수\n",
        "0b101, 0o5, 0x5"
      ],
      "execution_count": 21,
      "outputs": [
        {
          "output_type": "execute_result",
          "data": {
            "text/plain": [
              "(5, 5, 5)"
            ]
          },
          "metadata": {
            "tags": []
          },
          "execution_count": 21
        }
      ]
    },
    {
      "cell_type": "code",
      "metadata": {
        "colab": {
          "base_uri": "https://localhost:8080/"
        },
        "id": "uSIGWAYkyfbK",
        "outputId": "a90fd90e-6aea-4286-ea6f-60aad38b12a5"
      },
      "source": [
        "0xa6"
      ],
      "execution_count": 22,
      "outputs": [
        {
          "output_type": "execute_result",
          "data": {
            "text/plain": [
              "166"
            ]
          },
          "metadata": {
            "tags": []
          },
          "execution_count": 22
        }
      ]
    },
    {
      "cell_type": "markdown",
      "metadata": {
        "id": "Nogta1bB0rgk"
      },
      "source": [
        "## 5.2 실수"
      ]
    },
    {
      "cell_type": "code",
      "metadata": {
        "colab": {
          "base_uri": "https://localhost:8080/"
        },
        "id": "70_NTqvwzMpZ",
        "outputId": "9fef1b03-bde9-4f5d-d35c-80a111254a40"
      },
      "source": [
        " 3.5 + 2.1"
      ],
      "execution_count": 27,
      "outputs": [
        {
          "output_type": "execute_result",
          "data": {
            "text/plain": [
              "5.6"
            ]
          },
          "metadata": {
            "tags": []
          },
          "execution_count": 27
        }
      ]
    },
    {
      "cell_type": "code",
      "metadata": {
        "colab": {
          "base_uri": "https://localhost:8080/"
        },
        "id": "0AbzXMUQ0pXn",
        "outputId": "300d53c2-f146-4512-9333-5b709869f5d8"
      },
      "source": [
        "4.3 - 2.7"
      ],
      "execution_count": 28,
      "outputs": [
        {
          "output_type": "execute_result",
          "data": {
            "text/plain": [
              "1.5999999999999996"
            ]
          },
          "metadata": {
            "tags": []
          },
          "execution_count": 28
        }
      ]
    },
    {
      "cell_type": "code",
      "metadata": {
        "colab": {
          "base_uri": "https://localhost:8080/"
        },
        "id": "bOG1WmbL0wJx",
        "outputId": "4e0f3fae-c957-4d7c-b4da-9f8d77ce7330"
      },
      "source": [
        "4.3 - 2.7 == 1.6"
      ],
      "execution_count": 29,
      "outputs": [
        {
          "output_type": "execute_result",
          "data": {
            "text/plain": [
              "False"
            ]
          },
          "metadata": {
            "tags": []
          },
          "execution_count": 29
        }
      ]
    },
    {
      "cell_type": "code",
      "metadata": {
        "colab": {
          "base_uri": "https://localhost:8080/"
        },
        "id": "qy-tErbW00P1",
        "outputId": "cb139f58-5f4b-4065-c5d3-3126ef41adf1"
      },
      "source": [
        "import numpy as np\n",
        "np.abs((4.3 - 2.7) - 1.6) < 1e-10"
      ],
      "execution_count": 32,
      "outputs": [
        {
          "output_type": "execute_result",
          "data": {
            "text/plain": [
              "True"
            ]
          },
          "metadata": {
            "tags": []
          },
          "execution_count": 32
        }
      ]
    },
    {
      "cell_type": "code",
      "metadata": {
        "colab": {
          "base_uri": "https://localhost:8080/"
        },
        "id": "1EvcjPjd2Mfv",
        "outputId": "c15fee49-1342-4d81-a4d6-816451d4ca87"
      },
      "source": [
        "4.2 + 5"
      ],
      "execution_count": 34,
      "outputs": [
        {
          "output_type": "execute_result",
          "data": {
            "text/plain": [
              "9.2"
            ]
          },
          "metadata": {
            "tags": []
          },
          "execution_count": 34
        }
      ]
    },
    {
      "cell_type": "code",
      "metadata": {
        "colab": {
          "base_uri": "https://localhost:8080/"
        },
        "id": "a_BMKeTz2NiT",
        "outputId": "76b6cc6d-19ae-4735-aca8-be33b58e3437"
      },
      "source": [
        "4.2 + float(5)"
      ],
      "execution_count": 36,
      "outputs": [
        {
          "output_type": "execute_result",
          "data": {
            "text/plain": [
              "9.2"
            ]
          },
          "metadata": {
            "tags": []
          },
          "execution_count": 36
        }
      ]
    },
    {
      "cell_type": "code",
      "metadata": {
        "id": "m3yByxQb2QWs"
      },
      "source": [
        ""
      ],
      "execution_count": null,
      "outputs": []
    }
  ]
}