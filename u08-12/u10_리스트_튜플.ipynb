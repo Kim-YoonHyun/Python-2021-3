{
  "nbformat": 4,
  "nbformat_minor": 0,
  "metadata": {
    "colab": {
      "name": "u10_리스트_튜플.ipynb",
      "provenance": [],
      "collapsed_sections": []
    },
    "kernelspec": {
      "name": "python3",
      "display_name": "Python 3"
    },
    "language_info": {
      "name": "python"
    }
  },
  "cells": [
    {
      "cell_type": "markdown",
      "metadata": {
        "id": "fqSAV-wLge7f"
      },
      "source": [
        "# Unit 10. 리스트와 튜플"
      ]
    },
    {
      "cell_type": "markdown",
      "metadata": {
        "id": "WCSWiZpFiEOU"
      },
      "source": [
        "## 10.1 리스트"
      ]
    },
    {
      "cell_type": "code",
      "metadata": {
        "colab": {
          "base_uri": "https://localhost:8080/"
        },
        "id": "Ie0c8pCqgcR1",
        "outputId": "623c8888-74e3-4860-870b-a4f5a0a80648"
      },
      "source": [
        "a = [38, 21, 53, 62, 19]\n",
        "print(a)"
      ],
      "execution_count": 7,
      "outputs": [
        {
          "output_type": "stream",
          "text": [
            "[38, 21, 53, 62, 19]\n"
          ],
          "name": "stdout"
        }
      ]
    },
    {
      "cell_type": "code",
      "metadata": {
        "colab": {
          "base_uri": "https://localhost:8080/"
        },
        "id": "nEJjeCCfg5g2",
        "outputId": "c6c5d4b9-e74d-445a-86a7-3d17b8a8849e"
      },
      "source": [
        "# 파이썬에서는 리스트 엘리먼트가 다른 자료형도 가능\n",
        "person = ['James', 19, 175.4, True, [120, 80]]\n",
        "print(person)"
      ],
      "execution_count": 10,
      "outputs": [
        {
          "output_type": "stream",
          "text": [
            "['James', 19, 175.4, True, [120, 80]]\n"
          ],
          "name": "stdout"
        }
      ]
    },
    {
      "cell_type": "code",
      "metadata": {
        "colab": {
          "base_uri": "https://localhost:8080/"
        },
        "id": "YKsWy7bEiX2S",
        "outputId": "7e22a3b5-2f2b-439b-a8fc-47f1d3847373"
      },
      "source": [
        "# 위의 person은 다음과 같은 딕셔너리로 변경하는 것이 권장됨\n",
        "person_dict = {'name':'James', 'age':19, 'height':175.4, 'isMale':True, 'bp':[120, 80]}\n",
        "print(person_dict)"
      ],
      "execution_count": 12,
      "outputs": [
        {
          "output_type": "stream",
          "text": [
            "{'name': 'James', 'age': 19, 'height': 175.4, 'isMale': True, 'bp': [120, 80]}\n"
          ],
          "name": "stdout"
        }
      ]
    },
    {
      "cell_type": "markdown",
      "metadata": {
        "id": "cZ95LWoTj2wE"
      },
      "source": [
        "### 빈 리스트 만들기"
      ]
    },
    {
      "cell_type": "code",
      "metadata": {
        "colab": {
          "base_uri": "https://localhost:8080/"
        },
        "id": "u_-dp_HyjUvU",
        "outputId": "7ed4b98d-5911-49bc-8bd0-6d2543cbc34d"
      },
      "source": [
        "a = []\n",
        "b = list()\n",
        "print(a, b)"
      ],
      "execution_count": 13,
      "outputs": [
        {
          "output_type": "stream",
          "text": [
            "[] []\n"
          ],
          "name": "stdout"
        }
      ]
    },
    {
      "cell_type": "code",
      "metadata": {
        "colab": {
          "base_uri": "https://localhost:8080/"
        },
        "id": "0P2NclyUj8Kd",
        "outputId": "efc935cb-650c-4b06-fc9b-18d1c6fd726a"
      },
      "source": [
        "a, b = [], []\n",
        "print(a, b)"
      ],
      "execution_count": 15,
      "outputs": [
        {
          "output_type": "stream",
          "text": [
            "[] []\n"
          ],
          "name": "stdout"
        }
      ]
    },
    {
      "cell_type": "markdown",
      "metadata": {
        "id": "4F1wGXWHkfRE"
      },
      "source": [
        "### range\n",
        "- range([시작숫자,] 끝나는 숫자+1 [,증가분])"
      ]
    },
    {
      "cell_type": "code",
      "metadata": {
        "colab": {
          "base_uri": "https://localhost:8080/"
        },
        "id": "6xuwKgGSkTaH",
        "outputId": "ff156c8d-d2cf-45a8-b28b-bdf1b563a381"
      },
      "source": [
        "a = range(10)\n",
        "print(a)"
      ],
      "execution_count": 16,
      "outputs": [
        {
          "output_type": "stream",
          "text": [
            "range(0, 10)\n"
          ],
          "name": "stdout"
        }
      ]
    },
    {
      "cell_type": "code",
      "metadata": {
        "colab": {
          "base_uri": "https://localhost:8080/"
        },
        "id": "lumgTMLMlgO8",
        "outputId": "93366542-6539-4b7b-8d39-08f542fd8018"
      },
      "source": [
        "print(list(a))"
      ],
      "execution_count": 18,
      "outputs": [
        {
          "output_type": "stream",
          "text": [
            "[0, 1, 2, 3, 4, 5, 6, 7, 8, 9]\n"
          ],
          "name": "stdout"
        }
      ]
    },
    {
      "cell_type": "code",
      "metadata": {
        "colab": {
          "base_uri": "https://localhost:8080/"
        },
        "id": "du6qx7KXlikY",
        "outputId": "11aa0af4-61ed-4d68-bf61-21d9ce465214"
      },
      "source": [
        "print(list(range(1, 11)))"
      ],
      "execution_count": 19,
      "outputs": [
        {
          "output_type": "stream",
          "text": [
            "[1, 2, 3, 4, 5, 6, 7, 8, 9, 10]\n"
          ],
          "name": "stdout"
        }
      ]
    },
    {
      "cell_type": "code",
      "metadata": {
        "colab": {
          "base_uri": "https://localhost:8080/"
        },
        "id": "O20IdBxIlmov",
        "outputId": "bb438c60-f058-4d5a-a97e-cbdb07f2e0ca"
      },
      "source": [
        "print(list(range(1,10,2)))"
      ],
      "execution_count": 20,
      "outputs": [
        {
          "output_type": "stream",
          "text": [
            "[1, 3, 5, 7, 9]\n"
          ],
          "name": "stdout"
        }
      ]
    },
    {
      "cell_type": "code",
      "metadata": {
        "colab": {
          "base_uri": "https://localhost:8080/"
        },
        "id": "nobR0rnOlpMv",
        "outputId": "a6e03888-3d08-4e10-cc61-6a6f13ea999f"
      },
      "source": [
        "print(list(range(2, 11, 2)))"
      ],
      "execution_count": 22,
      "outputs": [
        {
          "output_type": "stream",
          "text": [
            "[2, 4, 6, 8, 10]\n"
          ],
          "name": "stdout"
        }
      ]
    },
    {
      "cell_type": "code",
      "metadata": {
        "colab": {
          "base_uri": "https://localhost:8080/"
        },
        "id": "1WOM9YjaoPtj",
        "outputId": "f4254bbd-216e-4461-fa37-7803e1d5bf3c"
      },
      "source": [
        "list(range(10, 0, -1))"
      ],
      "execution_count": 23,
      "outputs": [
        {
          "output_type": "execute_result",
          "data": {
            "text/plain": [
              "[10, 9, 8, 7, 6, 5, 4, 3, 2, 1]"
            ]
          },
          "metadata": {
            "tags": []
          },
          "execution_count": 23
        }
      ]
    },
    {
      "cell_type": "markdown",
      "metadata": {
        "id": "xMZVqwhXorj7"
      },
      "source": [
        "## 10.2 튜플(tuple)\n",
        "- Read-only 특성(변경불가)"
      ]
    },
    {
      "cell_type": "code",
      "metadata": {
        "colab": {
          "base_uri": "https://localhost:8080/"
        },
        "id": "kBShKpCQobev",
        "outputId": "1c1741cd-51ce-474d-b3aa-633e4eca5e65"
      },
      "source": [
        "a = (38, 21, 47)\n",
        "print(a)"
      ],
      "execution_count": 25,
      "outputs": [
        {
          "output_type": "stream",
          "text": [
            "(38, 21, 47)\n"
          ],
          "name": "stdout"
        }
      ]
    },
    {
      "cell_type": "code",
      "metadata": {
        "colab": {
          "base_uri": "https://localhost:8080/"
        },
        "id": "A9im7Z2Ho3go",
        "outputId": "a8186b57-1822-4f92-f2e4-954d835f16d3"
      },
      "source": [
        "a = 21, 34, 5\n",
        "print(a)"
      ],
      "execution_count": 27,
      "outputs": [
        {
          "output_type": "stream",
          "text": [
            "(21, 34, 5)\n"
          ],
          "name": "stdout"
        }
      ]
    },
    {
      "cell_type": "code",
      "metadata": {
        "colab": {
          "base_uri": "https://localhost:8080/"
        },
        "id": "9qD9J-bEpCRN",
        "outputId": "d4fb6936-d8c1-4b16-c577-2cb575ca5c09"
      },
      "source": [
        "person = ('James', 19, 175.4, True, [120, 80])\n",
        "print(person)"
      ],
      "execution_count": 28,
      "outputs": [
        {
          "output_type": "stream",
          "text": [
            "('James', 19, 175.4, True, [120, 80])\n"
          ],
          "name": "stdout"
        }
      ]
    },
    {
      "cell_type": "code",
      "metadata": {
        "colab": {
          "base_uri": "https://localhost:8080/"
        },
        "id": "yHvhhMRepRlS",
        "outputId": "54927923-a16e-4934-904c-1f2b31a6fe16"
      },
      "source": [
        "a = tuple()\n",
        "print(a)"
      ],
      "execution_count": 32,
      "outputs": [
        {
          "output_type": "stream",
          "text": [
            "()\n"
          ],
          "name": "stdout"
        }
      ]
    },
    {
      "cell_type": "code",
      "metadata": {
        "colab": {
          "base_uri": "https://localhost:8080/"
        },
        "id": "GKjFB4wXpxw6",
        "outputId": "fe998454-b4e3-47f2-ec59-7f0557db1e3b"
      },
      "source": [
        "# a 는 정수\n",
        "a = (38)\n",
        "print(a)"
      ],
      "execution_count": 34,
      "outputs": [
        {
          "output_type": "stream",
          "text": [
            "38\n"
          ],
          "name": "stdout"
        }
      ]
    },
    {
      "cell_type": "code",
      "metadata": {
        "colab": {
          "base_uri": "https://localhost:8080/"
        },
        "id": "wHAeJZzoqeI8",
        "outputId": "4049305b-3261-4fac-9966-ba87f9d70cf8"
      },
      "source": [
        "# a는 튜플\n",
        "a = (38,)\n",
        "print(a)"
      ],
      "execution_count": 36,
      "outputs": [
        {
          "output_type": "stream",
          "text": [
            "(38,)\n"
          ],
          "name": "stdout"
        }
      ]
    },
    {
      "cell_type": "code",
      "metadata": {
        "colab": {
          "base_uri": "https://localhost:8080/"
        },
        "id": "yQv4x7LaqkUg",
        "outputId": "ad986e4f-818e-4ad3-ef91-e1d466faf6bc"
      },
      "source": [
        "tuple(range(5))"
      ],
      "execution_count": 37,
      "outputs": [
        {
          "output_type": "execute_result",
          "data": {
            "text/plain": [
              "(0, 1, 2, 3, 4)"
            ]
          },
          "metadata": {
            "tags": []
          },
          "execution_count": 37
        }
      ]
    },
    {
      "cell_type": "markdown",
      "metadata": {
        "id": "5FVV6zTuq7oq"
      },
      "source": [
        "### 리스트 <--> 튜플"
      ]
    },
    {
      "cell_type": "code",
      "metadata": {
        "colab": {
          "base_uri": "https://localhost:8080/"
        },
        "id": "aMyOx-WOqtGw",
        "outputId": "db93323a-9c8d-4f85-ed16-b49b37babef1"
      },
      "source": [
        "a = [1, 2, 3]\n",
        "b = tuple(a)\n",
        "print(b)"
      ],
      "execution_count": 38,
      "outputs": [
        {
          "output_type": "stream",
          "text": [
            "(1, 2, 3)\n"
          ],
          "name": "stdout"
        }
      ]
    },
    {
      "cell_type": "code",
      "metadata": {
        "colab": {
          "base_uri": "https://localhost:8080/"
        },
        "id": "1Mq0wpYqrFrD",
        "outputId": "106f1427-55e5-4251-82cc-fe30f7ec9a77"
      },
      "source": [
        "c = list(b)\n",
        "print(c)"
      ],
      "execution_count": 40,
      "outputs": [
        {
          "output_type": "stream",
          "text": [
            "[1, 2, 3]\n"
          ],
          "name": "stdout"
        }
      ]
    },
    {
      "cell_type": "markdown",
      "metadata": {
        "id": "ehdtX3u3rcXJ"
      },
      "source": [
        "### 문자열"
      ]
    },
    {
      "cell_type": "code",
      "metadata": {
        "colab": {
          "base_uri": "https://localhost:8080/"
        },
        "id": "DvnmLtedrLFb",
        "outputId": "3b735d70-5a43-4adf-8461-a83211e80183"
      },
      "source": [
        "t = tuple('Hello')\n",
        "print(t)"
      ],
      "execution_count": 41,
      "outputs": [
        {
          "output_type": "stream",
          "text": [
            "('H', 'e', 'l', 'l', 'o')\n"
          ],
          "name": "stdout"
        }
      ]
    },
    {
      "cell_type": "code",
      "metadata": {
        "colab": {
          "base_uri": "https://localhost:8080/"
        },
        "id": "QJZclOuDrmLV",
        "outputId": "2934b898-112b-41d8-8cb1-dec4e2a3edc3"
      },
      "source": [
        "t = tuple('안녕하세요')\n",
        "print(t)"
      ],
      "execution_count": 42,
      "outputs": [
        {
          "output_type": "stream",
          "text": [
            "('안', '녕', '하', '세', '요')\n"
          ],
          "name": "stdout"
        }
      ]
    },
    {
      "cell_type": "markdown",
      "metadata": {
        "id": "MXDRfIvFr5jZ"
      },
      "source": [
        "### 언팩킹(Unpacking)"
      ]
    },
    {
      "cell_type": "code",
      "metadata": {
        "colab": {
          "base_uri": "https://localhost:8080/"
        },
        "id": "c31ntMMhrxxd",
        "outputId": "1c302160-4576-4216-8f63-f4b82c7d2880"
      },
      "source": [
        "# tuple unpacking\n",
        "a = (1, 3, 4)\n",
        "x, y, z = a\n",
        "print(x, y, z)"
      ],
      "execution_count": 45,
      "outputs": [
        {
          "output_type": "stream",
          "text": [
            "1 3 4\n"
          ],
          "name": "stdout"
        }
      ]
    },
    {
      "cell_type": "code",
      "metadata": {
        "colab": {
          "base_uri": "https://localhost:8080/"
        },
        "id": "J-DvbDadr-dM",
        "outputId": "7e25f1f8-febe-4758-93eb-7d9ac2b0d4e7"
      },
      "source": [
        "# list unpacking\n",
        "x, y, z = [1, 3, 5]\n",
        "print(x, y, z)"
      ],
      "execution_count": 46,
      "outputs": [
        {
          "output_type": "stream",
          "text": [
            "1 3 5\n"
          ],
          "name": "stdout"
        }
      ]
    },
    {
      "cell_type": "code",
      "metadata": {
        "id": "K8D7ZjkUsawX"
      },
      "source": [
        ""
      ],
      "execution_count": null,
      "outputs": []
    }
  ]
}