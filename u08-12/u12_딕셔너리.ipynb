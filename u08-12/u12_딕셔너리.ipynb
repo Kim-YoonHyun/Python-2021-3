{
  "nbformat": 4,
  "nbformat_minor": 0,
  "metadata": {
    "colab": {
      "name": "u12_딕셔너리.ipynb",
      "provenance": [],
      "collapsed_sections": []
    },
    "kernelspec": {
      "name": "python3",
      "display_name": "Python 3"
    },
    "language_info": {
      "name": "python"
    }
  },
  "cells": [
    {
      "cell_type": "markdown",
      "metadata": {
        "id": "aeoMJGISRiaW"
      },
      "source": [
        "# Unit 12. 딕셔너리(Dictionary)"
      ]
    },
    {
      "cell_type": "code",
      "metadata": {
        "colab": {
          "base_uri": "https://localhost:8080/"
        },
        "id": "J_JLY913RrxV",
        "outputId": "90b8eda9-060f-42c5-9e7a-c4a631bb26dc"
      },
      "source": [
        "lux = [490, 334, 550, 18.72]\n",
        "print(lux)"
      ],
      "execution_count": 3,
      "outputs": [
        {
          "output_type": "stream",
          "text": [
            "[490, 334, 550, 18.72]\n"
          ],
          "name": "stdout"
        }
      ]
    },
    {
      "cell_type": "code",
      "metadata": {
        "colab": {
          "base_uri": "https://localhost:8080/"
        },
        "id": "7pGhN8aRSCQP",
        "outputId": "6e67bb3b-9e87-41ae-d470-090f59d28d6d"
      },
      "source": [
        "lux = {\n",
        "    'health' : 490,\n",
        "    'mana' : 334,\n",
        "    'melee' : 550,\n",
        "    'armor' : 18.72\n",
        "}\n",
        "print(lux)"
      ],
      "execution_count": 4,
      "outputs": [
        {
          "output_type": "stream",
          "text": [
            "{'health': 490, 'mana': 334, 'melee': 550, 'armor': 18.72}\n"
          ],
          "name": "stdout"
        }
      ]
    },
    {
      "cell_type": "markdown",
      "metadata": {
        "id": "_NzZ6bnsSpJH"
      },
      "source": [
        "## 12.1 딕셔너리 생성"
      ]
    },
    {
      "cell_type": "code",
      "metadata": {
        "colab": {
          "base_uri": "https://localhost:8080/"
        },
        "id": "bKeA8OMpSX6M",
        "outputId": "ee84263e-026e-4b59-eae0-66c2fa90900b"
      },
      "source": [
        "lux = {'health' : 490, 'health' : 403}\n",
        "print(lux)"
      ],
      "execution_count": 5,
      "outputs": [
        {
          "output_type": "stream",
          "text": [
            "{'health': 403}\n"
          ],
          "name": "stdout"
        }
      ]
    },
    {
      "cell_type": "code",
      "metadata": {
        "colab": {
          "base_uri": "https://localhost:8080/"
        },
        "id": "qEz7B9l6Tu1w",
        "outputId": "656f05cc-1f3c-4b1d-d16e-70d4a76e27f2"
      },
      "source": [
        "a = {}\n",
        "b = dict()\n",
        "print(a, b)"
      ],
      "execution_count": 7,
      "outputs": [
        {
          "output_type": "stream",
          "text": [
            "{} {}\n"
          ],
          "name": "stdout"
        }
      ]
    },
    {
      "cell_type": "code",
      "metadata": {
        "colab": {
          "base_uri": "https://localhost:8080/"
        },
        "id": "x9PCRBRJUCqk",
        "outputId": "c9d14b62-ca2c-4e56-ff46-d04ff16e4501"
      },
      "source": [
        "a = set((1, 2, 3))\n",
        "print(a)"
      ],
      "execution_count": 8,
      "outputs": [
        {
          "output_type": "stream",
          "text": [
            "{1, 2, 3}\n"
          ],
          "name": "stdout"
        }
      ]
    },
    {
      "cell_type": "code",
      "metadata": {
        "colab": {
          "base_uri": "https://localhost:8080/"
        },
        "id": "nvuSgS-eVGAD",
        "outputId": "fca478f9-2e14-44a0-f37f-f1a1748a40c2"
      },
      "source": [
        "a = ['a', 'b', 'c', 'd']\n",
        "b = [1, 2, 3, 4]\n",
        "dict(zip(a, b))"
      ],
      "execution_count": 10,
      "outputs": [
        {
          "output_type": "execute_result",
          "data": {
            "text/plain": [
              "{'a': 1, 'b': 2, 'c': 3, 'd': 4}"
            ]
          },
          "metadata": {
            "tags": []
          },
          "execution_count": 10
        }
      ]
    },
    {
      "cell_type": "markdown",
      "metadata": {
        "id": "pxGeZ5OuV7yu"
      },
      "source": [
        "## 12.2 딕셔너리 키에 접근하고 값 할당하기"
      ]
    },
    {
      "cell_type": "code",
      "metadata": {
        "id": "5HnLzhq_Vm9M"
      },
      "source": [
        "lux = {'armor':18.72, 'health':800, 'mana':334, 'melee':550}"
      ],
      "execution_count": 12,
      "outputs": []
    },
    {
      "cell_type": "code",
      "metadata": {
        "colab": {
          "base_uri": "https://localhost:8080/"
        },
        "id": "yt5xqU6xWDiu",
        "outputId": "df4f1fab-1a8c-40f1-dee5-76dde4f064c2"
      },
      "source": [
        "lux['mana']"
      ],
      "execution_count": 13,
      "outputs": [
        {
          "output_type": "execute_result",
          "data": {
            "text/plain": [
              "334"
            ]
          },
          "metadata": {
            "tags": []
          },
          "execution_count": 13
        }
      ]
    },
    {
      "cell_type": "code",
      "metadata": {
        "colab": {
          "base_uri": "https://localhost:8080/"
        },
        "id": "IWT61UL9WT5q",
        "outputId": "32578e4d-5f5d-4c08-a05b-0f5216159ed9"
      },
      "source": [
        "# 키값이 기존 딕셔너리에 없으면 새롭게 추가\n",
        "lux['new'] = 10\n",
        "print(lux)"
      ],
      "execution_count": 15,
      "outputs": [
        {
          "output_type": "stream",
          "text": [
            "{'armor': 18.72, 'health': 800, 'mana': 334, 'melee': 550, 'new': 10}\n"
          ],
          "name": "stdout"
        }
      ]
    },
    {
      "cell_type": "code",
      "metadata": {
        "colab": {
          "base_uri": "https://localhost:8080/"
        },
        "id": "Yo4Nusf4XLpT",
        "outputId": "09fa796c-b2a8-4a08-ad5f-a6b427d77794"
      },
      "source": [
        "# 키 값이 딕셔너리에 있으면 값이 변경\n",
        "lux['new'] = 1000\n",
        "print(lux)"
      ],
      "execution_count": 16,
      "outputs": [
        {
          "output_type": "stream",
          "text": [
            "{'armor': 18.72, 'health': 800, 'mana': 334, 'melee': 550, 'new': 1000}\n"
          ],
          "name": "stdout"
        }
      ]
    },
    {
      "cell_type": "code",
      "metadata": {
        "colab": {
          "base_uri": "https://localhost:8080/"
        },
        "id": "D_a_T-2mXoXn",
        "outputId": "7e270eb5-f1ad-412c-a46e-1e506d929649"
      },
      "source": [
        "'mana' in lux"
      ],
      "execution_count": 18,
      "outputs": [
        {
          "output_type": "execute_result",
          "data": {
            "text/plain": [
              "True"
            ]
          },
          "metadata": {
            "tags": []
          },
          "execution_count": 18
        }
      ]
    },
    {
      "cell_type": "code",
      "metadata": {
        "colab": {
          "base_uri": "https://localhost:8080/"
        },
        "id": "esLMRaqCYFB6",
        "outputId": "6ca02cee-383f-419b-e81c-a13c3b38f5b7"
      },
      "source": [
        "# 'mana' 항목이 존재하면 기존 값 + 100, 없으면 값이 50이 되게 만드시오\n",
        "e = {'mana': 20}\n",
        "if 'mana' in e:\n",
        "  e['mana'] += 100\n",
        "else:\n",
        "  e['mana'] = 50\n",
        "print(e)"
      ],
      "execution_count": 25,
      "outputs": [
        {
          "output_type": "stream",
          "text": [
            "{'mana': 120}\n"
          ],
          "name": "stdout"
        }
      ]
    },
    {
      "cell_type": "markdown",
      "metadata": {
        "id": "zuoo05qxZRbn"
      },
      "source": [
        "### 딕셔너리 키의 갯수"
      ]
    },
    {
      "cell_type": "code",
      "metadata": {
        "colab": {
          "base_uri": "https://localhost:8080/"
        },
        "id": "YfY223O8YjN6",
        "outputId": "a99e40b2-b469-44af-f133-bc71cd940ce3"
      },
      "source": [
        "lux"
      ],
      "execution_count": 26,
      "outputs": [
        {
          "output_type": "execute_result",
          "data": {
            "text/plain": [
              "{'armor': 18.72, 'health': 800, 'mana': 534, 'melee': 550, 'new': 1000}"
            ]
          },
          "metadata": {
            "tags": []
          },
          "execution_count": 26
        }
      ]
    },
    {
      "cell_type": "code",
      "metadata": {
        "colab": {
          "base_uri": "https://localhost:8080/"
        },
        "id": "yeokLMxgZTdA",
        "outputId": "4906a201-dfa5-437d-d7b9-7ea0190e6785"
      },
      "source": [
        "len(lux)"
      ],
      "execution_count": 27,
      "outputs": [
        {
          "output_type": "execute_result",
          "data": {
            "text/plain": [
              "5"
            ]
          },
          "metadata": {
            "tags": []
          },
          "execution_count": 27
        }
      ]
    },
    {
      "cell_type": "markdown",
      "metadata": {
        "id": "J2FO07LGaGpT"
      },
      "source": [
        "### 자료형"
      ]
    },
    {
      "cell_type": "code",
      "metadata": {
        "colab": {
          "base_uri": "https://localhost:8080/"
        },
        "id": "YgXqaK9_ZYOQ",
        "outputId": "bd036c5f-56d4-4379-a129-fa03c1c07d38"
      },
      "source": [
        "type(lux)"
      ],
      "execution_count": 28,
      "outputs": [
        {
          "output_type": "execute_result",
          "data": {
            "text/plain": [
              "dict"
            ]
          },
          "metadata": {
            "tags": []
          },
          "execution_count": 28
        }
      ]
    },
    {
      "cell_type": "code",
      "metadata": {
        "colab": {
          "base_uri": "https://localhost:8080/"
        },
        "id": "EWNwxQu2aJor",
        "outputId": "9286bc05-27a6-449f-f501-4abbf5e9f545"
      },
      "source": [
        "type(lux['armor'])"
      ],
      "execution_count": 29,
      "outputs": [
        {
          "output_type": "execute_result",
          "data": {
            "text/plain": [
              "float"
            ]
          },
          "metadata": {
            "tags": []
          },
          "execution_count": 29
        }
      ]
    },
    {
      "cell_type": "code",
      "metadata": {
        "colab": {
          "base_uri": "https://localhost:8080/"
        },
        "id": "UtUZBBDjaLga",
        "outputId": "a3680e9a-e3c2-48de-b19c-efa50550e433"
      },
      "source": [
        "lux['mana'], lux['armor']"
      ],
      "execution_count": 30,
      "outputs": [
        {
          "output_type": "execute_result",
          "data": {
            "text/plain": [
              "(534, 18.72)"
            ]
          },
          "metadata": {
            "tags": []
          },
          "execution_count": 30
        }
      ]
    },
    {
      "cell_type": "code",
      "metadata": {
        "colab": {
          "base_uri": "https://localhost:8080/"
        },
        "id": "k8ImvnasaZWz",
        "outputId": "1ed30893-59b7-4473-ffad-21ed76ac5890"
      },
      "source": [
        "lux.keys()"
      ],
      "execution_count": 31,
      "outputs": [
        {
          "output_type": "execute_result",
          "data": {
            "text/plain": [
              "dict_keys(['armor', 'health', 'mana', 'melee', 'new'])"
            ]
          },
          "metadata": {
            "tags": []
          },
          "execution_count": 31
        }
      ]
    },
    {
      "cell_type": "code",
      "metadata": {
        "colab": {
          "base_uri": "https://localhost:8080/"
        },
        "id": "NaZOpe01amTQ",
        "outputId": "ac63bf4f-9bfe-491a-eb46-f5d6fccf7b46"
      },
      "source": [
        "for key in lux.keys():\n",
        "  print(f'{key}: {lux[key]}')"
      ],
      "execution_count": 33,
      "outputs": [
        {
          "output_type": "stream",
          "text": [
            "armor: 18.72\n",
            "health: 800\n",
            "mana: 534\n",
            "melee: 550\n",
            "new: 1000\n"
          ],
          "name": "stdout"
        }
      ]
    },
    {
      "cell_type": "code",
      "metadata": {
        "colab": {
          "base_uri": "https://localhost:8080/"
        },
        "id": "ub9ZiMJOa5Wm",
        "outputId": "c9a023b7-7c1a-4b16-d73a-7631278eba5d"
      },
      "source": [
        "for key, value in lux.items():\n",
        "  print(f'{key}: {value}')"
      ],
      "execution_count": 34,
      "outputs": [
        {
          "output_type": "stream",
          "text": [
            "armor: 18.72\n",
            "health: 800\n",
            "mana: 534\n",
            "melee: 550\n",
            "new: 1000\n"
          ],
          "name": "stdout"
        }
      ]
    },
    {
      "cell_type": "code",
      "metadata": {
        "id": "mE3vDotgbHzm"
      },
      "source": [
        ""
      ],
      "execution_count": null,
      "outputs": []
    }
  ]
}