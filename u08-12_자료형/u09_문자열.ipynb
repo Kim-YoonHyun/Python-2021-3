{
  "nbformat": 4,
  "nbformat_minor": 0,
  "metadata": {
    "colab": {
      "name": "u09_문자열.ipynb",
      "provenance": [],
      "collapsed_sections": []
    },
    "kernelspec": {
      "name": "python3",
      "display_name": "Python 3"
    },
    "language_info": {
      "name": "python"
    }
  },
  "cells": [
    {
      "cell_type": "markdown",
      "metadata": {
        "id": "EAs3qnwCb8SL"
      },
      "source": [
        "# Unit 9. 문자열"
      ]
    },
    {
      "cell_type": "code",
      "metadata": {
        "colab": {
          "base_uri": "https://localhost:8080/"
        },
        "id": "E9W5UYpXb21T",
        "outputId": "f88ded8e-e5fb-4e3d-9ed9-96e5455a0bd1"
      },
      "source": [
        "hello = 'hello, world'\n",
        "hello2 = \"Hello, world\"\n",
        "print(hello, hello2)"
      ],
      "execution_count": 2,
      "outputs": [
        {
          "output_type": "stream",
          "text": [
            "hello, world Hello, world\n"
          ],
          "name": "stdout"
        }
      ]
    },
    {
      "cell_type": "code",
      "metadata": {
        "colab": {
          "base_uri": "https://localhost:8080/"
        },
        "id": "7C9XM2L0csoE",
        "outputId": "49fec0f1-88a2-4955-d1d5-453ee17cd36b"
      },
      "source": [
        "multiline = '''hello\n",
        "world'''\n",
        "print(multiline)"
      ],
      "execution_count": 4,
      "outputs": [
        {
          "output_type": "stream",
          "text": [
            "hello\n",
            "world\n"
          ],
          "name": "stdout"
        }
      ]
    },
    {
      "cell_type": "code",
      "metadata": {
        "colab": {
          "base_uri": "https://localhost:8080/"
        },
        "id": "F2xs3TAtdOnC",
        "outputId": "0c5c15fa-28a7-4d9a-a01a-688edee8123c"
      },
      "source": [
        "s = \"Python isn't difficult.\"\n",
        "print(s)"
      ],
      "execution_count": 6,
      "outputs": [
        {
          "output_type": "stream",
          "text": [
            "Python isn't difficult.\n"
          ],
          "name": "stdout"
        }
      ]
    },
    {
      "cell_type": "code",
      "metadata": {
        "colab": {
          "base_uri": "https://localhost:8080/"
        },
        "id": "1X7FBCqYeUzF",
        "outputId": "6e444acb-7090-4b46-9e17-6f382e0d0c01"
      },
      "source": [
        "s = 'Alice said \"I love you\"'\n",
        "print(s)"
      ],
      "execution_count": 8,
      "outputs": [
        {
          "output_type": "stream",
          "text": [
            "Alice said \"I love you\"\n"
          ],
          "name": "stdout"
        }
      ]
    },
    {
      "cell_type": "code",
      "metadata": {
        "colab": {
          "base_uri": "https://localhost:8080/"
        },
        "id": "bgeAuFI2epQS",
        "outputId": "a5cca7f1-d131-4661-8f26-e16138347b7d"
      },
      "source": [
        "s = 'Python isn\\'t difficult.'\n",
        "print(s)"
      ],
      "execution_count": 10,
      "outputs": [
        {
          "output_type": "stream",
          "text": [
            "Python isn't difficult.\n"
          ],
          "name": "stdout"
        }
      ]
    },
    {
      "cell_type": "code",
      "metadata": {
        "id": "r21vxsIve3qn"
      },
      "source": [
        ""
      ],
      "execution_count": null,
      "outputs": []
    }
  ]
}