{
  "nbformat": 4,
  "nbformat_minor": 0,
  "metadata": {
    "colab": {
      "name": "u14_else.ipynb",
      "provenance": []
    },
    "kernelspec": {
      "name": "python3",
      "display_name": "Python 3"
    },
    "language_info": {
      "name": "python"
    }
  },
  "cells": [
    {
      "cell_type": "markdown",
      "metadata": {
        "id": "iJ3VzuvEmH5T"
      },
      "source": [
        "# Unit 14. else"
      ]
    },
    {
      "cell_type": "code",
      "metadata": {
        "colab": {
          "base_uri": "https://localhost:8080/"
        },
        "id": "EjLlYIe0l3vg",
        "outputId": "5b757888-50eb-4f16-950f-15f13f8e0256"
      },
      "source": [
        "x = 5\n",
        "if x == 10:\n",
        "  print('it is 10.')\n",
        "else:\n",
        "  print(\"it it not 10\")"
      ],
      "execution_count": null,
      "outputs": [
        {
          "output_type": "stream",
          "text": [
            "it it not 10\n"
          ],
          "name": "stdout"
        }
      ]
    },
    {
      "cell_type": "markdown",
      "metadata": {
        "id": "atRGyqY0mvE8"
      },
      "source": [
        "### 3항 연산자"
      ]
    },
    {
      "cell_type": "code",
      "metadata": {
        "colab": {
          "base_uri": "https://localhost:8080/"
        },
        "id": "IHGPnZ9jmXjZ",
        "outputId": "7a957e30-2b96-49f1-8bee-cd5b5524fcbf"
      },
      "source": [
        "x = 1\n",
        "if x % 2 == 0:\n",
        "  y = 'even'\n",
        "else:\n",
        "  y = 'odd'\n",
        "print(y)"
      ],
      "execution_count": null,
      "outputs": [
        {
          "output_type": "stream",
          "text": [
            "odd\n"
          ],
          "name": "stdout"
        }
      ]
    },
    {
      "cell_type": "code",
      "metadata": {
        "colab": {
          "base_uri": "https://localhost:8080/"
        },
        "id": "x92kQ-9anCaj",
        "outputId": "65bb92a4-e1ce-48ba-ae21-163a0288efaf"
      },
      "source": [
        "y = 'even' if x%2 == 0 else 'odd'\n",
        "print(y)"
      ],
      "execution_count": null,
      "outputs": [
        {
          "output_type": "stream",
          "text": [
            "odd\n"
          ],
          "name": "stdout"
        }
      ]
    },
    {
      "cell_type": "code",
      "metadata": {
        "colab": {
          "base_uri": "https://localhost:8080/"
        },
        "id": "PbnyhNkwnZ-G",
        "outputId": "4cc58510-36cd-4f53-9cbb-c174a5646f44"
      },
      "source": [
        "# 90점 이상이면 'A', 80 ~ 89: B, 70~79: C, 60~69: D, ~59: F\n",
        "score = int(input('점수> '))\n",
        "if score >= 90:  \n",
        "  print('A')\n",
        "elif score > 80:\n",
        "  print('B')\n",
        "elif score > 70:\n",
        "  print('C')\n",
        "elif score > 60:\n",
        "  print('D')\n",
        "else:\n",
        "  print('F')\n"
      ],
      "execution_count": null,
      "outputs": [
        {
          "output_type": "stream",
          "text": [
            "점수> 98\n",
            "A\n"
          ],
          "name": "stdout"
        }
      ]
    },
    {
      "cell_type": "code",
      "metadata": {
        "colab": {
          "base_uri": "https://localhost:8080/"
        },
        "id": "3xIkTttQoiIs",
        "outputId": "b8f5d0b4-131e-4e56-d991-e1a957d1bae6"
      },
      "source": [
        "grade = 'A' if score >= 90 else \\\n",
        "            'B' if score >= 80 else \\\n",
        "                'C' if score >= 70 else \\\n",
        "                    'D' if score >= 60 else 'F'\n",
        "print(grade)\n"
      ],
      "execution_count": null,
      "outputs": [
        {
          "output_type": "stream",
          "text": [
            "A\n"
          ],
          "name": "stdout"
        }
      ]
    },
    {
      "cell_type": "markdown",
      "metadata": {
        "id": "rOnLZlGLurI0"
      },
      "source": [
        "### 조건식에서의 논리연산자"
      ]
    },
    {
      "cell_type": "code",
      "metadata": {
        "colab": {
          "base_uri": "https://localhost:8080/"
        },
        "id": "mFJB60CDpQIO",
        "outputId": "bff85e9b-b52c-4b2e-fa3b-6eb6ef3b00ce"
      },
      "source": [
        "x = 5\n",
        "if x > 0 and x < 10:\n",
        "  print('10작은 양의 정수입니다.')"
      ],
      "execution_count": null,
      "outputs": [
        {
          "output_type": "stream",
          "text": [
            "10작은 양의 정수입니다.\n"
          ],
          "name": "stdout"
        }
      ]
    },
    {
      "cell_type": "code",
      "metadata": {
        "id": "j8APDoSfuzYx",
        "colab": {
          "base_uri": "https://localhost:8080/"
        },
        "outputId": "36b3e54f-9b3f-43e8-b004-933259fa4dd2"
      },
      "source": [
        "if 0 < x < 10:\n",
        "  print('10작은 양의 정수입니다.')"
      ],
      "execution_count": null,
      "outputs": [
        {
          "output_type": "stream",
          "text": [
            "10작은 양의 정수입니다.\n"
          ],
          "name": "stdout"
        }
      ]
    },
    {
      "cell_type": "code",
      "metadata": {
        "id": "QtqYtSPou4a7"
      },
      "source": [
        ""
      ],
      "execution_count": null,
      "outputs": []
    }
  ]
}