{
  "nbformat": 4,
  "nbformat_minor": 0,
  "metadata": {
    "colab": {
      "name": "u16_for반복문.ipynb",
      "provenance": [],
      "collapsed_sections": []
    },
    "kernelspec": {
      "name": "python3",
      "display_name": "Python 3"
    },
    "language_info": {
      "name": "python"
    }
  },
  "cells": [
    {
      "cell_type": "markdown",
      "metadata": {
        "id": "zkW5E4uMs9jt"
      },
      "source": [
        "# Unit 16. for 반복문"
      ]
    },
    {
      "cell_type": "markdown",
      "metadata": {
        "id": "_JZ45l1itI3V"
      },
      "source": [
        "## 16.1 for 와 range"
      ]
    },
    {
      "cell_type": "code",
      "metadata": {
        "colab": {
          "base_uri": "https://localhost:8080/"
        },
        "id": "bnbujGRTs4m0",
        "outputId": "94fb031c-e124-46d0-8c38-2ee6cd8feedd"
      },
      "source": [
        "for i in range(10):\n",
        "  print(f'hello, world')"
      ],
      "execution_count": 5,
      "outputs": [
        {
          "output_type": "stream",
          "text": [
            "hello, world\n",
            "hello, world\n",
            "hello, world\n",
            "hello, world\n",
            "hello, world\n",
            "hello, world\n",
            "hello, world\n",
            "hello, world\n",
            "hello, world\n",
            "hello, world\n"
          ],
          "name": "stdout"
        }
      ]
    },
    {
      "cell_type": "code",
      "metadata": {
        "colab": {
          "base_uri": "https://localhost:8080/"
        },
        "id": "TZv-edgBtPNU",
        "outputId": "e2e41265-0242-4eee-e9d6-fa7788b96ce2"
      },
      "source": [
        "for i in range(10):\n",
        "  print(f'Hello, world! {i + 1}')"
      ],
      "execution_count": 4,
      "outputs": [
        {
          "output_type": "stream",
          "text": [
            "Hello, world! 1\n",
            "Hello, world! 2\n",
            "Hello, world! 3\n",
            "Hello, world! 4\n",
            "Hello, world! 5\n",
            "Hello, world! 6\n",
            "Hello, world! 7\n",
            "Hello, world! 8\n",
            "Hello, world! 9\n",
            "Hello, world! 10\n"
          ],
          "name": "stdout"
        }
      ]
    },
    {
      "cell_type": "code",
      "metadata": {
        "colab": {
          "base_uri": "https://localhost:8080/"
        },
        "id": "p8h_Ia7NvT2r",
        "outputId": "85645a52-cf57-41f4-fa97-8600a7187d45"
      },
      "source": [
        "for _ in range(5):\n",
        "  print('Hello, world')"
      ],
      "execution_count": 6,
      "outputs": [
        {
          "output_type": "stream",
          "text": [
            "Hello, world\n",
            "Hello, world\n",
            "Hello, world\n",
            "Hello, world\n",
            "Hello, world\n"
          ],
          "name": "stdout"
        }
      ]
    },
    {
      "cell_type": "markdown",
      "metadata": {
        "id": "2x2I79UyyDlj"
      },
      "source": [
        "## 16.2 for 와 range 응용"
      ]
    },
    {
      "cell_type": "code",
      "metadata": {
        "colab": {
          "base_uri": "https://localhost:8080/"
        },
        "id": "__KLIwqEvfJY",
        "outputId": "7859684a-720d-41ed-c039-b9f3d4327d0a"
      },
      "source": [
        "for i in range(0, 10, 2):\n",
        "  print('Hello, world', i)"
      ],
      "execution_count": 7,
      "outputs": [
        {
          "output_type": "stream",
          "text": [
            "Hello, world 0\n",
            "Hello, world 2\n",
            "Hello, world 4\n",
            "Hello, world 6\n",
            "Hello, world 8\n"
          ],
          "name": "stdout"
        }
      ]
    },
    {
      "cell_type": "code",
      "metadata": {
        "colab": {
          "base_uri": "https://localhost:8080/"
        },
        "id": "4jkVNg1DyQR5",
        "outputId": "ac1ca000-a23b-4932-d0d6-3c11d52a1532"
      },
      "source": [
        "for i in range(10, 0, -2):\n",
        "  print(i)"
      ],
      "execution_count": 8,
      "outputs": [
        {
          "output_type": "stream",
          "text": [
            "10\n",
            "8\n",
            "6\n",
            "4\n",
            "2\n"
          ],
          "name": "stdout"
        }
      ]
    },
    {
      "cell_type": "code",
      "metadata": {
        "colab": {
          "base_uri": "https://localhost:8080/"
        },
        "id": "rW9Rcd9CyTY2",
        "outputId": "3c26be13-db7d-4df3-8708-46fd6a14fbe2"
      },
      "source": [
        "for i in range(1, 101):\n",
        "  print('Fizz'*(i%3==0) + 'Buzz' * (i % 5 == 0) or i, end=' ')\n",
        "  if i % 10 == 0:\n",
        "    print('')"
      ],
      "execution_count": 13,
      "outputs": [
        {
          "output_type": "stream",
          "text": [
            "1 2 Fizz 4 Buzz Fizz 7 8 Fizz Buzz \n",
            "11 Fizz 13 14 FizzBuzz 16 17 Fizz 19 Buzz \n",
            "Fizz 22 23 Fizz Buzz 26 Fizz 28 29 FizzBuzz \n",
            "31 32 Fizz 34 Buzz Fizz 37 38 Fizz Buzz \n",
            "41 Fizz 43 44 FizzBuzz 46 47 Fizz 49 Buzz \n",
            "Fizz 52 53 Fizz Buzz 56 Fizz 58 59 FizzBuzz \n",
            "61 62 Fizz 64 Buzz Fizz 67 68 Fizz Buzz \n",
            "71 Fizz 73 74 FizzBuzz 76 77 Fizz 79 Buzz \n",
            "Fizz 82 83 Fizz Buzz 86 Fizz 88 89 FizzBuzz \n",
            "91 92 Fizz 94 Buzz Fizz 97 98 Fizz Buzz \n"
          ],
          "name": "stdout"
        }
      ]
    },
    {
      "cell_type": "markdown",
      "metadata": {
        "id": "KWJTDD6bz65a"
      },
      "source": [
        "## 16.3 시퀀스 객체 반복"
      ]
    },
    {
      "cell_type": "code",
      "metadata": {
        "colab": {
          "base_uri": "https://localhost:8080/"
        },
        "id": "vTTbT4HszWo5",
        "outputId": "35d167d7-b710-4b89-e651-8cbd2091acb1"
      },
      "source": [
        "fruits = ['apple', 'banana', 'cherry']\n",
        "for element in fruits:\n",
        "  print(element)"
      ],
      "execution_count": 15,
      "outputs": [
        {
          "output_type": "stream",
          "text": [
            "apple\n",
            "banana\n",
            "cherry\n"
          ],
          "name": "stdout"
        }
      ]
    },
    {
      "cell_type": "code",
      "metadata": {
        "colab": {
          "base_uri": "https://localhost:8080/"
        },
        "id": "AOsGZZMM0Ky1",
        "outputId": "ba354955-1472-4fd9-b2ed-7d750ad1cd35"
      },
      "source": [
        "fruit_list = ['apple', 'banana', 'cherry']\n",
        "for fruit in fruit_list:\n",
        "  print(fruit)"
      ],
      "execution_count": 17,
      "outputs": [
        {
          "output_type": "stream",
          "text": [
            "apple\n",
            "banana\n",
            "cherry\n"
          ],
          "name": "stdout"
        }
      ]
    },
    {
      "cell_type": "code",
      "metadata": {
        "colab": {
          "base_uri": "https://localhost:8080/"
        },
        "id": "GOpvMSHf0oAr",
        "outputId": "c2f89894-a540-4fa7-e221-ffb2ad4e3493"
      },
      "source": [
        "for letter in 'Python':\n",
        "  print(letter, end=' ')"
      ],
      "execution_count": 19,
      "outputs": [
        {
          "output_type": "stream",
          "text": [
            "P y t h o n "
          ],
          "name": "stdout"
        }
      ]
    },
    {
      "cell_type": "code",
      "metadata": {
        "colab": {
          "base_uri": "https://localhost:8080/"
        },
        "id": "ddN4e7ov2bpD",
        "outputId": "73218eae-f313-4b08-cacc-d64164fb404e"
      },
      "source": [
        "for letter in reversed('Python'):\n",
        "  print(letter, end=' ')"
      ],
      "execution_count": 20,
      "outputs": [
        {
          "output_type": "stream",
          "text": [
            "n o h t y P "
          ],
          "name": "stdout"
        }
      ]
    },
    {
      "cell_type": "code",
      "metadata": {
        "colab": {
          "base_uri": "https://localhost:8080/"
        },
        "id": "uFyrL_QB2q-E",
        "outputId": "5deeed18-8be7-464f-d69a-107c2f172683"
      },
      "source": [
        "for number in (10, 20, 30):\n",
        "  print(number, end=' ')"
      ],
      "execution_count": 23,
      "outputs": [
        {
          "output_type": "stream",
          "text": [
            "10 20 30 "
          ],
          "name": "stdout"
        }
      ]
    },
    {
      "cell_type": "markdown",
      "metadata": {
        "id": "NexAzElE3jdT"
      },
      "source": [
        "### Perfect Number"
      ]
    },
    {
      "cell_type": "code",
      "metadata": {
        "colab": {
          "base_uri": "https://localhost:8080/"
        },
        "id": "-ZB4_9fM3DLo",
        "outputId": "8e594f28-174e-4bc9-9625-df24403aabe1"
      },
      "source": [
        "# 자기자신을 제외한 약수의 합이 자기 자신과 같은 수\n",
        "print(6%1, 6%2, 6%3, 6%4, 6%5, 6%6)"
      ],
      "execution_count": 24,
      "outputs": [
        {
          "output_type": "stream",
          "text": [
            "0 0 0 2 1 0\n"
          ],
          "name": "stdout"
        }
      ]
    },
    {
      "cell_type": "code",
      "metadata": {
        "colab": {
          "base_uri": "https://localhost:8080/"
        },
        "id": "OYpH_Sut3zEE",
        "outputId": "b947e684-f51f-4337-b192-f176a8d6f677"
      },
      "source": [
        "perfect_number_list = []\n",
        "for i in range(1, 10001):\n",
        "  sum = 0\n",
        "  for j in range(1, i):\n",
        "    if i%j == 0:\n",
        "      sum += j\n",
        "  if sum == i:\n",
        "    perfect_number_list.append(i)\n",
        "print(perfect_number_list)"
      ],
      "execution_count": 43,
      "outputs": [
        {
          "output_type": "stream",
          "text": [
            "[6, 28, 496, 8128]\n"
          ],
          "name": "stdout"
        }
      ]
    },
    {
      "cell_type": "code",
      "metadata": {
        "id": "Up-4Fh3v8cIn"
      },
      "source": [
        ""
      ],
      "execution_count": null,
      "outputs": []
    }
  ]
}