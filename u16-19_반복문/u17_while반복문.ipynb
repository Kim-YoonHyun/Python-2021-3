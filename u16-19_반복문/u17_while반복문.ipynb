{
  "nbformat": 4,
  "nbformat_minor": 0,
  "metadata": {
    "colab": {
      "name": "u17_while반복문.ipynb",
      "provenance": [],
      "collapsed_sections": []
    },
    "kernelspec": {
      "name": "python3",
      "display_name": "Python 3"
    },
    "language_info": {
      "name": "python"
    }
  },
  "cells": [
    {
      "cell_type": "markdown",
      "metadata": {
        "id": "n9zdFT-pBU0-"
      },
      "source": [
        "# Unit 17. 반복문"
      ]
    },
    {
      "cell_type": "markdown",
      "metadata": {
        "id": "3HfmJrq3BY41"
      },
      "source": [
        "## 17.1 while 반복문\n",
        "- 반복횟수가 정해져 있는 반복문은 while을 쓰지 않는다."
      ]
    },
    {
      "cell_type": "code",
      "metadata": {
        "id": "39uV3SMSBRVn"
      },
      "source": [
        "# while 조건:\n",
        "#   조건이 참인 동안 loop를 반복"
      ],
      "execution_count": 2,
      "outputs": []
    },
    {
      "cell_type": "markdown",
      "metadata": {
        "id": "iDqUZMCPCId2"
      },
      "source": [
        "## 17.2 반복 횟수가 없는 while 반복문"
      ]
    },
    {
      "cell_type": "code",
      "metadata": {
        "id": "-LOUgCJ2BdTV"
      },
      "source": [
        "import random"
      ],
      "execution_count": 3,
      "outputs": []
    },
    {
      "cell_type": "code",
      "metadata": {
        "colab": {
          "base_uri": "https://localhost:8080/"
        },
        "id": "BzVkYu0SCbw4",
        "outputId": "bb35b3e0-1a4b-4ed4-be0d-c5d8edbcab0a"
      },
      "source": [
        "print(random.random())"
      ],
      "execution_count": 5,
      "outputs": [
        {
          "output_type": "stream",
          "text": [
            "0.049892169078210924\n"
          ],
          "name": "stdout"
        }
      ]
    },
    {
      "cell_type": "code",
      "metadata": {
        "colab": {
          "base_uri": "https://localhost:8080/"
        },
        "id": "Ga2YeUC9CeFV",
        "outputId": "cf6424ae-0eee-4649-9166-60cec56f706e"
      },
      "source": [
        "random.randint(1, 6)"
      ],
      "execution_count": 6,
      "outputs": [
        {
          "output_type": "execute_result",
          "data": {
            "text/plain": [
              "3"
            ]
          },
          "metadata": {
            "tags": []
          },
          "execution_count": 6
        }
      ]
    },
    {
      "cell_type": "code",
      "metadata": {
        "colab": {
          "base_uri": "https://localhost:8080/"
        },
        "id": "MmApC2G5CsqU",
        "outputId": "2024cb5a-d285-46bf-e890-521a0201337e"
      },
      "source": [
        "i = 0\n",
        "while i != 3:\n",
        "  i = random.randint(1, 6)\n",
        "  print(i)"
      ],
      "execution_count": 9,
      "outputs": [
        {
          "output_type": "stream",
          "text": [
            "6\n",
            "4\n",
            "1\n",
            "1\n",
            "3\n"
          ],
          "name": "stdout"
        }
      ]
    },
    {
      "cell_type": "code",
      "metadata": {
        "colab": {
          "base_uri": "https://localhost:8080/"
        },
        "id": "33qKA2OCC0eI",
        "outputId": "22da151b-8603-4998-a26b-bcdfd907cc55"
      },
      "source": [
        "i = 0\n",
        "dice = list(range(1, 7))\n",
        "while i != 3:\n",
        "  i = random.choice(dice)\n",
        "  print(i)"
      ],
      "execution_count": 12,
      "outputs": [
        {
          "output_type": "stream",
          "text": [
            "2\n",
            "2\n",
            "4\n",
            "4\n",
            "6\n",
            "3\n"
          ],
          "name": "stdout"
        }
      ]
    },
    {
      "cell_type": "code",
      "metadata": {
        "colab": {
          "base_uri": "https://localhost:8080/"
        },
        "id": "oUW24eSsDbDc",
        "outputId": "3ff4b72c-73f9-4a97-8d0f-f3e2e8b439de"
      },
      "source": [
        "random.sample(dice, 6)"
      ],
      "execution_count": 14,
      "outputs": [
        {
          "output_type": "execute_result",
          "data": {
            "text/plain": [
              "[1, 6, 5, 4, 2, 3]"
            ]
          },
          "metadata": {
            "tags": []
          },
          "execution_count": 14
        }
      ]
    },
    {
      "cell_type": "code",
      "metadata": {
        "id": "TUoOKwxmDoAn"
      },
      "source": [
        ""
      ],
      "execution_count": null,
      "outputs": []
    }
  ]
}