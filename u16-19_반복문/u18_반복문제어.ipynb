{
  "nbformat": 4,
  "nbformat_minor": 0,
  "metadata": {
    "colab": {
      "name": "u18_반복문제어.ipynb",
      "provenance": [],
      "collapsed_sections": []
    },
    "kernelspec": {
      "name": "python3",
      "display_name": "Python 3"
    },
    "language_info": {
      "name": "python"
    }
  },
  "cells": [
    {
      "cell_type": "markdown",
      "metadata": {
        "id": "lrF5F4LAEtFO"
      },
      "source": [
        "# Unit 18. break, continue"
      ]
    },
    {
      "cell_type": "markdown",
      "metadata": {
        "id": "GoG7XBsUE3TD"
      },
      "source": [
        "## 18.1 break"
      ]
    },
    {
      "cell_type": "code",
      "metadata": {
        "id": "YlS_-OLTErUS"
      },
      "source": [
        "import random"
      ],
      "execution_count": 1,
      "outputs": []
    },
    {
      "cell_type": "code",
      "metadata": {
        "colab": {
          "base_uri": "https://localhost:8080/"
        },
        "id": "cS2jSceBFF87",
        "outputId": "71befa5f-6fba-4241-a158-1171a1b9f39e"
      },
      "source": [
        "while True:\n",
        "  i = random.randint(1, 6)\n",
        "  print(i)\n",
        "  if i == 3:\n",
        "    break"
      ],
      "execution_count": 5,
      "outputs": [
        {
          "output_type": "stream",
          "text": [
            "4\n",
            "2\n",
            "2\n",
            "6\n",
            "4\n",
            "5\n",
            "2\n",
            "4\n",
            "3\n"
          ],
          "name": "stdout"
        }
      ]
    },
    {
      "cell_type": "code",
      "metadata": {
        "colab": {
          "base_uri": "https://localhost:8080/"
        },
        "id": "O_zx7X0JFM0Y",
        "outputId": "f59c8a7f-b303-45b2-9b92-86f67633f754"
      },
      "source": [
        "for i in range(5):\n",
        "  print(i, end=' ')\n",
        "  for k in range(5):\n",
        "    print('*', end='')\n",
        "    if i == k:\n",
        "      break"
      ],
      "execution_count": 7,
      "outputs": [
        {
          "output_type": "stream",
          "text": [
            "0 *1 **2 ***3 ****4 *****"
          ],
          "name": "stdout"
        }
      ]
    },
    {
      "cell_type": "code",
      "metadata": {
        "colab": {
          "base_uri": "https://localhost:8080/"
        },
        "id": "t0CztyGgGIGM",
        "outputId": "c8c198e5-c36e-477b-b73a-91ece8209407"
      },
      "source": [
        "for i in range(5):\n",
        "  print(i, end=' ')\n",
        "  for k in range(5):\n",
        "    print('3', end='')\n",
        "    if i == k:\n",
        "      break\n",
        "  print('')"
      ],
      "execution_count": 13,
      "outputs": [
        {
          "output_type": "stream",
          "text": [
            "0 3\n",
            "1 33\n",
            "2 333\n",
            "3 3333\n",
            "4 33333\n"
          ],
          "name": "stdout"
        }
      ]
    },
    {
      "cell_type": "markdown",
      "metadata": {
        "id": "-I1YfVj1Gv4r"
      },
      "source": [
        "## 18.2 continue"
      ]
    },
    {
      "cell_type": "code",
      "metadata": {
        "colab": {
          "base_uri": "https://localhost:8080/"
        },
        "id": "40OnCJw1GmJh",
        "outputId": "04f3baa5-c217-40f5-8a4b-c2242817b28a"
      },
      "source": [
        "for i in range(10):\n",
        "  if i % 2 == 0:\n",
        "    continue\n",
        "  print(i)"
      ],
      "execution_count": 9,
      "outputs": [
        {
          "output_type": "stream",
          "text": [
            "1\n",
            "3\n",
            "5\n",
            "7\n",
            "9\n"
          ],
          "name": "stdout"
        }
      ]
    }
  ]
}