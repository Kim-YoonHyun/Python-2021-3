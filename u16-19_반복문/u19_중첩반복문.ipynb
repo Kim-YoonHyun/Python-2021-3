{
  "nbformat": 4,
  "nbformat_minor": 0,
  "metadata": {
    "colab": {
      "name": "u19_중첩반복문.ipynb",
      "provenance": [],
      "collapsed_sections": []
    },
    "kernelspec": {
      "name": "python3",
      "display_name": "Python 3"
    },
    "language_info": {
      "name": "python"
    }
  },
  "cells": [
    {
      "cell_type": "markdown",
      "metadata": {
        "id": "DjRmYlqmbUSs"
      },
      "source": [
        "# Unit 19. 중첩 반복문"
      ]
    },
    {
      "cell_type": "markdown",
      "metadata": {
        "id": "R6QVbzaXbWux"
      },
      "source": [
        "## 19.1 중첩(Nested) for loop"
      ]
    },
    {
      "cell_type": "code",
      "metadata": {
        "colab": {
          "base_uri": "https://localhost:8080/"
        },
        "id": "Txzu1R1nbFPH",
        "outputId": "bf751bff-ee72-42eb-9eb2-a86ddee1a0a4"
      },
      "source": [
        "for i in range(5):\n",
        "  for k in range(10, 60, 10):\n",
        "    print(k, end=' ')\n",
        "  print(i)"
      ],
      "execution_count": 3,
      "outputs": [
        {
          "output_type": "stream",
          "text": [
            "10 20 30 40 50 0\n",
            "10 20 30 40 50 1\n",
            "10 20 30 40 50 2\n",
            "10 20 30 40 50 3\n",
            "10 20 30 40 50 4\n"
          ],
          "name": "stdout"
        }
      ]
    },
    {
      "cell_type": "code",
      "metadata": {
        "colab": {
          "base_uri": "https://localhost:8080/"
        },
        "id": "MDJ6oprcbw1j",
        "outputId": "434ddbb6-e747-427f-b857-0737ce1bb596"
      },
      "source": [
        "for i in range(5):\n",
        "  for _ in range(5):\n",
        "    print('*', end='')\n",
        "  print()"
      ],
      "execution_count": 4,
      "outputs": [
        {
          "output_type": "stream",
          "text": [
            "*****\n",
            "*****\n",
            "*****\n",
            "*****\n",
            "*****\n"
          ],
          "name": "stdout"
        }
      ]
    },
    {
      "cell_type": "code",
      "metadata": {
        "colab": {
          "base_uri": "https://localhost:8080/"
        },
        "id": "f5rBcMlSdGzp",
        "outputId": "c9addc02-6f07-401f-b1c8-316a89ed2ea4"
      },
      "source": [
        "# 평행사변형\n",
        "for i in range(5):\n",
        "  for j in range(i):\n",
        "    print(' ', end='')\n",
        "  for _ in range(10):    \n",
        "    print('*', end='')\n",
        "  print()"
      ],
      "execution_count": 10,
      "outputs": [
        {
          "output_type": "stream",
          "text": [
            "**********\n",
            " **********\n",
            "  **********\n",
            "   **********\n",
            "    **********\n"
          ],
          "name": "stdout"
        }
      ]
    },
    {
      "cell_type": "code",
      "metadata": {
        "id": "RwbbC8afdhRk"
      },
      "source": [
        "for i in range(0, 0):\n",
        "  print('*')"
      ],
      "execution_count": 11,
      "outputs": []
    },
    {
      "cell_type": "code",
      "metadata": {
        "colab": {
          "base_uri": "https://localhost:8080/"
        },
        "id": "WpB_PGctev5b",
        "outputId": "486a840f-f197-4674-d42f-27d0429eabcb"
      },
      "source": [
        "for i in range(8):\n",
        "  print(' ' * i, '*' * 15, sep='')"
      ],
      "execution_count": 13,
      "outputs": [
        {
          "output_type": "stream",
          "text": [
            "***************\n",
            " ***************\n",
            "  ***************\n",
            "   ***************\n",
            "    ***************\n",
            "     ***************\n",
            "      ***************\n",
            "       ***************\n"
          ],
          "name": "stdout"
        }
      ]
    },
    {
      "cell_type": "markdown",
      "metadata": {
        "id": "Zu-rtuz3fRno"
      },
      "source": [
        "## 19.3 계단식 별 모양"
      ]
    },
    {
      "cell_type": "code",
      "metadata": {
        "colab": {
          "base_uri": "https://localhost:8080/"
        },
        "id": "-a0N22UCe6B5",
        "outputId": "aa69743a-c124-4a89-a193-9bdec4425da4"
      },
      "source": [
        "for i in range(5):\n",
        "  for _ in range(i + 1):\n",
        "    print('*', end='')\n",
        "  print()"
      ],
      "execution_count": 16,
      "outputs": [
        {
          "output_type": "stream",
          "text": [
            "*\n",
            "**\n",
            "***\n",
            "****\n",
            "*****\n"
          ],
          "name": "stdout"
        }
      ]
    },
    {
      "cell_type": "code",
      "metadata": {
        "colab": {
          "base_uri": "https://localhost:8080/"
        },
        "id": "215G0yIqhI-J",
        "outputId": "4a3133ba-1139-4d1f-d0d3-333a7268a781"
      },
      "source": [
        "for i in range(5):\n",
        "  print('*' * (i + 1))"
      ],
      "execution_count": 26,
      "outputs": [
        {
          "output_type": "stream",
          "text": [
            "*\n",
            "**\n",
            "***\n",
            "****\n",
            "*****\n"
          ],
          "name": "stdout"
        }
      ]
    },
    {
      "cell_type": "code",
      "metadata": {
        "colab": {
          "base_uri": "https://localhost:8080/"
        },
        "id": "G9RX1meJfdvJ",
        "outputId": "28647816-0ac3-4799-d586-a816b332a184"
      },
      "source": [
        "for i in range(5):\n",
        "  for _ in range(i + 1):\n",
        "    print(' ', end='')\n",
        "  for j in range(5 - i):\n",
        "    print('*', end='')\n",
        "  print()\n"
      ],
      "execution_count": 22,
      "outputs": [
        {
          "output_type": "stream",
          "text": [
            " *****\n",
            "  ****\n",
            "   ***\n",
            "    **\n",
            "     *\n"
          ],
          "name": "stdout"
        }
      ]
    },
    {
      "cell_type": "code",
      "metadata": {
        "colab": {
          "base_uri": "https://localhost:8080/"
        },
        "id": "9jlxvy80hOTp",
        "outputId": "0d9fa7a8-5134-4da1-cc58-dc7544eeeb48"
      },
      "source": [
        "for i in range(5):\n",
        "  print(' ' * i, '*' * (5 - i), sep='')"
      ],
      "execution_count": 27,
      "outputs": [
        {
          "output_type": "stream",
          "text": [
            "*****\n",
            " ****\n",
            "  ***\n",
            "   **\n",
            "    *\n"
          ],
          "name": "stdout"
        }
      ]
    },
    {
      "cell_type": "code",
      "metadata": {
        "colab": {
          "base_uri": "https://localhost:8080/"
        },
        "id": "QrUjzdgBgJEU",
        "outputId": "61364e6a-7656-41e3-93ca-68d89a8f8d38"
      },
      "source": [
        "for i in range(5):\n",
        "  print(' '* (4 - i), end='')\n",
        "  for j in range(i * 2 + 1):\n",
        "     print('*', end='')\n",
        "  print()\n",
        "for i in range(4):\n",
        "  print(' ' * (i + 1), end='')\n",
        "  for j in range((4 - i)*2-1):\n",
        "     print('*', end='')\n",
        "  print()"
      ],
      "execution_count": 80,
      "outputs": [
        {
          "output_type": "stream",
          "text": [
            "    *\n",
            "   ***\n",
            "  *****\n",
            " *******\n",
            "*********\n",
            " *******\n",
            "  *****\n",
            "   ***\n",
            "    *\n"
          ],
          "name": "stdout"
        }
      ]
    },
    {
      "cell_type": "code",
      "metadata": {
        "colab": {
          "base_uri": "https://localhost:8080/"
        },
        "id": "-M-gPGr2g54F",
        "outputId": "a78c8a6e-0ae2-47c4-bd63-ef584eef8f73"
      },
      "source": [
        "for i in range(1, 6):\n",
        "  print(' ' * (5 - i), '*' * (i*2-1), end='\\n')\n",
        "for i in range(1, 5):\n",
        "  print(' ' * i, '*' * ((5-i)*2 - 1), end='\\n')"
      ],
      "execution_count": 90,
      "outputs": [
        {
          "output_type": "stream",
          "text": [
            "     *\n",
            "    ***\n",
            "   *****\n",
            "  *******\n",
            " *********\n",
            "  *******\n",
            "   *****\n",
            "    ***\n",
            "     *\n"
          ],
          "name": "stdout"
        }
      ]
    },
    {
      "cell_type": "code",
      "metadata": {
        "colab": {
          "base_uri": "https://localhost:8080/"
        },
        "id": "iG7tTJzDnnav",
        "outputId": "19859dea-2cd4-46a4-8044-5ececb0f0590"
      },
      "source": [
        "for i in range(-4, 5):\n",
        "  print(' ' * abs(i), '*' * (abs(i)*(-2) + 9))"
      ],
      "execution_count": 93,
      "outputs": [
        {
          "output_type": "stream",
          "text": [
            "     *\n",
            "    ***\n",
            "   *****\n",
            "  *******\n",
            " *********\n",
            "  *******\n",
            "   *****\n",
            "    ***\n",
            "     *\n"
          ],
          "name": "stdout"
        }
      ]
    }
  ]
}