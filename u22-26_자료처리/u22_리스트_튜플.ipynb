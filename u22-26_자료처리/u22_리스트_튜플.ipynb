{
  "nbformat": 4,
  "nbformat_minor": 0,
  "metadata": {
    "colab": {
      "name": "u22_리스트_튜플.ipynb",
      "provenance": [],
      "collapsed_sections": []
    },
    "kernelspec": {
      "name": "python3",
      "display_name": "Python 3"
    },
    "language_info": {
      "name": "python"
    }
  },
  "cells": [
    {
      "cell_type": "markdown",
      "metadata": {
        "id": "ulD7_u7QqjMB"
      },
      "source": [
        "# Unit 22. 리스트, 튜플 응용"
      ]
    },
    {
      "cell_type": "markdown",
      "metadata": {
        "id": "saSMQZruqml1"
      },
      "source": [
        "## 22.1 리스트 조작"
      ]
    },
    {
      "cell_type": "code",
      "metadata": {
        "id": "d5nfAu4Yqd0h"
      },
      "source": [
        "a = [10, 20, 30]"
      ],
      "execution_count": 1,
      "outputs": []
    },
    {
      "cell_type": "code",
      "metadata": {
        "colab": {
          "base_uri": "https://localhost:8080/"
        },
        "id": "17sGSEGsqeab",
        "outputId": "f9d66dc4-97ff-4810-a814-8f2f3b10484e"
      },
      "source": [
        "# 리스트 맨 뒤에 요소 하나를 추가\n",
        "a.append(500)\n",
        "print(a)"
      ],
      "execution_count": 2,
      "outputs": [
        {
          "output_type": "stream",
          "text": [
            "[10, 20, 30, 500]\n"
          ],
          "name": "stdout"
        }
      ]
    },
    {
      "cell_type": "code",
      "metadata": {
        "colab": {
          "base_uri": "https://localhost:8080/"
        },
        "id": "SB4H2LPFr9VQ",
        "outputId": "da045353-96a9-4655-a09b-1ccb812ebbb0"
      },
      "source": [
        "a.append(['x', 'y'])\n",
        "print(a)"
      ],
      "execution_count": 8,
      "outputs": [
        {
          "output_type": "stream",
          "text": [
            "[10, 20, 30, 500, ['x', 'y']]\n"
          ],
          "name": "stdout"
        }
      ]
    },
    {
      "cell_type": "code",
      "metadata": {
        "colab": {
          "base_uri": "https://localhost:8080/"
        },
        "id": "CTlq9LxnsAXd",
        "outputId": "8392c363-636c-4c95-efee-d57e8af0f136"
      },
      "source": [
        "b = [10, 20, 30]\n",
        "b.extend(['x', 'y'])\n",
        "print(b)"
      ],
      "execution_count": 4,
      "outputs": [
        {
          "output_type": "stream",
          "text": [
            "[10, 20, 30, 'x', 'y']\n"
          ],
          "name": "stdout"
        }
      ]
    },
    {
      "cell_type": "code",
      "metadata": {
        "colab": {
          "base_uri": "https://localhost:8080/"
        },
        "id": "_Xw3Rf58sFgK",
        "outputId": "a22bd0fd-0d5b-4d70-9f5a-2dc4d48c50b4"
      },
      "source": [
        "empty_list = []\n",
        "for i in range(5):\n",
        "  empty_list.append(i)\n",
        "print(empty_list)"
      ],
      "execution_count": 5,
      "outputs": [
        {
          "output_type": "stream",
          "text": [
            "[0, 1, 2, 3, 4]\n"
          ],
          "name": "stdout"
        }
      ]
    },
    {
      "cell_type": "code",
      "metadata": {
        "colab": {
          "base_uri": "https://localhost:8080/"
        },
        "id": "GzvC4gZTsOn2",
        "outputId": "752cb8b4-df49-4fe0-afcd-9f290d208580"
      },
      "source": [
        "del a[4]\n",
        "print(a)"
      ],
      "execution_count": 9,
      "outputs": [
        {
          "output_type": "stream",
          "text": [
            "[10, 20, 30, 500]\n"
          ],
          "name": "stdout"
        }
      ]
    },
    {
      "cell_type": "markdown",
      "metadata": {
        "id": "A_wqLNLht8zq"
      },
      "source": [
        "### Stack and Quese"
      ]
    },
    {
      "cell_type": "code",
      "metadata": {
        "colab": {
          "base_uri": "https://localhost:8080/"
        },
        "id": "mEvlauYwtpTY",
        "outputId": "faa69852-3205-4052-940f-106103d99be7"
      },
      "source": [
        "stack = []\n",
        "# stack 에 push\n",
        "stack.append(1); stack.append(2); stack.append(3);\n",
        "print(stack)"
      ],
      "execution_count": 25,
      "outputs": [
        {
          "output_type": "stream",
          "text": [
            "[1, 2, 3]\n"
          ],
          "name": "stdout"
        }
      ]
    },
    {
      "cell_type": "code",
      "metadata": {
        "colab": {
          "base_uri": "https://localhost:8080/"
        },
        "id": "TjnvoAwDuQEe",
        "outputId": "9141f7aa-ffc3-49e6-e049-1e25f675b5e5"
      },
      "source": [
        "# stack 으로부터 pop(꺼내기)\n",
        "value = stack.pop()\n",
        "print(value)"
      ],
      "execution_count": 26,
      "outputs": [
        {
          "output_type": "stream",
          "text": [
            "3\n"
          ],
          "name": "stdout"
        }
      ]
    },
    {
      "cell_type": "code",
      "metadata": {
        "colab": {
          "base_uri": "https://localhost:8080/"
        },
        "id": "zNcRr5CsuUoV",
        "outputId": "a9f26512-0db2-4e81-e503-c0409d865ca0"
      },
      "source": [
        "print(stack)"
      ],
      "execution_count": 27,
      "outputs": [
        {
          "output_type": "stream",
          "text": [
            "[1, 2]\n"
          ],
          "name": "stdout"
        }
      ]
    },
    {
      "cell_type": "code",
      "metadata": {
        "colab": {
          "base_uri": "https://localhost:8080/"
        },
        "id": "rKRWxCbSuhgB",
        "outputId": "9f656ac9-446c-4088-f671-ef9c288b1b83"
      },
      "source": [
        "queue = []\n",
        "# queue 에 insert\n",
        "queue.insert(0, 1); queue.insert(0, 2); queue.insert(0, 3);\n",
        "print(queue)"
      ],
      "execution_count": 33,
      "outputs": [
        {
          "output_type": "stream",
          "text": [
            "[3, 2, 1]\n"
          ],
          "name": "stdout"
        }
      ]
    },
    {
      "cell_type": "code",
      "metadata": {
        "colab": {
          "base_uri": "https://localhost:8080/"
        },
        "id": "14rjHHrIu9fA",
        "outputId": "65e3e9ac-a05f-49cd-f108-58e58744e56d"
      },
      "source": [
        "# queue로부터 끄집어내기\n",
        "value = queue.pop()\n",
        "print(value, queue)"
      ],
      "execution_count": 34,
      "outputs": [
        {
          "output_type": "stream",
          "text": [
            "1 [3, 2]\n"
          ],
          "name": "stdout"
        }
      ]
    },
    {
      "cell_type": "markdown",
      "metadata": {
        "id": "bEQGpiP1vlMC"
      },
      "source": [
        "### 다양한 메소드"
      ]
    },
    {
      "cell_type": "code",
      "metadata": {
        "colab": {
          "base_uri": "https://localhost:8080/"
        },
        "id": "FtXR3_slvYMo",
        "outputId": "89da4e34-2c03-4a6b-9bc2-8ed8aeb3acd2"
      },
      "source": [
        "a = [10, 20, 30, 40, 50, 60, 10]\n",
        "a.index(30)"
      ],
      "execution_count": 48,
      "outputs": [
        {
          "output_type": "execute_result",
          "data": {
            "text/plain": [
              "2"
            ]
          },
          "metadata": {
            "tags": []
          },
          "execution_count": 48
        }
      ]
    },
    {
      "cell_type": "code",
      "metadata": {
        "colab": {
          "base_uri": "https://localhost:8080/"
        },
        "id": "-O6G3CZ4vwJO",
        "outputId": "4ff2e6df-593d-40ac-dd64-e6e9257b42a9"
      },
      "source": [
        "num =45 \n",
        "if num in a:\n",
        "  idx = a.index(num)\n",
        "else:\n",
        "  idx = 0\n",
        "print(idx)"
      ],
      "execution_count": 49,
      "outputs": [
        {
          "output_type": "stream",
          "text": [
            "0\n"
          ],
          "name": "stdout"
        }
      ]
    },
    {
      "cell_type": "code",
      "metadata": {
        "colab": {
          "base_uri": "https://localhost:8080/"
        },
        "id": "wxGb5A-Qv2Oz",
        "outputId": "7c67642b-8cd3-45d7-9d1e-946c421f9a1f"
      },
      "source": [
        "a.count(10)"
      ],
      "execution_count": 50,
      "outputs": [
        {
          "output_type": "execute_result",
          "data": {
            "text/plain": [
              "2"
            ]
          },
          "metadata": {
            "tags": []
          },
          "execution_count": 50
        }
      ]
    },
    {
      "cell_type": "code",
      "metadata": {
        "colab": {
          "base_uri": "https://localhost:8080/"
        },
        "id": "qVQSlob0wNhI",
        "outputId": "abb49dfd-10cd-4384-b933-b1cbbb037bbd"
      },
      "source": [
        "a.count(45)"
      ],
      "execution_count": 51,
      "outputs": [
        {
          "output_type": "execute_result",
          "data": {
            "text/plain": [
              "0"
            ]
          },
          "metadata": {
            "tags": []
          },
          "execution_count": 51
        }
      ]
    },
    {
      "cell_type": "markdown",
      "metadata": {
        "id": "y_K3i4DGxdJx"
      },
      "source": [
        "### 정렬(sort)"
      ]
    },
    {
      "cell_type": "code",
      "metadata": {
        "colab": {
          "base_uri": "https://localhost:8080/"
        },
        "id": "v8Q0NPMJwV51",
        "outputId": "93ee2356-6ebb-4a25-d66d-389f8f5ee08b"
      },
      "source": [
        "a = [20, 10, 15, 30, 40]\n",
        "a.sort()\n",
        "a"
      ],
      "execution_count": 53,
      "outputs": [
        {
          "output_type": "execute_result",
          "data": {
            "text/plain": [
              "[10, 15, 20, 30, 40]"
            ]
          },
          "metadata": {
            "tags": []
          },
          "execution_count": 53
        }
      ]
    },
    {
      "cell_type": "code",
      "metadata": {
        "colab": {
          "base_uri": "https://localhost:8080/"
        },
        "id": "OvzmpDATxiqj",
        "outputId": "c1a4d996-8aec-4e4a-ade7-508679c21c0d"
      },
      "source": [
        "b = [20, 10, 15, 30, 40]\n",
        "sorted(b)"
      ],
      "execution_count": 55,
      "outputs": [
        {
          "output_type": "execute_result",
          "data": {
            "text/plain": [
              "[10, 15, 20, 30, 40]"
            ]
          },
          "metadata": {
            "tags": []
          },
          "execution_count": 55
        }
      ]
    },
    {
      "cell_type": "code",
      "metadata": {
        "colab": {
          "base_uri": "https://localhost:8080/"
        },
        "id": "ATTpgGbPxm2y",
        "outputId": "2f58eeb9-c285-45fb-fbc0-48a882e105af"
      },
      "source": [
        "b"
      ],
      "execution_count": 56,
      "outputs": [
        {
          "output_type": "execute_result",
          "data": {
            "text/plain": [
              "[20, 10, 15, 30, 40]"
            ]
          },
          "metadata": {
            "tags": []
          },
          "execution_count": 56
        }
      ]
    },
    {
      "cell_type": "code",
      "metadata": {
        "colab": {
          "base_uri": "https://localhost:8080/"
        },
        "id": "P7X6DZkqxtcy",
        "outputId": "a4fe6c28-7ca2-4830-f5d1-b6e0a6c633fc"
      },
      "source": [
        "b = [20, 10, 15, 30, 40]\n",
        "c = sorted(b)\n",
        "print(b, c, sep='\\n')"
      ],
      "execution_count": 57,
      "outputs": [
        {
          "output_type": "stream",
          "text": [
            "[20, 10, 15, 30, 40]\n",
            "[10, 15, 20, 30, 40]\n"
          ],
          "name": "stdout"
        }
      ]
    },
    {
      "cell_type": "code",
      "metadata": {
        "colab": {
          "base_uri": "https://localhost:8080/"
        },
        "id": "uyxDm7PGyCND",
        "outputId": "18f44962-1df7-4930-ed66-b4536e180068"
      },
      "source": [
        "# 내림차순(descending order)\n",
        "a = [20, 10, 15, 30, 40]\n",
        "a.sort(reverse=True)\n",
        "a"
      ],
      "execution_count": 58,
      "outputs": [
        {
          "output_type": "execute_result",
          "data": {
            "text/plain": [
              "[40, 30, 20, 15, 10]"
            ]
          },
          "metadata": {
            "tags": []
          },
          "execution_count": 58
        }
      ]
    },
    {
      "cell_type": "markdown",
      "metadata": {
        "id": "3L4grCQ0zW3B"
      },
      "source": [
        "## 22.2 리스트 할당과 복사"
      ]
    },
    {
      "cell_type": "code",
      "metadata": {
        "colab": {
          "base_uri": "https://localhost:8080/"
        },
        "id": "2gizf7jqynAG",
        "outputId": "0d210485-2580-4ddf-e97d-be2c57ced533"
      },
      "source": [
        "# Shallow copy\n",
        "a = [0, 0, 0, 0, 0]\n",
        "b = a\n",
        "print(b, a, sep='\\n')"
      ],
      "execution_count": 73,
      "outputs": [
        {
          "output_type": "stream",
          "text": [
            "[0, 0, 0, 0, 0]\n",
            "[0, 0, 0, 0, 0]\n"
          ],
          "name": "stdout"
        }
      ]
    },
    {
      "cell_type": "code",
      "metadata": {
        "colab": {
          "base_uri": "https://localhost:8080/"
        },
        "id": "rqXA12n0zcpH",
        "outputId": "bb711a33-79c8-4e10-ec4b-d5ee42165b47"
      },
      "source": [
        "b[2] = 99\n",
        "print(b, a, sep='\\n')"
      ],
      "execution_count": 74,
      "outputs": [
        {
          "output_type": "stream",
          "text": [
            "[0, 0, 99, 0, 0]\n",
            "[0, 0, 99, 0, 0]\n"
          ],
          "name": "stdout"
        }
      ]
    },
    {
      "cell_type": "code",
      "metadata": {
        "colab": {
          "base_uri": "https://localhost:8080/"
        },
        "id": "f8YEMmEQze5A",
        "outputId": "720ceab2-e979-4f77-fe88-b8d878747c8c"
      },
      "source": [
        "a = [0, 0, 0, 0, 0]\n",
        "b = a.copy()\n",
        "print(b, a, sep='\\n')"
      ],
      "execution_count": 75,
      "outputs": [
        {
          "output_type": "stream",
          "text": [
            "[0, 0, 0, 0, 0]\n",
            "[0, 0, 0, 0, 0]\n"
          ],
          "name": "stdout"
        }
      ]
    },
    {
      "cell_type": "code",
      "metadata": {
        "colab": {
          "base_uri": "https://localhost:8080/"
        },
        "id": "9MePVzKdz3wl",
        "outputId": "52d2d175-2933-49ed-92c6-84d9b5abd314"
      },
      "source": [
        "b[2] = 99\n",
        "print(b, a, sep='\\n')"
      ],
      "execution_count": 76,
      "outputs": [
        {
          "output_type": "stream",
          "text": [
            "[0, 0, 99, 0, 0]\n",
            "[0, 0, 0, 0, 0]\n"
          ],
          "name": "stdout"
        }
      ]
    },
    {
      "cell_type": "markdown",
      "metadata": {
        "id": "Qv8VoQJ02k_Q"
      },
      "source": [
        "## 22.3 리스트와 반복문"
      ]
    },
    {
      "cell_type": "code",
      "metadata": {
        "colab": {
          "base_uri": "https://localhost:8080/"
        },
        "id": "soAs-yUFz4yK",
        "outputId": "b6179421-25fd-457b-edf8-2d74bb504740"
      },
      "source": [
        "for fruit in ['apple', 'banana', 'cherry']:\n",
        "  print(fruit)"
      ],
      "execution_count": 90,
      "outputs": [
        {
          "output_type": "stream",
          "text": [
            "apple\n",
            "banana\n",
            "cherry\n"
          ],
          "name": "stdout"
        }
      ]
    },
    {
      "cell_type": "code",
      "metadata": {
        "colab": {
          "base_uri": "https://localhost:8080/"
        },
        "id": "pIZRqRiR203e",
        "outputId": "cae303f1-8852-4104-b092-057e16d4ed8a"
      },
      "source": [
        "fruits = ['apple', 'banana', 'cherry']\n",
        "for index, fruit in enumerate(fruits):\n",
        "  print(index, fruit)"
      ],
      "execution_count": 91,
      "outputs": [
        {
          "output_type": "stream",
          "text": [
            "0 apple\n",
            "1 banana\n",
            "2 cherry\n"
          ],
          "name": "stdout"
        }
      ]
    },
    {
      "cell_type": "code",
      "metadata": {
        "colab": {
          "base_uri": "https://localhost:8080/"
        },
        "id": "QfLY1MWF3Gl7",
        "outputId": "964ac97c-519c-461b-c956-4112e7fba574"
      },
      "source": [
        "for i in range(len(fruits)):\n",
        "  print(fruits[i])"
      ],
      "execution_count": 92,
      "outputs": [
        {
          "output_type": "stream",
          "text": [
            "apple\n",
            "banana\n",
            "cherry\n"
          ],
          "name": "stdout"
        }
      ]
    },
    {
      "cell_type": "code",
      "metadata": {
        "colab": {
          "base_uri": "https://localhost:8080/"
        },
        "id": "eWROjwG739MM",
        "outputId": "64fba013-8189-45d8-f710-bd8a40cae7f5"
      },
      "source": [
        "a = [38, 21, 53, 62, 19]\n",
        "a.sort()\n",
        "a[0]"
      ],
      "execution_count": 93,
      "outputs": [
        {
          "output_type": "execute_result",
          "data": {
            "text/plain": [
              "19"
            ]
          },
          "metadata": {
            "tags": []
          },
          "execution_count": 93
        }
      ]
    },
    {
      "cell_type": "code",
      "metadata": {
        "colab": {
          "base_uri": "https://localhost:8080/"
        },
        "id": "05yA9NG45DMI",
        "outputId": "a9992a0f-80b9-4ac3-c80f-1e5e69b5569b"
      },
      "source": [
        "a[-1]"
      ],
      "execution_count": 94,
      "outputs": [
        {
          "output_type": "execute_result",
          "data": {
            "text/plain": [
              "62"
            ]
          },
          "metadata": {
            "tags": []
          },
          "execution_count": 94
        }
      ]
    },
    {
      "cell_type": "code",
      "metadata": {
        "colab": {
          "base_uri": "https://localhost:8080/"
        },
        "id": "v62L7DOQ5Exr",
        "outputId": "12aa6213-a17d-4be3-d642-faa1139afa4e"
      },
      "source": [
        "a = [38, 21, 53, 62, 19]\n",
        "sorted(a)[0]"
      ],
      "execution_count": 95,
      "outputs": [
        {
          "output_type": "execute_result",
          "data": {
            "text/plain": [
              "19"
            ]
          },
          "metadata": {
            "tags": []
          },
          "execution_count": 95
        }
      ]
    },
    {
      "cell_type": "code",
      "metadata": {
        "colab": {
          "base_uri": "https://localhost:8080/"
        },
        "id": "BGadewOp5JBP",
        "outputId": "5c6d004a-ab1d-49d6-b309-a68aa7021592"
      },
      "source": [
        "# a 원소의 합\n",
        "sum_of_list = 0\n",
        "for elem in a:\n",
        "  sum_of_list += elem\n",
        "print(sum_of_list)\n",
        "print(sum(a))"
      ],
      "execution_count": 96,
      "outputs": [
        {
          "output_type": "stream",
          "text": [
            "193\n",
            "193\n"
          ],
          "name": "stdout"
        }
      ]
    },
    {
      "cell_type": "markdown",
      "metadata": {
        "id": "dkx3AcUO51Z3"
      },
      "source": [
        "## 22.5 리스트 표현식(Comprehension)"
      ]
    },
    {
      "cell_type": "code",
      "metadata": {
        "colab": {
          "base_uri": "https://localhost:8080/"
        },
        "id": "4AkUIyRp5W49",
        "outputId": "2c3e9078-01ea-450f-986b-266e846b9c08"
      },
      "source": [
        "[fruit for fruit in fruits]"
      ],
      "execution_count": 100,
      "outputs": [
        {
          "output_type": "execute_result",
          "data": {
            "text/plain": [
              "['apple', 'banana', 'cherry']"
            ]
          },
          "metadata": {
            "tags": []
          },
          "execution_count": 100
        }
      ]
    },
    {
      "cell_type": "code",
      "metadata": {
        "colab": {
          "base_uri": "https://localhost:8080/"
        },
        "id": "SBKfmKrJ6OSo",
        "outputId": "a97812e1-23a8-4562-e42a-69c758e4ce58"
      },
      "source": [
        "[fruit*index for index, fruit in enumerate(fruits)]"
      ],
      "execution_count": 102,
      "outputs": [
        {
          "output_type": "execute_result",
          "data": {
            "text/plain": [
              "['', 'banana', 'cherrycherry']"
            ]
          },
          "metadata": {
            "tags": []
          },
          "execution_count": 102
        }
      ]
    },
    {
      "cell_type": "code",
      "metadata": {
        "colab": {
          "base_uri": "https://localhost:8080/"
        },
        "id": "EoiJ_s-U6fRv",
        "outputId": "37ce2b1a-e367-431f-8d1e-edd8abc3a904"
      },
      "source": [
        "list(i*i for i in range(10))"
      ],
      "execution_count": 106,
      "outputs": [
        {
          "output_type": "execute_result",
          "data": {
            "text/plain": [
              "[0, 1, 4, 9, 16, 25, 36, 49, 64, 81]"
            ]
          },
          "metadata": {
            "tags": []
          },
          "execution_count": 106
        }
      ]
    },
    {
      "cell_type": "code",
      "metadata": {
        "colab": {
          "base_uri": "https://localhost:8080/"
        },
        "id": "blj39A8e65Ip",
        "outputId": "73fe5249-5651-4d78-c486-db25213ab1ce"
      },
      "source": [
        "sq_list = []\n",
        "for i in range(10):\n",
        "  sq_list.append(i*i)\n",
        "print(sq_list)"
      ],
      "execution_count": 108,
      "outputs": [
        {
          "output_type": "stream",
          "text": [
            "[0, 1, 4, 9, 16, 25, 36, 49, 64, 81]\n"
          ],
          "name": "stdout"
        }
      ]
    },
    {
      "cell_type": "code",
      "metadata": {
        "colab": {
          "base_uri": "https://localhost:8080/"
        },
        "id": "l9_Ig9JN7vzB",
        "outputId": "2d94df1c-f0bb-4c2e-edc0-a4bbd5ec4e20"
      },
      "source": [
        "[i*i for i in range(1, 11) if i%2 == 1]"
      ],
      "execution_count": 109,
      "outputs": [
        {
          "output_type": "execute_result",
          "data": {
            "text/plain": [
              "[1, 9, 25, 49, 81]"
            ]
          },
          "metadata": {
            "tags": []
          },
          "execution_count": 109
        }
      ]
    },
    {
      "cell_type": "markdown",
      "metadata": {
        "id": "I_IIPSSY9S-E"
      },
      "source": [
        "### for 가 여러번 나오게 할 수 있음"
      ]
    },
    {
      "cell_type": "code",
      "metadata": {
        "colab": {
          "base_uri": "https://localhost:8080/"
        },
        "id": "WbyWa5qN8owK",
        "outputId": "d4ccf2a9-e79e-4c0f-f8d9-494ba82ebb1c"
      },
      "source": [
        "# 구구단\n",
        "a = [i*k for i in range(2, 10) for k in range(1, 10)]\n",
        "print(a)"
      ],
      "execution_count": 110,
      "outputs": [
        {
          "output_type": "stream",
          "text": [
            "[2, 4, 6, 8, 10, 12, 14, 16, 18, 3, 6, 9, 12, 15, 18, 21, 24, 27, 4, 8, 12, 16, 20, 24, 28, 32, 36, 5, 10, 15, 20, 25, 30, 35, 40, 45, 6, 12, 18, 24, 30, 36, 42, 48, 54, 7, 14, 21, 28, 35, 42, 49, 56, 63, 8, 16, 24, 32, 40, 48, 56, 64, 72, 9, 18, 27, 36, 45, 54, 63, 72, 81]\n"
          ],
          "name": "stdout"
        }
      ]
    },
    {
      "cell_type": "code",
      "metadata": {
        "colab": {
          "base_uri": "https://localhost:8080/"
        },
        "id": "kox14Zyj9d-V",
        "outputId": "0e132c53-f9d4-4f5f-be0c-221f768e9703"
      },
      "source": [
        "a = [i*k for i in range(2, 10)\n",
        "            for k in range(1, 10)]\n",
        "print(a)"
      ],
      "execution_count": 113,
      "outputs": [
        {
          "output_type": "stream",
          "text": [
            "[[2], [4], [6], [8], [10], [12], [14], [16], [18], [3], [6], [9], [12], [15], [18], [21], [24], [27], [4], [8], [12], [16], [20], [24], [28], [32], [36], [5], [10], [15], [20], [25], [30], [35], [40], [45], [6], [12], [18], [24], [30], [36], [42], [48], [54], [7], [14], [21], [28], [35], [42], [49], [56], [63], [8], [16], [24], [32], [40], [48], [56], [64], [72], [9], [18], [27], [36], [45], [54], [63], [72], [81]]\n"
          ],
          "name": "stdout"
        }
      ]
    },
    {
      "cell_type": "markdown",
      "metadata": {
        "id": "cTxlVTMX-NTj"
      },
      "source": [
        "## 22.6 map"
      ]
    },
    {
      "cell_type": "code",
      "metadata": {
        "colab": {
          "base_uri": "https://localhost:8080/"
        },
        "id": "yPoy330H-LHl",
        "outputId": "6b49da9a-fc6a-473e-f76b-0105afd0ccc8"
      },
      "source": [
        "a = [1.2, 2.3, 3.5, 4.7]\n",
        "for i in range(len(a)):\n",
        "  a[i] = int(a[i])\n",
        "print(a)"
      ],
      "execution_count": 115,
      "outputs": [
        {
          "output_type": "stream",
          "text": [
            "[1, 2, 3, 4]\n"
          ],
          "name": "stdout"
        }
      ]
    },
    {
      "cell_type": "code",
      "metadata": {
        "colab": {
          "base_uri": "https://localhost:8080/"
        },
        "id": "xaHpssYr-djJ",
        "outputId": "83fe9d90-fa66-4c2e-d7a2-ccd78263467b"
      },
      "source": [
        "a = [1.2, 2.3, 3.5, 4.7]\n",
        "for i, val in enumerate(a):\n",
        "  a[i] = int(val)\n",
        "print(a)"
      ],
      "execution_count": 118,
      "outputs": [
        {
          "output_type": "stream",
          "text": [
            "[1, 2, 3, 4]\n"
          ],
          "name": "stdout"
        }
      ]
    },
    {
      "cell_type": "code",
      "metadata": {
        "colab": {
          "base_uri": "https://localhost:8080/"
        },
        "id": "ATMw-Ilw-mvJ",
        "outputId": "083b5bc6-a19e-4ecb-9ab8-24c98e071d52"
      },
      "source": [
        "a = [1.2, 2.3, 3.5, 4.7]\n",
        "a = list(map(lambda x: x*x, a))\n",
        "print(a)"
      ],
      "execution_count": 120,
      "outputs": [
        {
          "output_type": "stream",
          "text": [
            "[1.44, 5.289999999999999, 12.25, 22.090000000000003]\n"
          ],
          "name": "stdout"
        }
      ]
    },
    {
      "cell_type": "markdown",
      "metadata": {
        "id": "VlaaWVmd_6eU"
      },
      "source": [
        "## 22.7 tuple"
      ]
    },
    {
      "cell_type": "code",
      "metadata": {
        "colab": {
          "base_uri": "https://localhost:8080/"
        },
        "id": "2HLbdpyI_Mfd",
        "outputId": "6c9842d1-6dd1-4d50-9672-8794d02f9c7d"
      },
      "source": [
        "tuple(i*i for i in range(1, 11) if i % 2 == 0)"
      ],
      "execution_count": 122,
      "outputs": [
        {
          "output_type": "execute_result",
          "data": {
            "text/plain": [
              "(4, 16, 36, 64, 100)"
            ]
          },
          "metadata": {
            "tags": []
          },
          "execution_count": 122
        }
      ]
    },
    {
      "cell_type": "code",
      "metadata": {
        "id": "5dMDIAj3ACu7"
      },
      "source": [
        ""
      ],
      "execution_count": null,
      "outputs": []
    }
  ]
}