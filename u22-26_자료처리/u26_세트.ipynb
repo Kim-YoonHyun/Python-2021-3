{
  "nbformat": 4,
  "nbformat_minor": 0,
  "metadata": {
    "colab": {
      "name": "u26_세트.ipynb",
      "provenance": [],
      "collapsed_sections": []
    },
    "kernelspec": {
      "name": "python3",
      "display_name": "Python 3"
    },
    "language_info": {
      "name": "python"
    }
  },
  "cells": [
    {
      "cell_type": "markdown",
      "metadata": {
        "id": "j6byDR_n3tdA"
      },
      "source": [
        "# Unit 26. 세트(집합)"
      ]
    },
    {
      "cell_type": "code",
      "metadata": {
        "colab": {
          "base_uri": "https://localhost:8080/"
        },
        "id": "udiIwJMh3q65",
        "outputId": "47385dd1-2858-4f5e-b277-6a2a4e750cd7"
      },
      "source": [
        "fruits = {'apple', 'banana', 'cherry', 'orange', 'grape'}\n",
        "fruits"
      ],
      "execution_count": 1,
      "outputs": [
        {
          "output_type": "execute_result",
          "data": {
            "text/plain": [
              "{'apple', 'banana', 'cherry', 'grape', 'orange'}"
            ]
          },
          "metadata": {
            "tags": []
          },
          "execution_count": 1
        }
      ]
    },
    {
      "cell_type": "code",
      "metadata": {
        "colab": {
          "base_uri": "https://localhost:8080/"
        },
        "id": "MxMhLp_s4Hxx",
        "outputId": "70cfbc2a-976a-4167-e0c8-bea56e5238d3"
      },
      "source": [
        "type(fruits)"
      ],
      "execution_count": 2,
      "outputs": [
        {
          "output_type": "execute_result",
          "data": {
            "text/plain": [
              "set"
            ]
          },
          "metadata": {
            "tags": []
          },
          "execution_count": 2
        }
      ]
    },
    {
      "cell_type": "code",
      "metadata": {
        "colab": {
          "base_uri": "https://localhost:8080/"
        },
        "id": "UnyrrtZ14VHP",
        "outputId": "502159cc-f5f2-4fdf-f3a0-77c6061fa40b"
      },
      "source": [
        "fruits = {'apple', 'banana', 'cherry', 'orange', 'grape', 'apple'}\n",
        "fruits"
      ],
      "execution_count": 3,
      "outputs": [
        {
          "output_type": "execute_result",
          "data": {
            "text/plain": [
              "{'apple', 'banana', 'cherry', 'grape', 'orange'}"
            ]
          },
          "metadata": {
            "tags": []
          },
          "execution_count": 3
        }
      ]
    },
    {
      "cell_type": "code",
      "metadata": {
        "colab": {
          "base_uri": "https://localhost:8080/"
        },
        "id": "weuvmwcz4pOQ",
        "outputId": "90afc743-84a9-445f-8c6e-1a95f4f1f068"
      },
      "source": [
        "'peach' not in fruits"
      ],
      "execution_count": 4,
      "outputs": [
        {
          "output_type": "execute_result",
          "data": {
            "text/plain": [
              "True"
            ]
          },
          "metadata": {
            "tags": []
          },
          "execution_count": 4
        }
      ]
    },
    {
      "cell_type": "code",
      "metadata": {
        "colab": {
          "base_uri": "https://localhost:8080/"
        },
        "id": "o617WJNj46ej",
        "outputId": "d1b7ec35-0475-42ff-e5c7-1d526af2a495"
      },
      "source": [
        "'orange' in fruits"
      ],
      "execution_count": 5,
      "outputs": [
        {
          "output_type": "execute_result",
          "data": {
            "text/plain": [
              "True"
            ]
          },
          "metadata": {
            "tags": []
          },
          "execution_count": 5
        }
      ]
    },
    {
      "cell_type": "code",
      "metadata": {
        "colab": {
          "base_uri": "https://localhost:8080/"
        },
        "id": "kzgXmIVR48PO",
        "outputId": "b0e691e1-491a-4402-ec37-31e4679cb18a"
      },
      "source": [
        "a = set('apple')\n",
        "a"
      ],
      "execution_count": 6,
      "outputs": [
        {
          "output_type": "execute_result",
          "data": {
            "text/plain": [
              "{'a', 'e', 'l', 'p'}"
            ]
          },
          "metadata": {
            "tags": []
          },
          "execution_count": 6
        }
      ]
    },
    {
      "cell_type": "code",
      "metadata": {
        "colab": {
          "base_uri": "https://localhost:8080/"
        },
        "id": "ddEe1go35OSz",
        "outputId": "6138069d-bdcb-4f55-e901-ebb453d6437d"
      },
      "source": [
        "set('안녕하세요')"
      ],
      "execution_count": 8,
      "outputs": [
        {
          "output_type": "execute_result",
          "data": {
            "text/plain": [
              "{'녕', '세', '안', '요', '하'}"
            ]
          },
          "metadata": {
            "tags": []
          },
          "execution_count": 8
        }
      ]
    },
    {
      "cell_type": "code",
      "metadata": {
        "colab": {
          "base_uri": "https://localhost:8080/"
        },
        "id": "NA8OYBbW5QpB",
        "outputId": "c260d500-97ce-4171-e565-59fdf40b4b70"
      },
      "source": [
        "a = set(range(4))\n",
        "b = set(range(2, 6))\n",
        "a, b"
      ],
      "execution_count": 9,
      "outputs": [
        {
          "output_type": "execute_result",
          "data": {
            "text/plain": [
              "({0, 1, 2, 3}, {2, 3, 4, 5})"
            ]
          },
          "metadata": {
            "tags": []
          },
          "execution_count": 9
        }
      ]
    },
    {
      "cell_type": "code",
      "metadata": {
        "colab": {
          "base_uri": "https://localhost:8080/"
        },
        "id": "UgFIaxXs58jd",
        "outputId": "a309895c-bcad-44db-a713-bfa315f4e7c4"
      },
      "source": [
        "# 합집합(union)\n",
        "a | b"
      ],
      "execution_count": 10,
      "outputs": [
        {
          "output_type": "execute_result",
          "data": {
            "text/plain": [
              "{0, 1, 2, 3, 4, 5}"
            ]
          },
          "metadata": {
            "tags": []
          },
          "execution_count": 10
        }
      ]
    },
    {
      "cell_type": "code",
      "metadata": {
        "colab": {
          "base_uri": "https://localhost:8080/"
        },
        "id": "uUqL3lgx5_6J",
        "outputId": "3c4403fc-6b9c-49a1-837e-8059c22ffe11"
      },
      "source": [
        "set.union(a, b)"
      ],
      "execution_count": 11,
      "outputs": [
        {
          "output_type": "execute_result",
          "data": {
            "text/plain": [
              "{0, 1, 2, 3, 4, 5}"
            ]
          },
          "metadata": {
            "tags": []
          },
          "execution_count": 11
        }
      ]
    },
    {
      "cell_type": "code",
      "metadata": {
        "colab": {
          "base_uri": "https://localhost:8080/"
        },
        "id": "lQb5_ccH6XnS",
        "outputId": "496e66bb-96e7-4183-91c1-11e8fe96fcf1"
      },
      "source": [
        "# 교집합\n",
        "set.intersection(a, b)"
      ],
      "execution_count": 13,
      "outputs": [
        {
          "output_type": "execute_result",
          "data": {
            "text/plain": [
              "{2, 3}"
            ]
          },
          "metadata": {
            "tags": []
          },
          "execution_count": 13
        }
      ]
    },
    {
      "cell_type": "code",
      "metadata": {
        "colab": {
          "base_uri": "https://localhost:8080/"
        },
        "id": "Rk1osJzP6Zqd",
        "outputId": "df292c69-6fd0-4f97-95d1-b748be208e98"
      },
      "source": [
        "# 차집합\n",
        "a - b"
      ],
      "execution_count": 14,
      "outputs": [
        {
          "output_type": "execute_result",
          "data": {
            "text/plain": [
              "{0, 1}"
            ]
          },
          "metadata": {
            "tags": []
          },
          "execution_count": 14
        }
      ]
    },
    {
      "cell_type": "code",
      "metadata": {
        "colab": {
          "base_uri": "https://localhost:8080/"
        },
        "id": "fIvMiQHz6wzX",
        "outputId": "6ed29d82-8999-45e4-a3a4-d8e50383db6c"
      },
      "source": [
        "set.difference(a, b)"
      ],
      "execution_count": 15,
      "outputs": [
        {
          "output_type": "execute_result",
          "data": {
            "text/plain": [
              "{0, 1}"
            ]
          },
          "metadata": {
            "tags": []
          },
          "execution_count": 15
        }
      ]
    },
    {
      "cell_type": "code",
      "metadata": {
        "colab": {
          "base_uri": "https://localhost:8080/"
        },
        "id": "XLw0BR2E6y_Q",
        "outputId": "1a9afa07-4167-40a5-db26-a35cd7a8cc45"
      },
      "source": [
        "# 대칭차집합(symmetric difference)\n",
        "a ^ b"
      ],
      "execution_count": 16,
      "outputs": [
        {
          "output_type": "execute_result",
          "data": {
            "text/plain": [
              "{0, 1, 4, 5}"
            ]
          },
          "metadata": {
            "tags": []
          },
          "execution_count": 16
        }
      ]
    },
    {
      "cell_type": "code",
      "metadata": {
        "colab": {
          "base_uri": "https://localhost:8080/"
        },
        "id": "Nd2lwEhG64U7",
        "outputId": "ac61fee5-ea71-4ba4-dc43-e34a7fe277e0"
      },
      "source": [
        "set.symmetric_difference(a, b)"
      ],
      "execution_count": 17,
      "outputs": [
        {
          "output_type": "execute_result",
          "data": {
            "text/plain": [
              "{0, 1, 4, 5}"
            ]
          },
          "metadata": {
            "tags": []
          },
          "execution_count": 17
        }
      ]
    },
    {
      "cell_type": "markdown",
      "metadata": {
        "id": "nv_rCuPD7cDi"
      },
      "source": [
        "### 부분집합, 상위집합"
      ]
    },
    {
      "cell_type": "code",
      "metadata": {
        "colab": {
          "base_uri": "https://localhost:8080/"
        },
        "id": "XscpN6-e669W",
        "outputId": "04eb3161-16ee-4464-f669-c9d4e1c6c019"
      },
      "source": [
        "a <= {0, 1, 2, 3}"
      ],
      "execution_count": 18,
      "outputs": [
        {
          "output_type": "execute_result",
          "data": {
            "text/plain": [
              "True"
            ]
          },
          "metadata": {
            "tags": []
          },
          "execution_count": 18
        }
      ]
    },
    {
      "cell_type": "code",
      "metadata": {
        "colab": {
          "base_uri": "https://localhost:8080/"
        },
        "id": "ObYLPPgl7gXx",
        "outputId": "67ee52a1-bdc6-498e-f6ef-418169f07610"
      },
      "source": [
        "a.issubset({0, 1, 2, 3, 4})"
      ],
      "execution_count": 20,
      "outputs": [
        {
          "output_type": "execute_result",
          "data": {
            "text/plain": [
              "True"
            ]
          },
          "metadata": {
            "tags": []
          },
          "execution_count": 20
        }
      ]
    },
    {
      "cell_type": "code",
      "metadata": {
        "colab": {
          "base_uri": "https://localhost:8080/"
        },
        "id": "cxvvXSlL7uw1",
        "outputId": "bf4d40b2-4054-4698-bc73-391a461eb3fb"
      },
      "source": [
        "a >= {1, 2, 3}"
      ],
      "execution_count": 21,
      "outputs": [
        {
          "output_type": "execute_result",
          "data": {
            "text/plain": [
              "True"
            ]
          },
          "metadata": {
            "tags": []
          },
          "execution_count": 21
        }
      ]
    },
    {
      "cell_type": "code",
      "metadata": {
        "colab": {
          "base_uri": "https://localhost:8080/"
        },
        "id": "RAjPpKSo7yS1",
        "outputId": "6391b694-9c92-4096-f261-f90d697756c2"
      },
      "source": [
        "a.issuperset({1, 2, 3})"
      ],
      "execution_count": 22,
      "outputs": [
        {
          "output_type": "execute_result",
          "data": {
            "text/plain": [
              "True"
            ]
          },
          "metadata": {
            "tags": []
          },
          "execution_count": 22
        }
      ]
    },
    {
      "cell_type": "markdown",
      "metadata": {
        "id": "Fe5xOkEl8JK0"
      },
      "source": [
        "### 값 비교"
      ]
    },
    {
      "cell_type": "code",
      "metadata": {
        "colab": {
          "base_uri": "https://localhost:8080/"
        },
        "id": "GEZPjjqB704I",
        "outputId": "d1fd243d-8a65-4df3-8e42-b899cbf06a5f"
      },
      "source": [
        "a == {3, 1, 0, 2}"
      ],
      "execution_count": 24,
      "outputs": [
        {
          "output_type": "execute_result",
          "data": {
            "text/plain": [
              "True"
            ]
          },
          "metadata": {
            "tags": []
          },
          "execution_count": 24
        }
      ]
    },
    {
      "cell_type": "code",
      "metadata": {
        "colab": {
          "base_uri": "https://localhost:8080/"
        },
        "id": "VzganJ4n8NHV",
        "outputId": "697ecd11-466b-4d70-82eb-00fdbd31e01b"
      },
      "source": [
        "a.isdisjoint(b)"
      ],
      "execution_count": 25,
      "outputs": [
        {
          "output_type": "execute_result",
          "data": {
            "text/plain": [
              "False"
            ]
          },
          "metadata": {
            "tags": []
          },
          "execution_count": 25
        }
      ]
    },
    {
      "cell_type": "markdown",
      "metadata": {
        "id": "G6KxQ-yG8wwe"
      },
      "source": [
        "## 26.3 세트 조작"
      ]
    },
    {
      "cell_type": "code",
      "metadata": {
        "colab": {
          "base_uri": "https://localhost:8080/"
        },
        "id": "MBL75Op78QT5",
        "outputId": "8b329e3e-353a-48e8-e570-cd0db6ae1a0b"
      },
      "source": [
        "a.add(4)\n",
        "a"
      ],
      "execution_count": 30,
      "outputs": [
        {
          "output_type": "execute_result",
          "data": {
            "text/plain": [
              "{0, 1, 2, 3, 4}"
            ]
          },
          "metadata": {
            "tags": []
          },
          "execution_count": 30
        }
      ]
    },
    {
      "cell_type": "code",
      "metadata": {
        "colab": {
          "base_uri": "https://localhost:8080/"
        },
        "id": "M9wMu8eF9ExD",
        "outputId": "950302e6-91ed-4e30-cfb0-dfb5db36464b"
      },
      "source": [
        "a.remove(4)\n",
        "a"
      ],
      "execution_count": 31,
      "outputs": [
        {
          "output_type": "execute_result",
          "data": {
            "text/plain": [
              "{0, 1, 2, 3}"
            ]
          },
          "metadata": {
            "tags": []
          },
          "execution_count": 31
        }
      ]
    },
    {
      "cell_type": "code",
      "metadata": {
        "colab": {
          "base_uri": "https://localhost:8080/"
        },
        "id": "lWjoui_J9FrM",
        "outputId": "27d506d7-4c09-44f0-da5f-b0205559f116"
      },
      "source": [
        "# 임의의 원소 삭제\n",
        "a.pop()"
      ],
      "execution_count": 33,
      "outputs": [
        {
          "output_type": "execute_result",
          "data": {
            "text/plain": [
              "0"
            ]
          },
          "metadata": {
            "tags": []
          },
          "execution_count": 33
        }
      ]
    },
    {
      "cell_type": "code",
      "metadata": {
        "colab": {
          "base_uri": "https://localhost:8080/"
        },
        "id": "efxdjkQK9NBg",
        "outputId": "22df574d-8692-4942-fb84-672ac8adbeee"
      },
      "source": [
        "len(a)"
      ],
      "execution_count": 34,
      "outputs": [
        {
          "output_type": "execute_result",
          "data": {
            "text/plain": [
              "3"
            ]
          },
          "metadata": {
            "tags": []
          },
          "execution_count": 34
        }
      ]
    },
    {
      "cell_type": "markdown",
      "metadata": {
        "id": "VGLLSTS_9eFN"
      },
      "source": [
        "## 26.5 반복문"
      ]
    },
    {
      "cell_type": "code",
      "metadata": {
        "id": "jvKCM10a9PqR"
      },
      "source": [
        ""
      ],
      "execution_count": null,
      "outputs": []
    }
  ]
}