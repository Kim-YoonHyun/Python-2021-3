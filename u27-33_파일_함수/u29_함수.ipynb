{
  "nbformat": 4,
  "nbformat_minor": 0,
  "metadata": {
    "colab": {
      "name": "u29_함수.ipynb",
      "provenance": [],
      "collapsed_sections": [
        "lWGcn8HWO6QR"
      ]
    },
    "kernelspec": {
      "name": "python3",
      "display_name": "Python 3"
    },
    "language_info": {
      "name": "python"
    }
  },
  "cells": [
    {
      "cell_type": "markdown",
      "metadata": {
        "id": "YoFpKUueO3HC"
      },
      "source": [
        "# Unit 29. 함수"
      ]
    },
    {
      "cell_type": "markdown",
      "metadata": {
        "id": "lWGcn8HWO6QR"
      },
      "source": [
        "## 29.1 출력 함수 만들기"
      ]
    },
    {
      "cell_type": "code",
      "metadata": {
        "id": "oE993mbUMZo2"
      },
      "source": [
        "def hello():\n",
        "  print(\"hello, world!\")"
      ],
      "execution_count": 29,
      "outputs": []
    },
    {
      "cell_type": "code",
      "metadata": {
        "colab": {
          "base_uri": "https://localhost:8080/"
        },
        "id": "50a8afAaPBKf",
        "outputId": "a4dca2f9-94d3-49a1-fce4-f050c179c688"
      },
      "source": [
        "hello()"
      ],
      "execution_count": 30,
      "outputs": [
        {
          "output_type": "stream",
          "text": [
            "hello, world!\n"
          ],
          "name": "stdout"
        }
      ]
    },
    {
      "cell_type": "markdown",
      "metadata": {
        "id": "2cyIDbEWP-7z"
      },
      "source": [
        "## 29.2 덧셈 함수"
      ]
    },
    {
      "cell_type": "code",
      "metadata": {
        "id": "DU5OL8uoPB2T"
      },
      "source": [
        "def add(a, b):\n",
        "  print(a + b)"
      ],
      "execution_count": 31,
      "outputs": []
    },
    {
      "cell_type": "code",
      "metadata": {
        "colab": {
          "base_uri": "https://localhost:8080/"
        },
        "id": "4qbxql4rQE61",
        "outputId": "d32c08b3-297b-40fc-d859-ecaf87bbcbb5"
      },
      "source": [
        "add(4, 5)"
      ],
      "execution_count": 32,
      "outputs": [
        {
          "output_type": "stream",
          "text": [
            "9\n"
          ],
          "name": "stdout"
        }
      ]
    },
    {
      "cell_type": "code",
      "metadata": {
        "id": "KgsyKjcGQFv9"
      },
      "source": [
        "# Docstrings\n",
        "def add(a, b):\n",
        "  \"\"\"\n",
        "  이 함수는 a와 b를 더한 뒤 결과를 반환하는 함수입니다.\n",
        "  \"\"\"\n",
        "  print(a + b)\n"
      ],
      "execution_count": 33,
      "outputs": []
    },
    {
      "cell_type": "code",
      "metadata": {
        "id": "VF3EfJuEROq9"
      },
      "source": [
        "# 도움말 호출\n",
        "add?"
      ],
      "execution_count": 34,
      "outputs": []
    },
    {
      "cell_type": "markdown",
      "metadata": {
        "id": "t5HYUWiERWDq"
      },
      "source": [
        "## 29.3 결과값 반환"
      ]
    },
    {
      "cell_type": "code",
      "metadata": {
        "id": "TMB7J8X0RQgg"
      },
      "source": [
        "def add(a, b):\n",
        "  return a+b"
      ],
      "execution_count": 35,
      "outputs": []
    },
    {
      "cell_type": "code",
      "metadata": {
        "colab": {
          "base_uri": "https://localhost:8080/"
        },
        "id": "rEUS0DpkRoR1",
        "outputId": "d710c222-38b7-4964-b5fa-fe96b6633eec"
      },
      "source": [
        "add(4, 5), add(10, 20)"
      ],
      "execution_count": 36,
      "outputs": [
        {
          "output_type": "execute_result",
          "data": {
            "text/plain": [
              "(9, 30)"
            ]
          },
          "metadata": {
            "tags": []
          },
          "execution_count": 36
        }
      ]
    },
    {
      "cell_type": "code",
      "metadata": {
        "colab": {
          "base_uri": "https://localhost:8080/"
        },
        "id": "ESyVO9pdRqoZ",
        "outputId": "0481e88a-0730-4100-9c3d-64141a6467ed"
      },
      "source": [
        "x = add(23, 45)\n",
        "x"
      ],
      "execution_count": 37,
      "outputs": [
        {
          "output_type": "execute_result",
          "data": {
            "text/plain": [
              "68"
            ]
          },
          "metadata": {
            "tags": []
          },
          "execution_count": 37
        }
      ]
    },
    {
      "cell_type": "code",
      "metadata": {
        "id": "9g8ZGpKySwLH"
      },
      "source": [
        "def is_ten(x):\n",
        "  return x== 10\n"
      ],
      "execution_count": 38,
      "outputs": []
    },
    {
      "cell_type": "code",
      "metadata": {
        "colab": {
          "base_uri": "https://localhost:8080/"
        },
        "id": "y8wmBhGVSyzo",
        "outputId": "67c66173-ad7c-4e01-d246-896598d3514d"
      },
      "source": [
        "is_ten(101//10)"
      ],
      "execution_count": 39,
      "outputs": [
        {
          "output_type": "execute_result",
          "data": {
            "text/plain": [
              "True"
            ]
          },
          "metadata": {
            "tags": []
          },
          "execution_count": 39
        }
      ]
    },
    {
      "cell_type": "code",
      "metadata": {
        "id": "DFwhYT63S089"
      },
      "source": [
        "def not_ten(x):\n",
        "  if x == 10:\n",
        "    return\n",
        "  else:\n",
        "    print('It is not 10')\n",
        "    "
      ],
      "execution_count": 40,
      "outputs": []
    },
    {
      "cell_type": "code",
      "metadata": {
        "colab": {
          "base_uri": "https://localhost:8080/"
        },
        "id": "RcAMx0lkS86I",
        "outputId": "b63244e9-7c26-42e4-d4f7-ba50269580d7"
      },
      "source": [
        "not_ten(5)"
      ],
      "execution_count": 41,
      "outputs": [
        {
          "output_type": "stream",
          "text": [
            "It is not 10\n"
          ],
          "name": "stdout"
        }
      ]
    },
    {
      "cell_type": "code",
      "metadata": {
        "id": "YO38gut5S9z5"
      },
      "source": [
        "not_ten(101//10)"
      ],
      "execution_count": 42,
      "outputs": []
    },
    {
      "cell_type": "markdown",
      "metadata": {
        "id": "Au3u5yipTj5I"
      },
      "source": [
        "## 29.4 여러개의 결과값 반환"
      ]
    },
    {
      "cell_type": "code",
      "metadata": {
        "id": "0PEcgWgOTAC_"
      },
      "source": [
        "def add_sub(a, b):\n",
        "  return a + b, a - b"
      ],
      "execution_count": 43,
      "outputs": []
    },
    {
      "cell_type": "code",
      "metadata": {
        "colab": {
          "base_uri": "https://localhost:8080/"
        },
        "id": "5edeTP8HTq5s",
        "outputId": "fcfb1232-ee85-46eb-8883-7c8c80fb2b43"
      },
      "source": [
        "x, y = add_sub(1, 5)\n",
        "x, y"
      ],
      "execution_count": 44,
      "outputs": [
        {
          "output_type": "execute_result",
          "data": {
            "text/plain": [
              "(6, -4)"
            ]
          },
          "metadata": {
            "tags": []
          },
          "execution_count": 44
        }
      ]
    },
    {
      "cell_type": "markdown",
      "metadata": {
        "id": "fUZgGHglUeRZ"
      },
      "source": [
        "## 29.5 함수의 호출 과정"
      ]
    },
    {
      "cell_type": "code",
      "metadata": {
        "id": "hujVXG-aTt7s"
      },
      "source": [
        "# Stack을 이용한다."
      ],
      "execution_count": 45,
      "outputs": []
    },
    {
      "cell_type": "markdown",
      "metadata": {
        "id": "-6a2-OZdVXHP"
      },
      "source": [
        "## 연습 문제\n",
        "- 3자리수 정수 두개를 곱해서 나온 결과가 팔린드롬이 되도록 할 때 가장 큰 숫자는?\n",
        "-팔린드롬: 12321, 1234321"
      ]
    },
    {
      "cell_type": "code",
      "metadata": {
        "colab": {
          "base_uri": "https://localhost:8080/"
        },
        "id": "UiJLRLBPVWT_",
        "outputId": "6741da12-3b55-48e6-8638-c1a2f0a325c6"
      },
      "source": [
        "def cal_palin():\n",
        "  mul_list = []\n",
        "  for number1 in range(100, 1000):\n",
        "    for number2 in range(100, 1000):\n",
        "      mul = number1 * number2\n",
        "      c100000 = mul//100000\n",
        "      c10000 = (mul//10000)%10\n",
        "      c1000 = (mul//1000)%10\n",
        "      c100 = (mul//100)%10\n",
        "      c10 = (mul//10)%10\n",
        "      c1 = mul%10\n",
        "\n",
        "      if mul > 100000:\n",
        "        if c100000 == c1 and c10000 == c10 and c1000 == c100:\n",
        "          mul_list.append(mul)\n",
        "          # print(number1, number2, mul)\n",
        "      else:\n",
        "        if c10000 == c1 and c1000 == c10:\n",
        "          # print(number1, number2, mul)\n",
        "          mul_list.append(mul)\n",
        "\n",
        "  mul_list.sort(reverse=True)\n",
        "  return mul_list[0]\n",
        "\n",
        "max_pal = cal_palin()\n",
        "\n",
        "for number1 in range(100, 1000):\n",
        "  for number2 in range(100, 1000):\n",
        "    if number1 * number2 == max_pal:\n",
        "      print(f'{number1} * {number2} = {max_pal}')"
      ],
      "execution_count": 72,
      "outputs": [
        {
          "output_type": "stream",
          "text": [
            "913 * 993 = 906609\n",
            "993 * 913 = 906609\n"
          ],
          "name": "stdout"
        }
      ]
    },
    {
      "cell_type": "code",
      "metadata": {
        "id": "MehuMyV3Wo2E"
      },
      "source": [
        "def is_palindrome(x):\n",
        "  s = str(x)\n",
        "  return s == s[::-1]"
      ],
      "execution_count": 73,
      "outputs": []
    },
    {
      "cell_type": "code",
      "metadata": {
        "colab": {
          "base_uri": "https://localhost:8080/"
        },
        "id": "4BWpeE25dWFO",
        "outputId": "db361a25-8605-4318-ea28-9b8311080834"
      },
      "source": [
        "is_palindrome(12345)"
      ],
      "execution_count": 74,
      "outputs": [
        {
          "output_type": "execute_result",
          "data": {
            "text/plain": [
              "False"
            ]
          },
          "metadata": {
            "tags": []
          },
          "execution_count": 74
        }
      ]
    },
    {
      "cell_type": "code",
      "metadata": {
        "colab": {
          "base_uri": "https://localhost:8080/"
        },
        "id": "MYkYNs3edYDp",
        "outputId": "ed2428e3-f305-4344-e2da-53d17aaaa905"
      },
      "source": [
        "is_palindrome(9989899)"
      ],
      "execution_count": 76,
      "outputs": [
        {
          "output_type": "execute_result",
          "data": {
            "text/plain": [
              "True"
            ]
          },
          "metadata": {
            "tags": []
          },
          "execution_count": 76
        }
      ]
    },
    {
      "cell_type": "code",
      "metadata": {
        "colab": {
          "base_uri": "https://localhost:8080/"
        },
        "id": "O3sl4bOfdcQg",
        "outputId": "5b020af1-46f6-4c0c-c039-63b69fb40a62"
      },
      "source": [
        "max_pal, m, n = 0, 0, 0\n",
        "for i in range(100, 1000):\n",
        "  for k in range(i, 1000):\n",
        "    if str(i*k) == str(i*k)[::-1]:\n",
        "      if i*k > max_pal:\n",
        "        max_pal = i*k\n",
        "        m = i\n",
        "        n = k\n",
        "print(max_pal, m, n)"
      ],
      "execution_count": 81,
      "outputs": [
        {
          "output_type": "stream",
          "text": [
            "906609 913 993\n"
          ],
          "name": "stdout"
        }
      ]
    },
    {
      "cell_type": "code",
      "metadata": {
        "id": "NN_6lRFXdl8l"
      },
      "source": [
        ""
      ],
      "execution_count": null,
      "outputs": []
    }
  ]
}