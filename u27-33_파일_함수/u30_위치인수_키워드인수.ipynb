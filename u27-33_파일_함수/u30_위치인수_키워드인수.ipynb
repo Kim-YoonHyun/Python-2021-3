{
  "nbformat": 4,
  "nbformat_minor": 0,
  "metadata": {
    "colab": {
      "name": "u30_위치인수_키워드인수.ipynb",
      "provenance": [],
      "collapsed_sections": []
    },
    "kernelspec": {
      "name": "python3",
      "display_name": "Python 3"
    },
    "language_info": {
      "name": "python"
    }
  },
  "cells": [
    {
      "cell_type": "markdown",
      "metadata": {
        "id": "Ctk-VY6mfu7Y"
      },
      "source": [
        "# Unit 30. 위치 인수와 키워드 인수"
      ]
    },
    {
      "cell_type": "markdown",
      "metadata": {
        "id": "Tp3E0XXXfx2W"
      },
      "source": [
        "## 30.1 위치 인수"
      ]
    },
    {
      "cell_type": "code",
      "metadata": {
        "id": "5y9dW6O7fpZa"
      },
      "source": [
        "def print_number(a, b, c):\n",
        "  print(a)\n",
        "  print(b)\n",
        "  print(c)"
      ],
      "execution_count": 14,
      "outputs": []
    },
    {
      "cell_type": "code",
      "metadata": {
        "colab": {
          "base_uri": "https://localhost:8080/"
        },
        "id": "JOhNFUHRgGOZ",
        "outputId": "b686731a-3593-45a2-f787-7c5fd00209d4"
      },
      "source": [
        "print_number(10, 20, 30)"
      ],
      "execution_count": 15,
      "outputs": [
        {
          "output_type": "stream",
          "text": [
            "10\n",
            "20\n",
            "30\n"
          ],
          "name": "stdout"
        }
      ]
    },
    {
      "cell_type": "code",
      "metadata": {
        "colab": {
          "base_uri": "https://localhost:8080/"
        },
        "id": "X0FBqDaAhGNH",
        "outputId": "49fc726c-910c-44d1-cb46-00c485aefcdd"
      },
      "source": [
        "# *x, *y: list, tuple unpacking\n",
        "x, y = [10, 20, 30], (40, 50, 60)\n",
        "print_number(*x)\n",
        "print_number(*y)"
      ],
      "execution_count": 16,
      "outputs": [
        {
          "output_type": "stream",
          "text": [
            "10\n",
            "20\n",
            "30\n",
            "40\n",
            "50\n",
            "60\n"
          ],
          "name": "stdout"
        }
      ]
    },
    {
      "cell_type": "markdown",
      "metadata": {
        "id": "mKLv7Xgmh4jX"
      },
      "source": [
        "### 가변 인수 함수"
      ]
    },
    {
      "cell_type": "code",
      "metadata": {
        "id": "Aa_INQwxhLSx"
      },
      "source": [
        "def print_number2(*args):\n",
        "  for arg in args:\n",
        "    print(arg)"
      ],
      "execution_count": 17,
      "outputs": []
    },
    {
      "cell_type": "code",
      "metadata": {
        "colab": {
          "base_uri": "https://localhost:8080/"
        },
        "id": "O9i_8E2YiB0F",
        "outputId": "5b05dffe-98f1-4b4b-9e04-661fc4da348d"
      },
      "source": [
        "print_number2(10, 20, 30, 40, 50, 1, 2, 3, 5, 6)"
      ],
      "execution_count": 18,
      "outputs": [
        {
          "output_type": "stream",
          "text": [
            "10\n",
            "20\n",
            "30\n",
            "40\n",
            "50\n",
            "1\n",
            "2\n",
            "3\n",
            "5\n",
            "6\n"
          ],
          "name": "stdout"
        }
      ]
    },
    {
      "cell_type": "markdown",
      "metadata": {
        "id": "bP8kMP0QijnO"
      },
      "source": [
        "### 고정 인수와 가변 인수"
      ]
    },
    {
      "cell_type": "code",
      "metadata": {
        "id": "Mh6aU0CciGT9"
      },
      "source": [
        "def print_number3(a, *args):\n",
        "  print(a)\n",
        "  print(args)"
      ],
      "execution_count": 19,
      "outputs": []
    },
    {
      "cell_type": "code",
      "metadata": {
        "colab": {
          "base_uri": "https://localhost:8080/"
        },
        "id": "YLMNEfpGirYv",
        "outputId": "437db1d0-ce53-4f1b-e703-37d5998d2624"
      },
      "source": [
        "print_number3(1, 2, 3, 5, 7, 8, 9)"
      ],
      "execution_count": 20,
      "outputs": [
        {
          "output_type": "stream",
          "text": [
            "1\n",
            "(2, 3, 5, 7, 8, 9)\n"
          ],
          "name": "stdout"
        }
      ]
    },
    {
      "cell_type": "code",
      "metadata": {
        "colab": {
          "base_uri": "https://localhost:8080/"
        },
        "id": "87Z-t149itDg",
        "outputId": "bd4cac42-04bf-4a41-f88d-c34764cde090"
      },
      "source": [
        "print_number3(*x)"
      ],
      "execution_count": 21,
      "outputs": [
        {
          "output_type": "stream",
          "text": [
            "10\n",
            "(20, 30)\n"
          ],
          "name": "stdout"
        }
      ]
    },
    {
      "cell_type": "code",
      "metadata": {
        "id": "7LxYdqimjB4g"
      },
      "source": [
        "# 가변 인수가 고정 인수보다 먼저 나오면 안됨\n",
        "def print_numbers4(*args, a):\n",
        "  print(args)\n",
        "  print(a)\n"
      ],
      "execution_count": 22,
      "outputs": []
    },
    {
      "cell_type": "code",
      "metadata": {
        "colab": {
          "base_uri": "https://localhost:8080/",
          "height": 174
        },
        "id": "0wrByu0gjWPy",
        "outputId": "6a6cd474-2e11-4e6d-b16f-ae607f0887b0"
      },
      "source": [
        "print_numbers4(1, 2,3 , 4, 5, 7)"
      ],
      "execution_count": 23,
      "outputs": [
        {
          "output_type": "error",
          "ename": "TypeError",
          "evalue": "ignored",
          "traceback": [
            "\u001b[0;31m---------------------------------------------------------------------------\u001b[0m",
            "\u001b[0;31mTypeError\u001b[0m                                 Traceback (most recent call last)",
            "\u001b[0;32m<ipython-input-23-c37c3e7730dc>\u001b[0m in \u001b[0;36m<module>\u001b[0;34m()\u001b[0m\n\u001b[0;32m----> 1\u001b[0;31m \u001b[0mprint_numbers4\u001b[0m\u001b[0;34m(\u001b[0m\u001b[0;36m1\u001b[0m\u001b[0;34m,\u001b[0m \u001b[0;36m2\u001b[0m\u001b[0;34m,\u001b[0m\u001b[0;36m3\u001b[0m \u001b[0;34m,\u001b[0m \u001b[0;36m4\u001b[0m\u001b[0;34m,\u001b[0m \u001b[0;36m5\u001b[0m\u001b[0;34m,\u001b[0m \u001b[0;36m7\u001b[0m\u001b[0;34m)\u001b[0m\u001b[0;34m\u001b[0m\u001b[0;34m\u001b[0m\u001b[0m\n\u001b[0m",
            "\u001b[0;31mTypeError\u001b[0m: print_numbers4() missing 1 required keyword-only argument: 'a'"
          ]
        }
      ]
    },
    {
      "cell_type": "markdown",
      "metadata": {
        "id": "uke8u5dmmlz1"
      },
      "source": [
        "## 30.2 키워드 인수"
      ]
    },
    {
      "cell_type": "code",
      "metadata": {
        "id": "HaQFDlxFjYyQ"
      },
      "source": [
        "def personal_info(name, age, addr):\n",
        "  print('이름:', name)\n",
        "  print('나이:', age)\n",
        "  print('주소:', addr)"
      ],
      "execution_count": 25,
      "outputs": []
    },
    {
      "cell_type": "code",
      "metadata": {
        "colab": {
          "base_uri": "https://localhost:8080/"
        },
        "id": "Nj61BEvjmz-A",
        "outputId": "0d6ae9d5-42ee-4f86-d075-e47ebdda0b21"
      },
      "source": [
        "personal_info('홍길동', 30, '서울 강남구 도곡동')"
      ],
      "execution_count": 26,
      "outputs": [
        {
          "output_type": "stream",
          "text": [
            "이름: 홍길동\n",
            "나이: 30\n",
            "주소: 서울 강남구 도곡동\n"
          ],
          "name": "stdout"
        }
      ]
    },
    {
      "cell_type": "code",
      "metadata": {
        "colab": {
          "base_uri": "https://localhost:8080/"
        },
        "id": "dA1jBHlxm4yr",
        "outputId": "836c848a-74ad-43a6-de44-8e8729bb341f"
      },
      "source": [
        "personal_info(age=30, addr='서울 강남구 도곡동', name='홍길동')"
      ],
      "execution_count": 28,
      "outputs": [
        {
          "output_type": "stream",
          "text": [
            "이름: 홍길동\n",
            "나이: 30\n",
            "주소: 서울 강남구 도곡동\n"
          ],
          "name": "stdout"
        }
      ]
    },
    {
      "cell_type": "markdown",
      "metadata": {
        "id": "YZNechdSnpnA"
      },
      "source": [
        "## 30.3 키워드 인수와 딕셔너리 언패킹"
      ]
    },
    {
      "cell_type": "code",
      "metadata": {
        "colab": {
          "base_uri": "https://localhost:8080/"
        },
        "id": "WzXDw9YNnI1b",
        "outputId": "b61eba1a-9aef-427d-fd0d-03b9933ef72b"
      },
      "source": [
        "x = {'name':'홍길동', 'age':30, 'addr':'서울 강남구 도곡동'}\n",
        "personal_info(**x)"
      ],
      "execution_count": 57,
      "outputs": [
        {
          "output_type": "stream",
          "text": [
            "이름: 홍길동\n",
            "나이: 30\n",
            "주소: 서울 강남구 도곡동\n"
          ],
          "name": "stdout"
        }
      ]
    },
    {
      "cell_type": "code",
      "metadata": {
        "colab": {
          "base_uri": "https://localhost:8080/"
        },
        "id": "8eWuVBjAn457",
        "outputId": "9d2daf4d-19d5-44cb-f583-7c4c60189e10"
      },
      "source": [
        "# *x는 x의 키를 불러냄\n",
        "personal_info(*x)"
      ],
      "execution_count": 58,
      "outputs": [
        {
          "output_type": "stream",
          "text": [
            "이름: name\n",
            "나이: age\n",
            "주소: addr\n"
          ],
          "name": "stdout"
        }
      ]
    },
    {
      "cell_type": "markdown",
      "metadata": {
        "id": "3f-o4F2Ool2v"
      },
      "source": [
        "### 가변 키워드 인수"
      ]
    },
    {
      "cell_type": "code",
      "metadata": {
        "id": "t-RJmMGCoXQR"
      },
      "source": [
        "def personal_info2(**kwargs):\n",
        "  for key, value in kwargs.items():\n",
        "    print(f'{key}: {value}')"
      ],
      "execution_count": 63,
      "outputs": []
    },
    {
      "cell_type": "code",
      "metadata": {
        "colab": {
          "base_uri": "https://localhost:8080/"
        },
        "id": "ynA4ULIUo6f3",
        "outputId": "828ac78f-9ff3-4d33-f619-0561ab5366e4"
      },
      "source": [
        "personal_info2(**x)"
      ],
      "execution_count": 64,
      "outputs": [
        {
          "output_type": "stream",
          "text": [
            "name: 홍길동\n",
            "age: 30\n",
            "addr: 서울 강남구 도곡동\n"
          ],
          "name": "stdout"
        }
      ]
    },
    {
      "cell_type": "markdown",
      "metadata": {
        "id": "zf-mGhIXprt1"
      },
      "source": [
        "### 고정 인수와 가변 키워드 인수"
      ]
    },
    {
      "cell_type": "code",
      "metadata": {
        "id": "waleQaUno9aj"
      },
      "source": [
        "def personal_info3(name, **kwargs):\n",
        "  print(name)\n",
        "  print(kwargs)"
      ],
      "execution_count": 43,
      "outputs": []
    },
    {
      "cell_type": "code",
      "metadata": {
        "colab": {
          "base_uri": "https://localhost:8080/"
        },
        "id": "onqr4UqeqA-l",
        "outputId": "469de5dc-a65e-40a2-eb25-17ab2221cbbc"
      },
      "source": [
        "personal_info3(**x)"
      ],
      "execution_count": 44,
      "outputs": [
        {
          "output_type": "stream",
          "text": [
            "홍길동\n",
            "{'age': 30, 'addr': '서울 강남구 도곡동'}\n"
          ],
          "name": "stdout"
        }
      ]
    },
    {
      "cell_type": "markdown",
      "metadata": {
        "id": "ybZy0q-yqc8O"
      },
      "source": [
        "### 위치 인수와 키워드 인수"
      ]
    },
    {
      "cell_type": "code",
      "metadata": {
        "id": "MgZJMC-hqC2F"
      },
      "source": [
        "def my_print(*args, **kwargs):\n",
        "  print(*args, **kwargs)"
      ],
      "execution_count": 52,
      "outputs": []
    },
    {
      "cell_type": "code",
      "metadata": {
        "colab": {
          "base_uri": "https://localhost:8080/"
        },
        "id": "_wxvrZCdqlfS",
        "outputId": "237b0273-1afb-42d3-9337-04e63ba8c904"
      },
      "source": [
        "my_print(10, 20, 30)"
      ],
      "execution_count": 69,
      "outputs": [
        {
          "output_type": "stream",
          "text": [
            "10 20 30\n"
          ],
          "name": "stdout"
        }
      ]
    },
    {
      "cell_type": "markdown",
      "metadata": {
        "id": "9GVuouAWrZp3"
      },
      "source": [
        "## 30.4 매개변수에 초기값 지정"
      ]
    },
    {
      "cell_type": "code",
      "metadata": {
        "id": "VmSMooL2rQsD"
      },
      "source": [
        "def personal_info4(name, age, addr='비공개'):\n",
        "  print('이름:', name)\n",
        "  print('나이:', age)\n",
        "  print('주소:', addr)"
      ],
      "execution_count": 70,
      "outputs": []
    },
    {
      "cell_type": "code",
      "metadata": {
        "colab": {
          "base_uri": "https://localhost:8080/"
        },
        "id": "GFqYqbOJrzpV",
        "outputId": "14f1a75a-3762-4d70-dac7-301d894ae51f"
      },
      "source": [
        "personal_info4('홍길동', 30)"
      ],
      "execution_count": 71,
      "outputs": [
        {
          "output_type": "stream",
          "text": [
            "이름: 홍길동\n",
            "나이: 30\n",
            "주소: 비공개\n"
          ],
          "name": "stdout"
        }
      ]
    },
    {
      "cell_type": "code",
      "metadata": {
        "colab": {
          "base_uri": "https://localhost:8080/"
        },
        "id": "CMcXQXkkr2jy",
        "outputId": "805e6a79-5960-4010-9d72-9aef79fcf62b"
      },
      "source": [
        "personal_info4(**x)"
      ],
      "execution_count": 72,
      "outputs": [
        {
          "output_type": "stream",
          "text": [
            "이름: 홍길동\n",
            "나이: 30\n",
            "주소: 서울 강남구 도곡동\n"
          ],
          "name": "stdout"
        }
      ]
    }
  ]
}