{
  "nbformat": 4,
  "nbformat_minor": 0,
  "metadata": {
    "colab": {
      "name": "u34_클래스.ipynb",
      "provenance": [],
      "collapsed_sections": []
    },
    "kernelspec": {
      "name": "python3",
      "display_name": "Python 3"
    },
    "language_info": {
      "name": "python"
    }
  },
  "cells": [
    {
      "cell_type": "markdown",
      "metadata": {
        "id": "nREG2xkX5l9-"
      },
      "source": [
        "# Unit 34. 클래스(class)"
      ]
    },
    {
      "cell_type": "markdown",
      "metadata": {
        "id": "oO7W-1Jl7YTS"
      },
      "source": [
        "## 34.1 클래스와 메서드 만들기"
      ]
    },
    {
      "cell_type": "code",
      "metadata": {
        "id": "Bnjsv4CC593E"
      },
      "source": [
        "class Person:       # 클래스 이름은 대문자로 시작\n",
        "  def greeting(self):       # 메소드의 첫번째 인수는 반드시 self\n",
        "    print('Hello')"
      ],
      "execution_count": 17,
      "outputs": []
    },
    {
      "cell_type": "code",
      "metadata": {
        "id": "UZ04vJO87y2I"
      },
      "source": [
        "# 인스턴스를 만들어야 클래스를 사용할 수\n",
        "james = Person()\n",
        "maria = Person()"
      ],
      "execution_count": 19,
      "outputs": []
    },
    {
      "cell_type": "code",
      "metadata": {
        "colab": {
          "base_uri": "https://localhost:8080/"
        },
        "id": "fTzCCtWP8CuT",
        "outputId": "501efbd3-df43-446b-d907-6fd19833985b"
      },
      "source": [
        "james.greeting()"
      ],
      "execution_count": 20,
      "outputs": [
        {
          "output_type": "stream",
          "text": [
            "Hello\n"
          ],
          "name": "stdout"
        }
      ]
    },
    {
      "cell_type": "code",
      "metadata": {
        "colab": {
          "base_uri": "https://localhost:8080/"
        },
        "id": "3paNVH5C8UnK",
        "outputId": "044216ca-4f2e-4dac-c2c9-9f3831353ccd"
      },
      "source": [
        "maria.greeting()"
      ],
      "execution_count": 21,
      "outputs": [
        {
          "output_type": "stream",
          "text": [
            "Hello\n"
          ],
          "name": "stdout"
        }
      ]
    },
    {
      "cell_type": "code",
      "metadata": {
        "colab": {
          "base_uri": "https://localhost:8080/"
        },
        "id": "6j2hKMt88WRt",
        "outputId": "32e9b802-a8ea-4349-b6b0-4ecf41ac20fa"
      },
      "source": [
        "Person().greeting()"
      ],
      "execution_count": 35,
      "outputs": [
        {
          "output_type": "stream",
          "text": [
            "Hello\n"
          ],
          "name": "stdout"
        }
      ]
    },
    {
      "cell_type": "code",
      "metadata": {
        "id": "FnI9AEv3-PLg"
      },
      "source": [
        "# 클래스 내에서 메서드 호출하기\n",
        "class Person:\n",
        "  def greeting(self):\n",
        "    print('Hello')\n",
        "  \n",
        "  def hello(self):\n",
        "    self.greeting()\n"
      ],
      "execution_count": 36,
      "outputs": []
    },
    {
      "cell_type": "code",
      "metadata": {
        "colab": {
          "base_uri": "https://localhost:8080/"
        },
        "id": "2mQ4n7yL8jwe",
        "outputId": "4afcb2c7-6de8-48da-b703-88ce22124a0e"
      },
      "source": [
        "james = Person()\n",
        "james.hello()"
      ],
      "execution_count": 37,
      "outputs": [
        {
          "output_type": "stream",
          "text": [
            "Hello\n"
          ],
          "name": "stdout"
        }
      ]
    },
    {
      "cell_type": "code",
      "metadata": {
        "colab": {
          "base_uri": "https://localhost:8080/"
        },
        "id": "w7Xiii8I-hpp",
        "outputId": "bba5acae-7cb3-4740-f300-7e9a796c2f3b"
      },
      "source": [
        "isinstance(james, Person)"
      ],
      "execution_count": 41,
      "outputs": [
        {
          "output_type": "execute_result",
          "data": {
            "text/plain": [
              "True"
            ]
          },
          "metadata": {
            "tags": []
          },
          "execution_count": 41
        }
      ]
    },
    {
      "cell_type": "code",
      "metadata": {
        "id": "3_WYx1jw-1_E"
      },
      "source": [
        "def factorial(n):\n",
        "  if not isinstance(n, int) or n < 0:\n",
        "    return None\n",
        "  if n == 0:\n",
        "    return 1\n",
        "  return n*factorial(n-1)"
      ],
      "execution_count": 42,
      "outputs": []
    },
    {
      "cell_type": "code",
      "metadata": {
        "id": "v3W3OYEo_FhB"
      },
      "source": [
        "factorial(3.13)"
      ],
      "execution_count": 47,
      "outputs": []
    },
    {
      "cell_type": "code",
      "metadata": {
        "colab": {
          "base_uri": "https://localhost:8080/"
        },
        "id": "MjSXs9h8_JkI",
        "outputId": "d3e67416-31c7-4086-9e81-78ae9fcad0e9"
      },
      "source": [
        "factorial(0)"
      ],
      "execution_count": 49,
      "outputs": [
        {
          "output_type": "execute_result",
          "data": {
            "text/plain": [
              "1"
            ]
          },
          "metadata": {
            "tags": []
          },
          "execution_count": 49
        }
      ]
    },
    {
      "cell_type": "code",
      "metadata": {
        "colab": {
          "base_uri": "https://localhost:8080/"
        },
        "id": "LiM_BSvN_UG7",
        "outputId": "b3513621-67b8-4592-f33c-ab96c31a5cf8"
      },
      "source": [
        "factorial(9)"
      ],
      "execution_count": 50,
      "outputs": [
        {
          "output_type": "execute_result",
          "data": {
            "text/plain": [
              "362880"
            ]
          },
          "metadata": {
            "tags": []
          },
          "execution_count": 50
        }
      ]
    },
    {
      "cell_type": "markdown",
      "metadata": {
        "id": "6LMdGQon_cYm"
      },
      "source": [
        "## 34.2 속성(Attribute)"
      ]
    },
    {
      "cell_type": "code",
      "metadata": {
        "id": "b2fTP9RH_Xtb"
      },
      "source": [
        "class Person:\n",
        "  def __init__(self):\n",
        "    self.hello = '안녕하세요'          # hello 속성을 갖게 됨\n",
        "\n",
        "  def greeting(self):\n",
        "    print(self.hello)"
      ],
      "execution_count": 51,
      "outputs": []
    },
    {
      "cell_type": "code",
      "metadata": {
        "colab": {
          "base_uri": "https://localhost:8080/"
        },
        "id": "D8ZJcXY6ACB4",
        "outputId": "99e1d9c8-0dcd-4cc4-894a-c4b727808255"
      },
      "source": [
        "maria = Person()\n",
        "maria.greeting()"
      ],
      "execution_count": 52,
      "outputs": [
        {
          "output_type": "stream",
          "text": [
            "안녕하세요\n"
          ],
          "name": "stdout"
        }
      ]
    },
    {
      "cell_type": "code",
      "metadata": {
        "colab": {
          "base_uri": "https://localhost:8080/"
        },
        "id": "8yDMBHhoAE3b",
        "outputId": "42a69319-e6a2-4f67-8412-157621d669ca"
      },
      "source": [
        "maria.hello = 'How are you?'\n",
        "maria.greeting()"
      ],
      "execution_count": 53,
      "outputs": [
        {
          "output_type": "stream",
          "text": [
            "How are you?\n"
          ],
          "name": "stdout"
        }
      ]
    },
    {
      "cell_type": "code",
      "metadata": {
        "id": "G3fRiggcAnU_"
      },
      "source": [
        "class Person:\n",
        "  def __init__(self, hello):        # Constructor\n",
        "    self.hello = hello\n",
        "\n",
        "  def greeting(self):\n",
        "    print(self.hello)"
      ],
      "execution_count": 54,
      "outputs": []
    },
    {
      "cell_type": "code",
      "metadata": {
        "id": "940Ic7OLBrd4"
      },
      "source": [
        "james = Person('안녕하세요')\n",
        "maria = Person('How are you')"
      ],
      "execution_count": 56,
      "outputs": []
    },
    {
      "cell_type": "code",
      "metadata": {
        "colab": {
          "base_uri": "https://localhost:8080/"
        },
        "id": "ht6S5VRdBu5J",
        "outputId": "dca0e605-8787-4a21-99bb-1f7ae031222f"
      },
      "source": [
        "james.greeting()\n",
        "maria.greeting()"
      ],
      "execution_count": 61,
      "outputs": [
        {
          "output_type": "stream",
          "text": [
            "안녕하세요\n",
            "123\n",
            "How are you\n"
          ],
          "name": "stdout"
        }
      ]
    },
    {
      "cell_type": "code",
      "metadata": {
        "id": "TzPlihWOCdjH"
      },
      "source": [
        "class Person:\n",
        "  def __init__(self, name, age, addr):\n",
        "    self.hello = '안녕하세요'\n",
        "    self.name = name            # 같은 이름으로 쓰는것이 관례\n",
        "    self.age = age\n",
        "    self.addr = addr\n",
        "  \n",
        "  def greeting(self):\n",
        "    print(f'{self.hello} 저는 {self.name}입니다.')\n",
        "  \n",
        "  def __str__(self):\n",
        "    return f'hello: {self.hello}, name: {self.name}, age: {self.age}, addr: {self.addr}'"
      ],
      "execution_count": 70,
      "outputs": []
    },
    {
      "cell_type": "code",
      "metadata": {
        "id": "5KKvtW_QC_NT"
      },
      "source": [
        "maria = Person('maria', 23, '서울시 강남구 도곡동')"
      ],
      "execution_count": 71,
      "outputs": []
    },
    {
      "cell_type": "code",
      "metadata": {
        "colab": {
          "base_uri": "https://localhost:8080/"
        },
        "id": "fJWo-uRDDEVB",
        "outputId": "d7f83a87-1964-4999-b725-f7a7afd85e83"
      },
      "source": [
        "maria.greeting()"
      ],
      "execution_count": 72,
      "outputs": [
        {
          "output_type": "stream",
          "text": [
            "안녕하세요 저는 maria입니다.\n"
          ],
          "name": "stdout"
        }
      ]
    },
    {
      "cell_type": "code",
      "metadata": {
        "colab": {
          "base_uri": "https://localhost:8080/"
        },
        "id": "YGaj8sZcDI8c",
        "outputId": "20ed0a90-f0cd-418e-d047-a9c058bf2b79"
      },
      "source": [
        "print(maria)"
      ],
      "execution_count": 73,
      "outputs": [
        {
          "output_type": "stream",
          "text": [
            "hello: 안녕하세요, name: maria, age: 23, addr: 서울시 강남구 도곡동\n"
          ],
          "name": "stdout"
        }
      ]
    },
    {
      "cell_type": "markdown",
      "metadata": {
        "id": "lR6g1UvaV8Nj"
      },
      "source": [
        "## 34.3 비공개 속성"
      ]
    },
    {
      "cell_type": "code",
      "metadata": {
        "colab": {
          "base_uri": "https://localhost:8080/"
        },
        "id": "mqZE9UVSV78-",
        "outputId": "d3fef5fa-84e5-4eaf-8740-f381eeb68e05"
      },
      "source": [
        "maria.age = 30\n",
        "print(maria)"
      ],
      "execution_count": 74,
      "outputs": [
        {
          "output_type": "stream",
          "text": [
            "hello: 안녕하세요, name: maria, age: 30, addr: 서울시 강남구 도곡동\n"
          ],
          "name": "stdout"
        }
      ]
    },
    {
      "cell_type": "code",
      "metadata": {
        "id": "NAiVnJYTUrmi"
      },
      "source": [
        "class Person:\n",
        "  def __init__(self, name, age, addr, wallet):\n",
        "    self.name = name            # 같은 이름으로 쓰는것이 관례\n",
        "    self.age = age\n",
        "    self.addr = addr\n",
        "    self.__wallet = wallet       # __ 속성은 비공개\n",
        "  \n",
        "  def greeting(self):\n",
        "    print(f'안녕하세요 저는 {self.name}입니다.')\n",
        "\n",
        "  def pay(self, amount):\n",
        "    if (self.__wallet - amount) < 0:\n",
        "      print('지갑에 돈이 부족합니다.')\n",
        "      return\n",
        "    self.__wallet -= amount\n",
        "    print(f'지갑에 남은 돈은 {self.__wallet}입니다.')\n",
        "  \n",
        "  def __str__(self):\n",
        "    return f'name: {self.name}, age: {self.age}, addr: {self.addr}, wallet: {self.__wallet}'"
      ],
      "execution_count": 99,
      "outputs": []
    },
    {
      "cell_type": "code",
      "metadata": {
        "colab": {
          "base_uri": "https://localhost:8080/"
        },
        "id": "5zLp4sWWWuTR",
        "outputId": "b3c32a23-8b62-44c1-c427-e25ab3a68df8"
      },
      "source": [
        "james = Person('james', 27, '서울 강남구 역삼동', 10000)\n",
        "james.greeting()"
      ],
      "execution_count": 100,
      "outputs": [
        {
          "output_type": "stream",
          "text": [
            "안녕하세요 저는 james입니다.\n"
          ],
          "name": "stdout"
        }
      ]
    },
    {
      "cell_type": "code",
      "metadata": {
        "colab": {
          "base_uri": "https://localhost:8080/"
        },
        "id": "ukiUdKAgW1JS",
        "outputId": "575e99ab-586c-45ef-e2a8-abdd73ee3159"
      },
      "source": [
        "print(james)"
      ],
      "execution_count": 101,
      "outputs": [
        {
          "output_type": "stream",
          "text": [
            "name: james, age: 27, addr: 서울 강남구 역삼동, wallet: 10000\n"
          ],
          "name": "stdout"
        }
      ]
    },
    {
      "cell_type": "code",
      "metadata": {
        "id": "E__jpzb5XEZr"
      },
      "source": [
        "# __은 비공개 속성이므로 클래스 바깥에서 변경 불가\n",
        "james.__wallet = 100000000"
      ],
      "execution_count": 102,
      "outputs": []
    },
    {
      "cell_type": "code",
      "metadata": {
        "colab": {
          "base_uri": "https://localhost:8080/"
        },
        "id": "eJyAyLU4XLBx",
        "outputId": "2e662851-20ef-47b8-f208-7900d3d49dfa"
      },
      "source": [
        "print(james)"
      ],
      "execution_count": 103,
      "outputs": [
        {
          "output_type": "stream",
          "text": [
            "name: james, age: 27, addr: 서울 강남구 역삼동, wallet: 10000\n"
          ],
          "name": "stdout"
        }
      ]
    },
    {
      "cell_type": "code",
      "metadata": {
        "id": "R64lHTAtXL_1"
      },
      "source": [
        "james.face = 'red'"
      ],
      "execution_count": 104,
      "outputs": []
    },
    {
      "cell_type": "code",
      "metadata": {
        "colab": {
          "base_uri": "https://localhost:8080/"
        },
        "id": "cgg41s8sXVhS",
        "outputId": "67d1f46b-3a81-4e53-ef04-7d9e0f3e40c2"
      },
      "source": [
        "james.pay(5000)"
      ],
      "execution_count": 105,
      "outputs": [
        {
          "output_type": "stream",
          "text": [
            "지갑에 남은 돈은 5000입니다.\n"
          ],
          "name": "stdout"
        }
      ]
    },
    {
      "cell_type": "code",
      "metadata": {
        "colab": {
          "base_uri": "https://localhost:8080/"
        },
        "id": "4Q3F6CSgYUM0",
        "outputId": "7f12f6ed-cc5b-4f28-d504-eaea2c5aaaf4"
      },
      "source": [
        "james.pay(10000)"
      ],
      "execution_count": 106,
      "outputs": [
        {
          "output_type": "stream",
          "text": [
            "지갑에 돈이 부족합니다.\n"
          ],
          "name": "stdout"
        }
      ]
    },
    {
      "cell_type": "markdown",
      "metadata": {
        "id": "RbV8iTj6caim"
      },
      "source": [
        "#### Account 클래스 만들기\n",
        "##### 속성\n",
        "  - ano: 문자열 6글자, '123456'\n",
        "  - owner: 문자열\n",
        "  - balance: 잔액, 비공개 속성\n",
        "  ##### Method\n",
        "  - 생성자\n",
        "  - deposit(amount) 잔액이 1000만원 이상이면 입금할 수 없음\n",
        "  - withdraw(amount) 잔액이 0원 미만이면 출금 할 수 없음\n",
        "  - 출력가능하게"
      ]
    },
    {
      "cell_type": "code",
      "metadata": {
        "id": "uNGr7YxIYl1M"
      },
      "source": [
        "class Account:\n",
        "  def __init__(self, ano, owner, balance):\n",
        "    self.ano = ano\n",
        "    self.owner = owner\n",
        "    self.__balance = balance\n",
        "  \n",
        "  def deposit(self, amount):\n",
        "    if self.__balance >= 10000000:\n",
        "      print('계좌잔액이 1000만원 이상이면 더 이상 입금 할 수 없습니다')\n",
        "      return\n",
        "    self.__balance += amount\n",
        "    print(f'계좌 잔액은 {self.__balance:9,d}원입니다.')\n",
        "  \n",
        "  def withdraw(self, amount):\n",
        "    if self.__balance - amount < 0:\n",
        "      print(f'계좌에 잔액이 부족합니다. 현재잔액: {self.__balance:9,d}원')\n",
        "      return\n",
        "    self.__balance -= amount\n",
        "    print(f'계좌 잔액은 {self.__balance:9,d}원입니다.')\n",
        "\n",
        "  def __str__(self):\n",
        "    return f'계좌번호: {self.ano}, 소유주: {self.owner}, 잔액: {self.__balance:10,d}'"
      ],
      "execution_count": 279,
      "outputs": []
    },
    {
      "cell_type": "code",
      "metadata": {
        "id": "V2IFd4sJbsTK"
      },
      "source": [
        "acc = Account('123456', '제임스', 100000)"
      ],
      "execution_count": 280,
      "outputs": []
    },
    {
      "cell_type": "code",
      "metadata": {
        "colab": {
          "base_uri": "https://localhost:8080/"
        },
        "id": "SNhmBIcRb4K5",
        "outputId": "ae2957a1-8c31-4ae1-af5e-460d2442f4ed"
      },
      "source": [
        "print(acc.owner)"
      ],
      "execution_count": 281,
      "outputs": [
        {
          "output_type": "stream",
          "text": [
            "제임스\n"
          ],
          "name": "stdout"
        }
      ]
    },
    {
      "cell_type": "code",
      "metadata": {
        "colab": {
          "base_uri": "https://localhost:8080/"
        },
        "id": "VO4oCnVbb6JL",
        "outputId": "db1b86d6-9c2c-4730-cffd-4a925ba994ad"
      },
      "source": [
        "acc.withdraw(90000000)"
      ],
      "execution_count": 282,
      "outputs": [
        {
          "output_type": "stream",
          "text": [
            "계좌에 잔액이 부족합니다. 현재잔액:   100,000원\n"
          ],
          "name": "stdout"
        }
      ]
    },
    {
      "cell_type": "code",
      "metadata": {
        "id": "-mgdJF5Odv-U"
      },
      "source": [
        "acc2 = Account('987231', '마리아', 3000000)"
      ],
      "execution_count": 283,
      "outputs": []
    },
    {
      "cell_type": "code",
      "metadata": {
        "id": "dvKKgISje_GJ"
      },
      "source": [
        "acc_list = [acc, acc2]"
      ],
      "execution_count": 284,
      "outputs": []
    },
    {
      "cell_type": "code",
      "metadata": {
        "colab": {
          "base_uri": "https://localhost:8080/"
        },
        "id": "Ss9fOYfUfPxw",
        "outputId": "4747747a-1926-45f1-aa26-d354b1b35628"
      },
      "source": [
        "for acc in acc_list:\n",
        "  print(acc)"
      ],
      "execution_count": 285,
      "outputs": [
        {
          "output_type": "stream",
          "text": [
            "계좌번호: 123456, 소유주: 제임스, 잔액:    100,000\n",
            "계좌번호: 987231, 소유주: 마리아, 잔액:  3,000,000\n"
          ],
          "name": "stdout"
        }
      ]
    },
    {
      "cell_type": "markdown",
      "metadata": {
        "id": "rLG4adY6fqwV"
      },
      "source": [
        "### 1. 계좌생성, 2:계좌목록, 3:입금, 4:출금, 5:종료"
      ]
    },
    {
      "cell_type": "code",
      "metadata": {
        "colab": {
          "base_uri": "https://localhost:8080/"
        },
        "id": "um6t-g6jgXck",
        "outputId": "6317bc90-2e58-40db-f0da-cbf6457bfeb2"
      },
      "source": [
        "import random\n",
        "for i in range(10):\n",
        "  print(random.randint(100000, 1000000))"
      ],
      "execution_count": 286,
      "outputs": [
        {
          "output_type": "stream",
          "text": [
            "410500\n",
            "219110\n",
            "965554\n",
            "816276\n",
            "661274\n",
            "937677\n",
            "671490\n",
            "668393\n",
            "872510\n",
            "837049\n"
          ],
          "name": "stdout"
        }
      ]
    },
    {
      "cell_type": "code",
      "metadata": {
        "id": "CNKBUPmpkBbl"
      },
      "source": [
        "import random\n",
        "\n",
        "def creat_acccount():\n",
        "  s = input('계좌번호 이름 금액> ').split()\n",
        "  return Account(s[0], s[1], int(s[2]))\n",
        "\n",
        "\n",
        "def deposit_account():\n",
        "  ano_input = input('돈을 입금할 계좌번호를 입력하여주십시오> ')\n",
        "  for account in acc_list:\n",
        "    if account.ano == ano_input:\n",
        "      amount = int(input('입금할 금액을 입력하여 주십시오. > '))\n",
        "      account.deposit(amount)\n",
        "      return\n",
        "  print(f'{ano_input} 계좌는 존재하지 않습니다.')\n",
        "\n",
        "def withdraw_account():\n",
        "  ano_input = input('돈을 출금할 계좌번호를 입력하여주십시오> ')\n",
        "  for account in acc_list:\n",
        "    if account.ano == ano_input:\n",
        "      amount = int(input('출금할 금액을 입력하여 주십시오. > '))\n",
        "      account.withdraw(amount)\n",
        "      return\n",
        "  print(f'{ano_input} 계좌는 존재하지 않습니다.')"
      ],
      "execution_count": 287,
      "outputs": []
    },
    {
      "cell_type": "code",
      "metadata": {
        "id": "ovMw3aM9tWde"
      },
      "source": [
        "acc_list = []"
      ],
      "execution_count": 288,
      "outputs": []
    },
    {
      "cell_type": "code",
      "metadata": {
        "colab": {
          "base_uri": "https://localhost:8080/"
        },
        "id": "ifaxT-PxfWDp",
        "outputId": "ec8864b7-1643-46e2-ca70-9b8115f063f7"
      },
      "source": [
        "\n",
        "while True:\n",
        "  menu = int(input('1. 계좌생성, 2:계좌목록, 3:입금, 4:출금, 5:종료> '))\n",
        "    \n",
        "  if menu == 1:\n",
        "    acc = creat_acccount()\n",
        "    acc_list.append(acc)\n",
        "\n",
        "  elif menu == 2:    \n",
        "    for acc in acc_list:\n",
        "      print(acc)\n",
        "\n",
        "  elif menu == 3:    \n",
        "    deposit_account()\n",
        "\n",
        "  elif menu == 4:\n",
        "    withdraw_account()\n",
        "  elif menu == 5:\n",
        "    break\n",
        "  else:\n",
        "    print('잘못된 입력입니다.')\n",
        "    continue\n",
        "  print()\n"
      ],
      "execution_count": 293,
      "outputs": [
        {
          "output_type": "stream",
          "text": [
            "1. 계좌생성, 2:계좌목록, 3:입금, 4:출금, 5:종료> 2\n",
            "계좌번호: 123456, 소유주: 김윤현, 잔액:    150,300\n",
            "계좌번호: 189579, 소유주: 현아무, 잔액:    154,800\n",
            "계좌번호: 298678, 소유주: 오나지, 잔액: 10,215,000\n",
            "\n",
            "1. 계좌생성, 2:계좌목록, 3:입금, 4:출금, 5:종료> 4\n",
            "돈을 출금할 계좌번호를 입력하여주십시오> 298678\n",
            "출금할 금액을 입력하여 주십시오. > 215000\n",
            "계좌 잔액은 10,000,000원입니다.\n",
            "\n",
            "1. 계좌생성, 2:계좌목록, 3:입금, 4:출금, 5:종료> 5\n"
          ],
          "name": "stdout"
        }
      ]
    }
  ]
}