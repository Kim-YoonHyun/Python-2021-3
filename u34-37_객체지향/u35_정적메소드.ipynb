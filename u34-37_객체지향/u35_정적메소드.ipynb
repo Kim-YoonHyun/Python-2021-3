{
  "nbformat": 4,
  "nbformat_minor": 0,
  "metadata": {
    "colab": {
      "name": "u35_정적메소드.ipynb",
      "provenance": [],
      "collapsed_sections": []
    },
    "kernelspec": {
      "name": "python3",
      "display_name": "Python 3"
    },
    "language_info": {
      "name": "python"
    }
  },
  "cells": [
    {
      "cell_type": "markdown",
      "metadata": {
        "id": "T73cfvOSBCyl"
      },
      "source": [
        "# Unit 35. 정적 메소드"
      ]
    },
    {
      "cell_type": "code",
      "metadata": {
        "id": "BOguimZtBAmH"
      },
      "source": [
        "class Calc:\n",
        "  @staticmethod\n",
        "  def add(a, b):\n",
        "    print(a + b)"
      ],
      "execution_count": 1,
      "outputs": []
    },
    {
      "cell_type": "code",
      "metadata": {
        "colab": {
          "base_uri": "https://localhost:8080/"
        },
        "id": "g2WLPSI1BaWd",
        "outputId": "b3cc67dd-afda-4486-bc0d-ddd8fb9dfd5f"
      },
      "source": [
        "Calc.add(10, 20)        # 인스턴스 없이 사용 가능한 메소드"
      ],
      "execution_count": 2,
      "outputs": [
        {
          "output_type": "stream",
          "text": [
            "30\n"
          ],
          "name": "stdout"
        }
      ]
    }
  ]
}